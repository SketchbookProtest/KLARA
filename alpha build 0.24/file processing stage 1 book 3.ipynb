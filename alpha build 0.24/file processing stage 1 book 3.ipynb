{
 "cells": [
  {
   "cell_type": "code",
   "execution_count": 1,
   "id": "1726f6c5-0b63-4184-ab57-21fad4577fae",
   "metadata": {},
   "outputs": [],
   "source": [
    "import stanza, re, benepar, psutil, gc, json, csv, time, string, os\n",
    "\n",
    "import numpy as np\n",
    "import networkx as nx\n",
    "import pandas as pd\n",
    "import seaborn as sns\n",
    "\n",
    "from textstat import textstat\n",
    "from datetime import datetime\n",
    "from collections import Counter\n",
    "\n",
    "import spacy\n",
    "from spacy.tokenizer import Tokenizer\n",
    "from spacy.util import compile_infix_regex\n",
    "\n",
    "\n",
    "import nltk\n",
    "from nltk.tokenize import word_tokenize\n",
    "from nltk.corpus import stopwords\n",
    "from nltk.probability import FreqDist\n",
    "from nltk.tokenize import RegexpTokenizer\n",
    "from nltk import Tree\n",
    "from textblob import Word\n",
    "from spellchecker import SpellChecker\n",
    "\n",
    "import matplotlib.pyplot as plt\n",
    "from matplotlib.ticker import LogLocator, LogFormatter"
   ]
  },
  {
   "cell_type": "code",
   "execution_count": null,
   "id": "03f1a91c-73f2-4bb0-a1ff-055c4397e639",
   "metadata": {},
   "outputs": [],
   "source": [
    "# These only need to run once\n",
    "# stanza.download('en')\n",
    "spacy.cli.download(\"en_core_web_sm\")\n",
    "nltk.download('punkt_tab')\n",
    "benepar.download('benepar_en3')"
   ]
  },
  {
   "cell_type": "code",
   "execution_count": 5,
   "id": "b24cd98d-fecd-47ae-934f-11ab9a1d0ef3",
   "metadata": {},
   "outputs": [],
   "source": [
    "source_texts= list()\n",
    "source_texts.append(\"Kazuo Ishiguro - Never Let Me Go\")\n",
    "source_texts.append(\"Kazuo Ishiguro - The Remains of the Day\")\n",
    "source_texts.append(\"Kazuo Ishiguro - A Pale View of Hills-Knopf Doubleday Publishing Group (1990)\")\n",
    "source_texts.append(\"Kazuo-Ishiguro-When-We-Were-Orphans-Alfred-A.-Knopf_Vintage-_2001_\")\n",
    "source_texts.append(\"The Buried Giant (Kazuo Ishiguro) (Z-Library)-1\")\n",
    "source_texts.append(\"Kazuo Ishiguro - The Unconsoled-Vintage (1996)\")\n",
    "directory_path = \"C:/Users/Roland/Documents/AI/stylometry/\"\n"
   ]
  },
  {
   "cell_type": "markdown",
   "id": "a44cd383-7ed8-4a5e-b3a5-689e23bd83fc",
   "metadata": {},
   "source": [
    "Select choice of text by specifying index (starting with 0):"
   ]
  },
  {
   "cell_type": "code",
   "execution_count": 6,
   "id": "e7de0d6d-2d39-4e52-a3eb-ca53e8f885e4",
   "metadata": {},
   "outputs": [],
   "source": [
    "text_choice = 3"
   ]
  },
  {
   "cell_type": "code",
   "execution_count": 144,
   "id": "80bdd75b-df2f-41dd-bbf9-0cbd168b11a0",
   "metadata": {},
   "outputs": [
    {
     "name": "stdout",
     "output_type": "stream",
     "text": [
      "C:/Users/Roland/Documents/AI/stylometry/Kazuo-Ishiguro-When-We-Were-Orphans-Alfred-A.-Knopf_Vintage-_2001_.txt\n",
      "C:/Users/Roland/Documents/AI/stylometry/Kazuo-Ishiguro-When-We-Were-Orphans-Alfred-A.-Knopf_Vintage-_2001_ edited.txt\n",
      "C:/Users/Roland/Documents/AI/stylometry/Kazuo-Ishiguro-When-We-Were-Orphans-Alfred-A.-Knopf_Vintage-_2001_ edited_1.txt\n",
      "C:/Users/Roland/Documents/AI/stylometry/Kazuo-Ishiguro-When-We-Were-Orphans-Alfred-A.-Knopf_Vintage-_2001_ edited_2.txt\n"
     ]
    }
   ],
   "source": [
    "file_path = directory_path+source_texts[text_choice]+\".txt\"\n",
    "file_path_edited = file_path[:-4]+\" edited.txt\"\n",
    "file_path_edited_1 = file_path[:-4]+\" edited_1.txt\"\n",
    "file_path_edited_2 = file_path[:-4]+\" edited_2.txt\"\n",
    "print (file_path)\n",
    "print(file_path_edited)\n",
    "print(file_path_edited_1)\n",
    "print(file_path_edited_2)"
   ]
  },
  {
   "cell_type": "markdown",
   "id": "eb3a424d-a71e-4aec-9c1a-9270c93a1e6a",
   "metadata": {},
   "source": [
    "Try reading the file with different encodings:"
   ]
  },
  {
   "cell_type": "code",
   "execution_count": 8,
   "id": "7517aed2-9b4b-4ab5-831a-a04363879770",
   "metadata": {},
   "outputs": [
    {
     "name": "stdout",
     "output_type": "stream",
     "text": [
      "Successfully read the file with encoding: utf-8 (encoding index 0).  This gives the beginning as:\n",
      "    PART ONE    London, 24th July 1930    Chapter One      It was the summer of 1923, the summer I came down from Cambridge, when despite my aunt’s wishes that I return to Shropshire, I decided my future lay i\n",
      "\n",
      "Failed to read with encoding: ascii\n",
      "Successfully read the file with encoding: latin-1 (encoding index 2).  This gives the beginning as:\n",
      "    PART ONE    London, 24th July 1930    Chapter One      It was the summer of 1923, the summer I came down from Cambridge, when despite my auntâs wishes that I return to Shropshire, I decided my future lay\n",
      "\n",
      "Failed to read with encoding: windows-1252\n",
      "Successfully read the file with encoding: iso-8859-1 (encoding index 4).  This gives the beginning as:\n",
      "    PART ONE    London, 24th July 1930    Chapter One      It was the summer of 1923, the summer I came down from Cambridge, when despite my auntâs wishes that I return to Shropshire, I decided my future lay\n",
      "\n",
      "Successfully read the file with encoding: iso-8859-15 (encoding index 5).  This gives the beginning as:\n",
      "    PART ONE    London, 24th July 1930    Chapter One      It was the summer of 1923, the summer I came down from Cambridge, when despite my auntâs wishes that I return to Shropshire, I decided my future lay\n",
      "\n",
      "valid encodings:  [0, 2, 4, 5]\n"
     ]
    }
   ],
   "source": [
    "encodings = ['utf-8', 'ascii', 'latin-1','windows-1252', 'iso-8859-1', 'iso-8859-15']\n",
    "texts = []\n",
    "valid_encodings = list()\n",
    "for i, encoding in enumerate(encodings):\n",
    "    try:\n",
    "        with open(file_path, 'r', encoding=encoding) as file:\n",
    "            test_text = file.read()\n",
    "        print(\"\"\"Successfully read the file with encoding: {encoding} (encoding index {ind}).  This gives the beginning as:\\n{content}\\n\"\"\".format(encoding=encoding, ind=i, content=test_text[0:200].replace(\"\\n\", \"  \")))\n",
    "        texts.append(test_text)\n",
    "        valid_encodings.append(i)\n",
    "    except UnicodeDecodeError:\n",
    "        print(f\"Failed to read with encoding: {encoding}\")\n",
    "print(\"valid encodings: \",valid_encodings)"
   ]
  },
  {
   "cell_type": "markdown",
   "id": "2821bf5c-eb4a-46cb-abd1-709aef0328e2",
   "metadata": {},
   "source": [
    "Are they the same?"
   ]
  },
  {
   "cell_type": "code",
   "execution_count": 9,
   "id": "8ee204e1-a1a0-45f5-9382-d0878e4852bf",
   "metadata": {},
   "outputs": [
    {
     "name": "stdout",
     "output_type": "stream",
     "text": [
      "text 0 length 579045:-\n",
      "0 True\n",
      "1 False\n",
      "2 False\n",
      "3 False\n",
      "text 1 length 590795:-\n",
      "0 False\n",
      "1 True\n",
      "2 True\n",
      "3 False\n",
      "text 2 length 590795:-\n",
      "0 False\n",
      "1 True\n",
      "2 True\n",
      "3 False\n",
      "text 3 length 590795:-\n",
      "0 False\n",
      "1 False\n",
      "2 False\n",
      "3 True\n"
     ]
    }
   ],
   "source": [
    "for i in range(len(texts)):\n",
    "    print (f\"text {i} length {len(texts[i])}:-\")\n",
    "    for j, t in enumerate(texts):\n",
    "        print (j, t == texts[i])"
   ]
  },
  {
   "cell_type": "markdown",
   "id": "de2a5180-2d17-4288-ae27-43098e4f44d3",
   "metadata": {},
   "source": [
    "Now load text file with selected encoding"
   ]
  },
  {
   "cell_type": "code",
   "execution_count": 10,
   "id": "8836a2e6-ce1c-45fe-8351-fcbdcacafdcc",
   "metadata": {},
   "outputs": [],
   "source": [
    "def check_for_file(file_path):\n",
    "    if os.path.isfile(file_path):\n",
    "        print(\"The file exists.\")\n",
    "    else:\n",
    "        print(\"The file does not exist.\")\n",
    "    \n"
   ]
  },
  {
   "cell_type": "code",
   "execution_count": 12,
   "id": "08dcaae1-ed52-4b44-985e-ebd88433088c",
   "metadata": {},
   "outputs": [
    {
     "name": "stdout",
     "output_type": "stream",
     "text": [
      "The file does not exist.\n"
     ]
    }
   ],
   "source": [
    "check_for_file(file_path_edited)"
   ]
  },
  {
   "cell_type": "code",
   "execution_count": 147,
   "id": "882d4aa6-951a-4b76-891f-280108318805",
   "metadata": {},
   "outputs": [
    {
     "name": "stdout",
     "output_type": "stream",
     "text": [
      "True\n",
      "True\n",
      "True\n",
      "True\n"
     ]
    }
   ],
   "source": [
    "for t in texts:\n",
    "    with open(file_path_edited, 'w', encoding='utf-8') as file:\n",
    "        file.write(t)\n",
    "    with open(file_path_edited, 'r', encoding='utf-8') as file:\n",
    "        text_read = file.read()\n",
    "    print(text_read == t)"
   ]
  },
  {
   "cell_type": "markdown",
   "id": "71addd6f-5e77-4bfa-8de9-518b2f90df1b",
   "metadata": {},
   "source": [
    "Watch out for this character as it is very awkward;"
   ]
  },
  {
   "cell_type": "code",
   "execution_count": null,
   "id": "eeb4237a-9736-4971-b225-3194ecda16de",
   "metadata": {},
   "outputs": [],
   "source": [
    "print(\"first print\")\n",
    "print(ord(\"\\x8e\"))\n",
    "print(\"second print\")\n",
    "print(chr(142))"
   ]
  },
  {
   "cell_type": "markdown",
   "id": "ec9500b2-bd02-4989-91c2-4aa893f1e842",
   "metadata": {},
   "source": [
    "Identify invalid characters using string:  Don't use this one as the later one is better."
   ]
  },
  {
   "cell_type": "code",
   "execution_count": null,
   "id": "bfecc5b2-de8c-412d-acd2-7de0a4756e1c",
   "metadata": {},
   "outputs": [],
   "source": [
    "\n",
    "# Define a string containing only valid characters (alphanumeric + punctuation)\n",
    "valid_chars = string.ascii_letters + string.digits + string.punctuation + \" \" = \"\\n\"\n",
    "\n",
    "# Example text with some invalid characters\n",
    "#test_text = \"This is an example text with invalid characters like Ò, ë, etc.\"\n",
    "test_text = text\n",
    "# Step 1: Identify invalid characters\n",
    "invalid_chars = set([char for char in test_text if char not in valid_chars])\n",
    "\n",
    "# Display the invalid characters found\n",
    "print(f\"Invalid characters found: {invalid_chars}\")\n",
    "\n",
    "# Step 2: Create a dictionary or list of tuples for replacement\n",
    "# For simplicity, let's replace invalid characters with '?'\n",
    "replacement_dict = {char: '?' for char in invalid_chars}\n",
    "\n",
    "# If you want to create a list of tuples instead:\n",
    "replacement_list = [(char, '?') for char in invalid_chars]\n",
    "\n",
    "# Step 3: Replace invalid characters in the text\n",
    "corrected_text = test_text\n",
    "for char, replacement in replacement_dict.items():\n",
    "    corrected_text = corrected_text.replace(char, replacement)\n",
    "\n",
    "# Display the corrected text\n",
    "#print(f\"Corrected text: {corrected_text}\")\n",
    "\n",
    "# Output\n",
    "print(\"Replacement dictionary:\", replacement_dict)\n",
    "print(\"Replacement list of tuples:\", replacement_list)\n"
   ]
  },
  {
   "cell_type": "markdown",
   "id": "418a6b60-87b3-4e53-9ccc-447208da3b3b",
   "metadata": {},
   "source": [
    "Identify invalid characters using regular expressions (re):\n"
   ]
  },
  {
   "cell_type": "code",
   "execution_count": 14,
   "id": "a3c17693-9ca8-4c51-b277-8690bc9422e8",
   "metadata": {},
   "outputs": [
    {
     "name": "stdout",
     "output_type": "stream",
     "text": [
      "invalid characters using re for utf-8: {'*', '“', '‘', '”', '’'}\n",
      "invalid characters using re for latin-1: {'\\x9c', '\\x9d', '*', '\\x80', '\\x98', '¦', '\\x99', 'â'}\n",
      "invalid characters using re for iso-8859-1: {'\\x9c', '\\x9d', '*', '\\x80', '\\x98', '¦', '\\x99', 'â'}\n",
      "invalid characters using re for iso-8859-15: {'\\x9c', '\\x9d', '*', '\\x80', 'Š', '\\x98', '\\x99', 'â'}\n"
     ]
    }
   ],
   "source": [
    "# Define the pattern for valid characters (alphanumeric, spaces, and basic punctuation)\n",
    "valid_char_pattern = re.compile(r'[a-zA-Z0-9\\s.:;,?!\\'\"()£\\-—…&]')\n",
    "\n",
    "re_chars = len(valid_encodings) * [0]\n",
    "\n",
    "for enc, encoding_index in enumerate(valid_encodings):\n",
    "    test_text = texts[enc]\n",
    "\n",
    "# Find invalid characters\n",
    "    invalid_chars = set()\n",
    "    for i, char in enumerate(test_text):\n",
    "        if not valid_char_pattern.match(char):\n",
    "            invalid_chars.add(char)\n",
    "\n",
    "# Output the list of invalid characters and their positions\n",
    "    invalid_char_positions = [(char, [i for i, c in enumerate(test_text) if c == char]) for char in invalid_chars]\n",
    "    print(f\"invalid characters using re for {encodings[encoding_index]}: {invalid_chars}\")\n",
    "#print(invalid_char_positions)\n",
    "    re_chars[enc] = invalid_chars"
   ]
  },
  {
   "cell_type": "code",
   "execution_count": 15,
   "id": "14d38d60-8c60-40c5-b077-39f79fbd4964",
   "metadata": {},
   "outputs": [
    {
     "name": "stdout",
     "output_type": "stream",
     "text": [
      "valid characters used by string: abcdefghijklmnopqrstuvwxyzABCDEFGHIJKLMNOPQRSTUVWXYZ0123456789 !\"#$%&'()*+,-./:;<=>?@[\\]^_`{|}~\n",
      "invalid characters found using string for utf-8: {'“', '”', '‘', '’'}\n",
      "invalid characters found using string for latin-1: {'\\x9c', '\\x9d', '\\x80', '\\x98', '¦', '\\x99', 'â'}\n",
      "invalid characters found using string for iso-8859-1: {'\\x9c', '\\x9d', '\\x80', '\\x98', '¦', '\\x99', 'â'}\n",
      "invalid characters found using string for iso-8859-15: {'\\x9c', '\\x9d', '\\x80', 'Š', '\\x98', '\\x99', 'â'}\n"
     ]
    }
   ],
   "source": [
    "# Define valid characters using the string module\n",
    "valid_chars = string.ascii_letters + string.digits + string.punctuation + \"…—àêé \\n\\t\"\n",
    "valid_chars = ''.join([char for char in valid_chars if char not in \"{}~$%\"])\n",
    "print (f\"valid characters used by string: {string.ascii_letters + string.digits + ' ' + string.punctuation}\")\n",
    "\n",
    "string_chars = len(valid_encodings) * [0]\n",
    "\n",
    "for enc, encoding_index in enumerate(valid_encodings):\n",
    "    test_text = texts[enc]\n",
    "\n",
    "    invalid_chars = set()\n",
    "    for i, char in enumerate(test_text):\n",
    "        if char not in valid_chars:\n",
    "            invalid_chars.add(char)\n",
    "    #invalid_chars.difference_update({\"\\n\",\"\\t\"})\n",
    "\n",
    "    invalid_char_positions = [(char, [i for i, c in enumerate(test_text) if c == char]) for char in invalid_chars]\n",
    "    print(f\"invalid characters found using string for {encodings[encoding_index]}: {invalid_chars}\")\n",
    "#print(invalid_char_positions)\n",
    "    string_chars[enc] = invalid_chars\n",
    "\n"
   ]
  },
  {
   "cell_type": "code",
   "execution_count": 17,
   "id": "1f696189-228c-4c5e-b5c1-0cad2546b4fa",
   "metadata": {},
   "outputs": [
    {
     "name": "stdout",
     "output_type": "stream",
     "text": [
      "157   \n",
      "160    \n",
      "226   â\n",
      "195   Ã\n",
      "37   %\n",
      "148   \n",
      "153   \n",
      "12   \f",
      "\n",
      "152   \n",
      "128   \n",
      "167   §\n",
      "156   \n",
      "162   ¢\n",
      "352   Š\n"
     ]
    }
   ],
   "source": [
    "for char in invalid_chars:\n",
    "    print(ord(char),\" \", char)\n"
   ]
  },
  {
   "cell_type": "code",
   "execution_count": null,
   "id": "1c9aac02-26b0-4ef7-9ea5-7f8a40cd716f",
   "metadata": {},
   "outputs": [],
   "source": [
    "#just a little test:\n",
    "''.join([char for char in \"abcdefgh\" if char not in \"cd\"])"
   ]
  },
  {
   "cell_type": "code",
   "execution_count": null,
   "id": "7ce3f444-d4ac-494d-af07-ed92a5f37028",
   "metadata": {},
   "outputs": [],
   "source": [
    "print(valid_chars)\n",
    "print(ord(valid_chars[68]))  #this is the ' after the & in the list\n",
    "print(ord(valid_chars[-13])) #this is the ` before the { in the list\n",
    "print(ord(\"'\"))\n",
    "print(ord('\"'))\n",
    "print(ord(\"`\"))"
   ]
  },
  {
   "cell_type": "code",
   "execution_count": 16,
   "id": "0a5c39a5-996b-46dd-9240-c473c522bf85",
   "metadata": {},
   "outputs": [],
   "source": [
    "def display_chars(chars, method, unprintable = 142):\n",
    "    number = len(chars)\n",
    "    invalid_chars = '  '.join(char for char in chars)\n",
    "    unprintable_message = \" + unprintable character\" if chr(unprintable) in invalid_chars else \"\"\n",
    "    print(f\"{number} invalid chars found using {method}:  {invalid_chars}{unprintable_message}\")"
   ]
  },
  {
   "cell_type": "code",
   "execution_count": 17,
   "id": "7dd75512-5dd2-4840-8b6b-99f633a983d9",
   "metadata": {},
   "outputs": [
    {
     "name": "stdout",
     "output_type": "stream",
     "text": [
      "with encoding utf-8\n",
      "5 invalid chars found using re   :  *  “  ‘  ”  ’\n",
      "4 invalid chars found using string:  “  ”  ‘  ’\n",
      "\n",
      "1 chars in re but not in string:    *\n",
      "0 chars in string but not in re:    \n",
      "\n",
      "with encoding latin-1\n",
      "8 invalid chars found using re   :      *      ¦    â\n",
      "7 invalid chars found using string:          ¦    â\n",
      "\n",
      "1 chars in re but not in string:    *\n",
      "0 chars in string but not in re:    \n",
      "\n",
      "with encoding iso-8859-1\n",
      "8 invalid chars found using re   :      *      ¦    â\n",
      "7 invalid chars found using string:          ¦    â\n",
      "\n",
      "1 chars in re but not in string:    *\n",
      "0 chars in string but not in re:    \n",
      "\n",
      "with encoding iso-8859-15\n",
      "8 invalid chars found using re   :      *    Š      â\n",
      "7 invalid chars found using string:        Š      â\n",
      "\n",
      "1 chars in re but not in string:    *\n",
      "0 chars in string but not in re:    \n",
      "\n"
     ]
    }
   ],
   "source": [
    "for enc, encoding_index in enumerate(valid_encodings):\n",
    "    print(f\"with encoding {encodings[encoding_index]}\")\n",
    "    \n",
    "    display_chars(re_chars[enc], \"re   \")\n",
    "    display_chars(string_chars[enc], \"string\")\n",
    "        \n",
    "    re_only = re_chars[enc] - string_chars[enc]\n",
    "    string_only = string_chars[enc] - re_chars[enc]\n",
    "    \n",
    "    print(f\"\\n{len(re_only)} chars in re but not in string:    {'  '.join(char for char in re_only)}\")\n",
    "    print(f\"{len(string_only)} chars in string but not in re:    {'  '.join(char for char in string_only)}\\n\")"
   ]
  },
  {
   "cell_type": "code",
   "execution_count": null,
   "id": "a4943f78-e923-466c-bfe4-aced2b8bf091",
   "metadata": {},
   "outputs": [],
   "source": [
    "print(ord(\"é\"))\n",
    "a = \"eé\".encode('utf-8')\n",
    "print(len(a))"
   ]
  },
  {
   "cell_type": "code",
   "execution_count": 18,
   "id": "9f4a4467-62ed-4c1e-99c7-aea755cc5815",
   "metadata": {},
   "outputs": [],
   "source": [
    "def compare_texts(text1, text2):\n",
    "    if len(text1) != len(text2):\n",
    "        #raise ValueError(\"Strings must be of the same length!\")\n",
    "        \n",
    "# Create a list of tuples with differing characters\n",
    "    differences = [(char1, char2) for char1, char2 in zip(text1, text2) if char1 != char2]\n",
    "\n",
    "# Print the list of tuples\n",
    "    print(differences[:100])\n",
    "\n"
   ]
  },
  {
   "cell_type": "code",
   "execution_count": 154,
   "id": "b101aa2e-2dcc-4c47-a0ef-cc19e12be77f",
   "metadata": {},
   "outputs": [],
   "source": [
    "def find_first_difference(text_1, text_2):\n",
    "    i = 0\n",
    "    max_length = min(len(text_1),len(text_2))\n",
    "    while ((text_1[:i] == text_2[:i]) and (i < max_length)):\n",
    "        i = i + 1\n",
    "    if i < max_length:\n",
    "        print (f\"first text, position {i} is {text_1[i]}\")\n",
    "        print(text_1[i:i+20])\n",
    "        print (f\"second text, position {i} is {text_2[i]}\")\n",
    "        print(text_2[i:i+20])\n",
    "    else:\n",
    "        print(\"no differences up to end of the smaller text\")"
   ]
  },
  {
   "cell_type": "code",
   "execution_count": 155,
   "id": "d9f8360c-aa8e-4c31-84ac-bdace25877ff",
   "metadata": {},
   "outputs": [
    {
     "name": "stdout",
     "output_type": "stream",
     "text": [
      "first text, position 137 is s\n",
      "s wishes that I retu\n",
      "second text, position 137 is \n",
      "s wishes that I re\n"
     ]
    }
   ],
   "source": [
    "# compare_texts(texts[0], texts[1])\n",
    "find_first_difference(texts[0],texts[1])"
   ]
  },
  {
   "cell_type": "markdown",
   "id": "68157072-9acd-40f5-9ced-eadab9abb96a",
   "metadata": {},
   "source": [
    "Now we are going to display all the invalid characters in their context to decide what to do about them. We will just do it for one of the versions as they are all the same."
   ]
  },
  {
   "cell_type": "code",
   "execution_count": 20,
   "id": "8131f8a1-ad41-446a-9f61-c4671c500518",
   "metadata": {},
   "outputs": [],
   "source": [
    "def display_invalid_chars(test_text, window_size = 200, max_to_display = 8):\n",
    "# Find all invalid characters and their positions\n",
    "    #valid_chars = string.ascii_letters + string.digits + string.punctuation + \" —…()£-&\\n\\t\"\n",
    "    #print(valid_chars)\n",
    "    invalid_char_positions = [(i, char) for i, char in enumerate(test_text) if char not in valid_chars]\n",
    "                          \n",
    "    icp_list_sorted = sorted(invalid_char_positions,key=lambda x: x[1])\n",
    "    \n",
    "    for pos, char in icp_list_sorted:\n",
    "        start = max(pos - window_size // 2, 0)\n",
    "        end = min(pos + window_size // 2, len(test_text))\n",
    "        window = test_text[start:end]\n",
    "    \n",
    "    # Highlight the invalid character in the window\n",
    "        highlighted_window = window[:pos-start] + f\"[{char}]\" + window[pos-start+1:]\n",
    "        highlighted_window = highlighted_window.replace(\"\\n\", \" \")\n",
    "        highlighted_window = highlighted_window.replace(\"\\t\", \" \")\n",
    "        print(f\"Invalid character '{char}' ({ord(char)}) at position {pos}:\\n{highlighted_window}\\n\")\n",
    "\n",
    "\n"
   ]
  },
  {
   "cell_type": "code",
   "execution_count": 42,
   "id": "a3911099-b442-4a9d-8c95-23b6bd665470",
   "metadata": {},
   "outputs": [],
   "source": [
    "def display_text_in_context(source_text,target_text,window = 50, repeat = False):\n",
    "    ind = source_text.find(target_text)\n",
    "    if not repeat:\n",
    "        if ind != -1:\n",
    "            window = source_text[max(0, ind - window): ind + window + len(target_text)]\n",
    "            window = window.replace(\"\\n\", \" \")\n",
    "            window = window.replace(\"\\t\", \" \")\n",
    "            print(window)\n",
    "        print(\"not found\")\n",
    "    else:\n",
    "        if ind == -1:\n",
    "            print(\"not found\")\n",
    "        while True:\n",
    "            ind = source_text.find(target_text, ind)\n",
    "            if ind == -1:\n",
    "                break\n",
    "            start_window = max(0, ind - window)\n",
    "            end_window = min(len(source_text), ind + len(target_text) + window)\n",
    "            window_text = source_text[start_window:end_window]\n",
    "            print(ind, window_text)\n",
    "            ind += 1  # Move to the next position\n",
    "        \n",
    "        \n",
    "        \n",
    "        \n",
    "#        while ind != -1:\n",
    "#            display_window = source_text[max(0, ind - window): ind + window + len(target_text)]\n",
    "#            display_window = display_window.replace(\"\\n\", \" \")\n",
    "#            display_window = display_window.replace(\"\\t\", \" \")\n",
    "#            print(display_window)\n",
    "#            source_text = source_text[ind:]\n"
   ]
  },
  {
   "cell_type": "code",
   "execution_count": 139,
   "id": "11058467-a900-44e6-9660-cab4f84879b2",
   "metadata": {},
   "outputs": [
    {
     "name": "stdout",
     "output_type": "stream",
     "text": [
      "Invalid character '‘' (8216) at position 2683:\n",
      "e rose and began his pacing again, pronouncing as he did so upon his various plans for the future.  [‘]I’ve a mind to go into publishing, you know. Newspapers, magazines, that sort of thing. In fact, I \n",
      "\n",
      "Invalid character '‘' (8216) at position 3031:\n",
      "ally have no idea what you want to do? Look, it’s all out there for us’ - he indicated the window - [‘]Surely you have some plans.’  ‘I suppose so,’ I said, smiling. ‘I have one or two things in mind. I\n",
      "\n",
      "Invalid character '‘' (8216) at position 3062:\n",
      " to do? Look, it’s all out there for us’ - he indicated the window - ‘Surely you have some plans.’  [‘]I suppose so,’ I said, smiling. ‘I have one or two things in mind. I’ll let you know in good time.’\n",
      "\n",
      "Invalid character '‘' (8216) at position 3095:\n",
      "for us’ - he indicated the window - ‘Surely you have some plans.’  ‘I suppose so,’ I said, smiling. [‘]I have one or two things in mind. I’ll let you know in good time.’  ‘What have you got up your slee\n",
      "\n",
      "Invalid character '‘' (8216) at position 3164:\n",
      " suppose so,’ I said, smiling. ‘I have one or two things in mind. I’ll let you know in good time.’  [‘]What have you got up your sleeve? Come on, out with it! I’ll get it out of you yet!’  But I reveale\n",
      "\n",
      "Invalid character '‘' (8216) at position 3545:\n",
      "ly and began to gather up his belongings.  It was as he was leaving, he turned at the door, saying: [‘]Look, old chap, I meant to say to you. I’m going along tonight to a bash. It’s in honour of Leonard\n",
      "\n",
      "Invalid character '‘' (8216) at position 3969:\n",
      "’ll be at the Charingworth.’  When I did not reply immediately, he took a step towards me and said: [‘]I thought of you because I was remembering. I was remembering how you always used to quiz me about \n",
      "\n",
      "Invalid character '‘' (8216) at position 4382:\n",
      " Banks to see “well connected” for himself.’ Then he shook his head, as though at a memory, saying: [‘]My goodness, you were such an odd bird at school.’  I believe it was at this point I finally assent\n",
      "\n",
      "Invalid character '‘' (8216) at position 4952:\n",
      "ferring to. The fact was, throughout school, I had heard it said repeatedly of Osbourne that he was [‘]well connected’. It was a phrase that came up u\n",
      "\n",
      "Invalid character '’' (8217) at position 136:\n",
      "Chapter One   It was the summer of 1923, the summer I came down from Cambridge, when despite my aunt[’]s wishes that I return to Shropshire, I decided my future lay in the capital and took up a small fl\n",
      "\n",
      "Invalid character '’' (8217) at position 2372:\n",
      "hat of old schoolfriends. I remember we spent a little time discussing the activities of the workers[’] unions, before embarking on a long and enjoyable debate on German philosophy, which enabled us to \n",
      "\n",
      "Invalid character '’' (8217) at position 2685:\n",
      "rose and began his pacing again, pronouncing as he did so upon his various plans for the future.  ‘I[’]ve a mind to go into publishing, you know. Newspapers, magazines, that sort of thing. In fact, I fa\n",
      "\n",
      "Invalid character '’' (8217) at position 2978:\n",
      "t to go into politics myself. I say, Banks, do you really have no idea what you want to do? Look, it[’]s all out there for us’ - he indicated the window - ‘Surely you have some plans.’  ‘I suppose so,’ \n",
      "\n",
      "Invalid character '’' (8217) at position 3001:\n",
      "yself. I say, Banks, do you really have no idea what you want to do? Look, it’s all out there for us[’] - he indicated the window - ‘Surely you have some plans.’  ‘I suppose so,’ I said, smiling. ‘I hav\n",
      "\n",
      "Invalid character '’' (8217) at position 3059:\n",
      "ant to do? Look, it’s all out there for us’ - he indicated the window - ‘Surely you have some plans.[’]  ‘I suppose so,’ I said, smiling. ‘I have one or two things in mind. I’ll let you know in good tim\n",
      "\n",
      "Invalid character '’' (8217) at position 3076:\n",
      "it’s all out there for us’ - he indicated the window - ‘Surely you have some plans.’  ‘I suppose so,[’] I said, smiling. ‘I have one or two things in mind. I’ll let you know in good time.’  ‘What have y\n",
      "\n",
      "Invalid character '’' (8217) at position 3131:\n",
      "‘Surely you have some plans.’  ‘I suppose so,’ I said, smiling. ‘I have one or two things in mind. I[’]ll let you know in good time.’  ‘What have you got up your sleeve? Come on, out with it! I’ll get i\n",
      "\n",
      "Invalid character '’' (8217) at position 3161:\n",
      " ‘I suppose so,’ I said, smiling. ‘I have one or two things in mind. I’ll let you know in good time.[’]  ‘What have you got up your sleeve? Come on, out with it! I’ll get it out of you yet!’  But I reve\n",
      "\n",
      "Invalid character '’' (8217) at position 3222:\n",
      "n mind. I’ll let you know in good time.’  ‘What have you got up your sleeve? Come on, out with it! I[’]ll get it out of you yet!’  But I revealed nothing to him, and before long got him arguing again ab\n",
      "\n",
      "Invalid character '’' (8217) at position 3248:\n",
      "in good time.’  ‘What have you got up your sleeve? Come on, out with it! I’ll get it out of you yet![’]  But I revealed nothing to him, and before long got him arguing again about philosophy or poetry o\n",
      "\n",
      "Invalid character '’' (8217) at position 3586:\n",
      "  It was as he was leaving, he turned at the door, saying: ‘Look, old chap, I meant to say to you. I[’]m going along tonight to a bash. It’s in honour of Leonard Evershott. The tycoon, you know. An uncl\n",
      "\n",
      "Invalid character '’' (8217) at position 3622:\n",
      "d at the door, saying: ‘Look, old chap, I meant to say to you. I’m going along tonight to a bash. It[’]s in honour of Leonard Evershott. The tycoon, you know. An uncle of mine’s giving it. Rather short \n",
      "\n",
      "Invalid character '’' (8217) at position 3695:\n",
      "along tonight to a bash. It’s in honour of Leonard Evershott. The tycoon, you know. An uncle of mine[’]s giving it. Rather short notice, but I wondered if you’d care to come along. I’m quite serious. I’\n",
      "\n",
      "Invalid character '’' (8217) at position 3751:\n",
      "hott. The tycoon, you know. An uncle of mine’s giving it. Rather short notice, but I wondered if you[’]d care to come along. I’m quite serious. I’d been meaning to pop over to you long ago, just never g\n",
      "\n",
      "Invalid character '’' (8217) at position 3775:\n",
      "ow. An uncle of mine’s giving it. Rather short notice, but I wondered if you’d care to come along. I[’]m quite serious. I’d been meaning to pop over to you long ago, just never got round to it. It’ll be\n",
      "\n",
      "Invalid character '’' (8217) at position 3794:\n",
      "e’s giving it. Rather short notice, but I wondered if you’d care to come along. I’m quite serious. I[’]d been meaning to pop over to you long ago, just never got round to it. It’ll be at the Charingwort\n",
      "\n",
      "Invalid character '’' (8217) at position 3869:\n",
      "ong. I’m quite serious. I’d been meaning to pop over to you long ago, just never got round to it. It[’]ll be at the Charingworth.’  When I did not reply immediately, he took a step towards me and said: \n",
      "\n",
      "Invalid character '’' (8217) at position 3896:\n",
      " been meaning to pop over to you long ago, just never got round to it. It’ll be at the Charingworth.[’]  When I did not reply immediately, he took a step towards me and said: ‘I thought of you because I\n",
      "\n",
      "Invalid character '’' (8217) at position 4113:\n",
      " I was remembering how you always used to quiz me about my being “well connected”.  Oh, come on! Don[’]t pretend you’ve forgotten! You used to interrogate me mercilessly. “Well connected? Just what does\n",
      "\n",
      "Invalid character '’' (8217) at position 4127:\n",
      "ring how you always used to quiz me about my being “well connected”.  Oh, come on! Don’t pretend you[’]ve forgotten! You used to interrogate me mercilessly. “Well connected? Just what does (hat mean, we\n",
      "\n",
      "Invalid character '’' (8217) at position 4263:\n",
      "te me mercilessly. “Well connected? Just what does (hat mean, well connected?” Well, I thought, here[’]s a chance for old Banks to see “well connected” for himself.’ Then he shook his head, as though at\n",
      "\n",
      "Invalid character '’' (8217) at position 4325:\n",
      "well connected?” Well, I thought, here’s a chance for old Banks to see “well connected” for himself.[’] Then he shook his head, as though at a memory, saying: ‘My goodness, you were such an odd bird at \n",
      "\n",
      "Invalid character '’' (8217) at position 4432:\n",
      "he shook his head, as though at a memory, saying: ‘My goodness, you were such an odd bird at school.[’]  I believe it was at this point I finally assented to his suggestion for the evening - an evening \n",
      "\n",
      "Invalid character '’' (8217) at position 4967:\n",
      " fact was, throughout school, I had heard it said repeatedly of Osbourne that he was ‘well connected[’]. It was a phrase that came up u\n",
      "\n",
      "Invalid character '“' (8220) at position 4078:\n",
      "t of you because I was remembering. I was remembering how you always used to quiz me about my being [“]well connected”.  Oh, come on! Don’t pretend you’ve forgotten! You used to interrogate me merciless\n",
      "\n",
      "Invalid character '“' (8220) at position 4182:\n",
      "l connected”.  Oh, come on! Don’t pretend you’ve forgotten! You used to interrogate me mercilessly. [“]Well connected? Just what does (hat mean, well connected?” Well, I thought, here’s a chance for old\n",
      "\n",
      "Invalid character '“' (8220) at position 4296:\n",
      "d? Just what does (hat mean, well connected?” Well, I thought, here’s a chance for old Banks to see [“]well connected” for himself.’ Then he shook his head, as though at a memory, saying: ‘My goodness, \n",
      "\n",
      "Invalid character '”' (8221) at position 4093:\n",
      "e I was remembering. I was remembering how you always used to quiz me about my being “well connected[”].  Oh, come on! Don’t pretend you’ve forgotten! You used to interrogate me mercilessly. “Well conne\n",
      "\n",
      "Invalid character '”' (8221) at position 4240:\n",
      "! You used to interrogate me mercilessly. “Well connected? Just what does (hat mean, well connected?[”] Well, I thought, here’s a chance for old Banks to see “well connected” for himself.’ Then he shook\n",
      "\n",
      "Invalid character '”' (8221) at position 4311:\n",
      "es (hat mean, well connected?” Well, I thought, here’s a chance for old Banks to see “well connected[”] for himself.’ Then he shook his head, as though at a memory, saying: ‘My goodness, you were such a\n",
      "\n"
     ]
    }
   ],
   "source": [
    "display_invalid_chars(texts[0][0:5000])"
   ]
  },
  {
   "cell_type": "code",
   "execution_count": 50,
   "id": "250a2b04-4779-4ebd-af3f-b7c416f3183d",
   "metadata": {},
   "outputs": [
    {
     "name": "stdout",
     "output_type": "stream",
     "text": [
      "45959 grasped his hand still sitting. Then I remember him saying: *My poor lad. First your father. Now your mother. Must feel l\n"
     ]
    }
   ],
   "source": [
    "display_text_in_context(texts[0], \"*\", window = 60, repeat = True)"
   ]
  },
  {
   "cell_type": "code",
   "execution_count": 137,
   "id": "46de9dac-7420-405f-bffa-85235686a163",
   "metadata": {},
   "outputs": [
    {
     "name": "stdout",
     "output_type": "stream",
     "text": [
      "Invalid character '' (128) at position 137:\n",
      "hapter One   It was the summer of 1923, the summer I came down from Cambridge, when despite my auntâ[]s wishes that I return to Shropshire, I decided my future lay in the capital and took up a small f\n",
      "\n",
      "Invalid character '' (128) at position 2375:\n",
      "at of old schoolfriends. I remember we spent a little time discussing the activities of the workersâ[] unions, before embarking on a long and enjoyable debate on German philosophy, which enabled us to\n",
      "\n",
      "Invalid character '' (128) at position 2688:\n",
      " rose and began his pacing again, pronouncing as he did so upon his various plans for the future.  â[]Iâve a mind to go into publishing, you know. Newspapers, magazines, that sort of thing. In fact,\n",
      "\n",
      "Invalid character '' (128) at position 2692:\n",
      "e and began his pacing again, pronouncing as he did so upon his various plans for the future.  âIâ[]ve a mind to go into publishing, you know. Newspapers, magazines, that sort of thing. In fact, I f\n",
      "\n",
      "Invalid character '' (128) at position 2987:\n",
      " to go into politics myself. I say, Banks, do you really have no idea what you want to do? Look, itâ[]s all out there for usâ - he indicated the window - âSurely you have some plans.â  âI supp\n",
      "\n",
      "Invalid character '' (128) at position 3012:\n",
      "lf. I say, Banks, do you really have no idea what you want to do? Look, itâs all out there for usâ[] - he indicated the window - âSurely you have some plans.â  âI suppose so,â I said, smilin\n",
      "\n",
      "Invalid character '' (128) at position 3044:\n",
      "have no idea what you want to do? Look, itâs all out there for usâ - he indicated the window - â[]Surely you have some plans.â  âI suppose so,â I said, smiling. âI have one or two things i\n",
      "\n",
      "Invalid character '' (128) at position 3074:\n",
      "do? Look, itâs all out there for usâ - he indicated the window - âSurely you have some plans.â[]  âI suppose so,â I said, smiling. âI have one or two things in mind. Iâll let you know in\n",
      "\n",
      "Invalid character '' (128) at position 3079:\n",
      "ook, itâs all out there for usâ - he indicated the window - âSurely you have some plans.â  â[]I suppose so,â I said, smiling. âI have one or two things in mind. Iâll let you know in good\n",
      "\n",
      "Invalid character '' (128) at position 3095:\n",
      "out there for usâ - he indicated the window - âSurely you have some plans.â  âI suppose so,â[] I said, smiling. âI have one or two things in mind. Iâll let you know in good time.â  âWh\n",
      "\n",
      "Invalid character '' (128) at position 3116:\n",
      " he indicated the window - âSurely you have some plans.â  âI suppose so,â I said, smiling. â[]I have one or two things in mind. Iâll let you know in good time.â  âWhat have you got up yo\n",
      "\n",
      "Invalid character '' (128) at position 3154:\n",
      "ou have some plans.â  âI suppose so,â I said, smiling. âI have one or two things in mind. Iâ[]ll let you know in good time.â  âWhat have you got up your sleeve? Come on, out with it! Iâl\n",
      "\n",
      "Invalid character '' (128) at position 3186:\n",
      "pose so,â I said, smiling. âI have one or two things in mind. Iâll let you know in good time.â[]  âWhat have you got up your sleeve? Come on, out with it! Iâll get it out of you yet!â  But\n",
      "\n",
      "Invalid character '' (128) at position 3191:\n",
      "so,â I said, smiling. âI have one or two things in mind. Iâll let you know in good time.â  â[]What have you got up your sleeve? Come on, out with it! Iâll get it out of you yet!â  But I re\n",
      "\n",
      "Invalid character '' (128) at position 3251:\n",
      " Iâll let you know in good time.â  âWhat have you got up your sleeve? Come on, out with it! Iâ[]ll get it out of you yet!â  But I revealed nothing to him, and before long got him arguing again\n",
      "\n",
      "Invalid character '' (128) at position 3279:\n",
      " time.â  âWhat have you got up your sleeve? Come on, out with it! Iâll get it out of you yet!â[]  But I revealed nothing to him, and before long got him arguing again about philosophy or poetry \n",
      "\n",
      "Invalid character '' (128) at position 3578:\n",
      "y and began to gather up his belongings.  It was as he was leaving, he turned at the door, saying: â[]Look, old chap, I meant to say to you. Iâm going along tonight to a bash. Itâs in honour of Le\n",
      "\n",
      "Invalid character '' (128) at position 3621:\n",
      "t was as he was leaving, he turned at the door, saying: âLook, old chap, I meant to say to you. Iâ[]m going along tonight to a bash. Itâs in honour of Leonard Evershott. The tycoon, you know. An u\n",
      "\n",
      "Invalid character '' (128) at position 3659:\n",
      "the door, saying: âLook, old chap, I meant to say to you. Iâm going along tonight to a bash. Itâ[]s in honour of Leonard Evershott. The tycoon, you know. An uncle of mineâs giving it. Rather sho\n",
      "\n",
      "Invalid character '' (128) at position 3734:\n",
      "ng tonight to a bash. Itâs in honour of Leonard Evershott. The tycoon, you know. An uncle of mineâ[]s giving it. Rather short notice, but I wondered if youâd care to come along. Iâm quite seriou\n",
      "\n",
      "Invalid character '' (128) at position 3792:\n",
      "t. The tycoon, you know. An uncle of mineâs giving it. Rather short notice, but I wondered if youâ[]d care to come along. Iâm quite serious. Iâd been meaning to pop over to you long ago, just ne\n",
      "\n",
      "Invalid character '' (128) at position 3818:\n",
      "n uncle of mineâs giving it. Rather short notice, but I wondered if youâd care to come along. Iâ[]m quite serious. Iâd been meaning to pop over to you long ago, just never got round to it. Itâ\n",
      "\n",
      "Invalid character '' (128) at position 3839:\n",
      "iving it. Rather short notice, but I wondered if youâd care to come along. Iâm quite serious. Iâ[]d been meaning to pop over to you long ago, just never got round to it. Itâll be at the Charingw\n",
      "\n",
      "Invalid character '' (128) at position 3916:\n",
      "Iâm quite serious. Iâd been meaning to pop over to you long ago, just never got round to it. Itâ[]ll be at the Charingworth.â  When I did not reply immediately, he took a step towards me and sai\n",
      "\n",
      "Invalid character '' (128) at position 3945:\n",
      "en meaning to pop over to you long ago, just never got round to it. Itâll be at the Charingworth.â[]  When I did not reply immediately, he took a step towards me and said: âI thought of you becaus\n",
      "\n",
      "Invalid character '' (128) at position 4020:\n",
      " be at the Charingworth.â  When I did not reply immediately, he took a step towards me and said: â[]I thought of you because I was remembering. I was remembering how you always used to quiz me about\n",
      "\n",
      "Invalid character '' (128) at position 4131:\n",
      " of you because I was remembering. I was remembering how you always used to quiz me about my being â[]well connectedâ.  Oh, come on! Donât pretend youâve forgotten! You used to interrogate me me\n",
      "\n",
      "Invalid character '' (128) at position 4148:\n",
      " was remembering. I was remembering how you always used to quiz me about my being âwell connectedâ[].  Oh, come on! Donât pretend youâve forgotten! You used to interrogate me mercilessly. âWel\n",
      "\n",
      "Invalid character '' (128) at position 4170:\n",
      "s remembering how you always used to quiz me about my being âwell connectedâ.  Oh, come on! Donâ[]t pretend youâve forgotten! You used to interrogate me mercilessly. âWell connected? Just what\n",
      "\n",
      "Invalid character '' (128) at position 4186:\n",
      "w you always used to quiz me about my being âwell connectedâ.  Oh, come on! Donât pretend youâ[]ve forgotten! You used to interrogate me mercilessly. âWell connected? Just what does (hat mean,\n",
      "\n",
      "Invalid character '' (128) at position 4243:\n",
      "ctedâ.  Oh, come on! Donât pretend youâve forgotten! You used to interrogate me mercilessly. â[]Well connected? Just what does (hat mean, well connected?â Well, I thought, hereâs a chance fo\n",
      "\n",
      "Invalid character '' (128) at position 4303:\n",
      "ou used to interrogate me mercilessly. âWell connected? Just what does (hat mean, well connected?â[] Well, I thought, hereâs a chance for old Banks to see âwell connectedâ for himself.â Then\n",
      "\n",
      "Invalid character '' (128) at position 4328:\n",
      " mercilessly. âWell connected? Just what does (hat mean, well connected?â Well, I thought, hereâ[]s a chance for old Banks to see âwell connectedâ for himself.â Then he shook his head, as th\n",
      "\n",
      "Invalid character '' (128) at position 4363:\n",
      "st what does (hat mean, well connected?â Well, I thought, hereâs a chance for old Banks to see â[]well connectedâ for himself.â Then he shook his head, as though at a memory, saying: âMy goo\n",
      "\n",
      "Invalid character '' (128) at position 4380:\n",
      " mean, well connected?â Well, I thought, hereâs a chance for old Banks to see âwell connectedâ[] for himself.â Then he shook his head, as though at a memory, saying: âMy goodness, you were s\n",
      "\n",
      "Invalid character '' (128) at position 4396:\n",
      "ected?â Well, I thought, hereâs a chance for old Banks to see âwell connectedâ for himself.â[] Then he shook his head, as though at a memory, saying: âMy goodness, you were such an odd bird \n",
      "\n",
      "Invalid character '' (128) at position 4455:\n",
      "to see âwell connectedâ for himself.â Then he shook his head, as though at a memory, saying: â[]My goodness, you were such an odd bird at school.â  I believe it was at this point I finally ass\n",
      "\n",
      "Invalid character '' (128) at position 4507:\n",
      "shook his head, as though at a memory, saying: âMy goodness, you were such an odd bird at school.â[]  I believe it was at this point I finally assented to his suggestion for the evening - an evening\n",
      "\n",
      "Invalid character '' (152) at position 2689:\n",
      "rose and began his pacing again, pronouncing as he did so upon his various plans for the future.  â[]Iâve a mind to go into publishing, you know. Newspapers, magazines, that sort of thing. In fact, \n",
      "\n",
      "Invalid character '' (152) at position 3045:\n",
      "ave no idea what you want to do? Look, itâs all out there for usâ - he indicated the window - â[]Surely you have some plans.â  âI suppose so,â I said, smiling. âI have one or two things in\n",
      "\n",
      "Invalid character '' (152) at position 3080:\n",
      "ok, itâs all out there for usâ - he indicated the window - âSurely you have some plans.â  â[]I suppose so,â I said, smiling. âI have one or two things in mind. Iâll let you know in good \n",
      "\n",
      "Invalid character '' (152) at position 3117:\n",
      "he indicated the window - âSurely you have some plans.â  âI suppose so,â I said, smiling. â[]I have one or two things in mind. Iâll let you know in good time.â  âWhat have you got up you\n",
      "\n",
      "Invalid character '' (152) at position 3192:\n",
      "o,â I said, smiling. âI have one or two things in mind. Iâll let you know in good time.â  â[]What have you got up your sleeve? Come on, out with it! Iâll get it out of you yet!â  But I rev\n",
      "\n",
      "Invalid character '' (152) at position 3579:\n",
      " and began to gather up his belongings.  It was as he was leaving, he turned at the door, saying: â[]Look, old chap, I meant to say to you. Iâm going along tonight to a bash. Itâs in honour of Leo\n",
      "\n",
      "Invalid character '' (152) at position 4021:\n",
      "be at the Charingworth.â  When I did not reply immediately, he took a step towards me and said: â[]I thought of you because I was remembering. I was remembering how you always used to quiz me about \n",
      "\n",
      "Invalid character '' (152) at position 4456:\n",
      "o see âwell connectedâ for himself.â Then he shook his head, as though at a memory, saying: â[]My goodness, you were such an odd bird at school.â  I believe it was at this point I finally asse\n",
      "\n",
      "Invalid character '' (153) at position 138:\n",
      "apter One   It was the summer of 1923, the summer I came down from Cambridge, when despite my auntâ[]s wishes that I return to Shropshire, I decided my future lay in the capital and took up a small fl\n",
      "\n",
      "Invalid character '' (153) at position 2376:\n",
      "t of old schoolfriends. I remember we spent a little time discussing the activities of the workersâ[] unions, before embarking on a long and enjoyable debate on German philosophy, which enabled us to \n",
      "\n",
      "Invalid character '' (153) at position 2693:\n",
      " and began his pacing again, pronouncing as he did so upon his various plans for the future.  âIâ[]ve a mind to go into publishing, you know. Newspapers, magazines, that sort of thing. In fact, I fa\n",
      "\n",
      "Invalid character '' (153) at position 2988:\n",
      "to go into politics myself. I say, Banks, do you really have no idea what you want to do? Look, itâ[]s all out there for usâ - he indicated the window - âSurely you have some plans.â  âI suppo\n",
      "\n",
      "Invalid character '' (153) at position 3013:\n",
      "f. I say, Banks, do you really have no idea what you want to do? Look, itâs all out there for usâ[] - he indicated the window - âSurely you have some plans.â  âI suppose so,â I said, smiling\n",
      "\n",
      "Invalid character '' (153) at position 3075:\n",
      "o? Look, itâs all out there for usâ - he indicated the window - âSurely you have some plans.â[]  âI suppose so,â I said, smiling. âI have one or two things in mind. Iâll let you know in \n",
      "\n",
      "Invalid character '' (153) at position 3096:\n",
      "ut there for usâ - he indicated the window - âSurely you have some plans.â  âI suppose so,â[] I said, smiling. âI have one or two things in mind. Iâll let you know in good time.â  âWha\n",
      "\n",
      "Invalid character '' (153) at position 3155:\n",
      "u have some plans.â  âI suppose so,â I said, smiling. âI have one or two things in mind. Iâ[]ll let you know in good time.â  âWhat have you got up your sleeve? Come on, out with it! Iâll\n",
      "\n",
      "Invalid character '' (153) at position 3187:\n",
      "ose so,â I said, smiling. âI have one or two things in mind. Iâll let you know in good time.â[]  âWhat have you got up your sleeve? Come on, out with it! Iâll get it out of you yet!â  But \n",
      "\n",
      "Invalid character '' (153) at position 3252:\n",
      "Iâll let you know in good time.â  âWhat have you got up your sleeve? Come on, out with it! Iâ[]ll get it out of you yet!â  But I revealed nothing to him, and before long got him arguing again \n",
      "\n",
      "Invalid character '' (153) at position 3280:\n",
      "time.â  âWhat have you got up your sleeve? Come on, out with it! Iâll get it out of you yet!â[]  But I revealed nothing to him, and before long got him arguing again about philosophy or poetry o\n",
      "\n",
      "Invalid character '' (153) at position 3622:\n",
      " was as he was leaving, he turned at the door, saying: âLook, old chap, I meant to say to you. Iâ[]m going along tonight to a bash. Itâs in honour of Leonard Evershott. The tycoon, you know. An un\n",
      "\n",
      "Invalid character '' (153) at position 3660:\n",
      "he door, saying: âLook, old chap, I meant to say to you. Iâm going along tonight to a bash. Itâ[]s in honour of Leonard Evershott. The tycoon, you know. An uncle of mineâs giving it. Rather shor\n",
      "\n",
      "Invalid character '' (153) at position 3735:\n",
      "g tonight to a bash. Itâs in honour of Leonard Evershott. The tycoon, you know. An uncle of mineâ[]s giving it. Rather short notice, but I wondered if youâd care to come along. Iâm quite serious\n",
      "\n",
      "Invalid character '' (153) at position 3793:\n",
      ". The tycoon, you know. An uncle of mineâs giving it. Rather short notice, but I wondered if youâ[]d care to come along. Iâm quite serious. Iâd been meaning to pop over to you long ago, just nev\n",
      "\n",
      "Invalid character '' (153) at position 3819:\n",
      " uncle of mineâs giving it. Rather short notice, but I wondered if youâd care to come along. Iâ[]m quite serious. Iâd been meaning to pop over to you long ago, just never got round to it. Itâl\n",
      "\n",
      "Invalid character '' (153) at position 3840:\n",
      "ving it. Rather short notice, but I wondered if youâd care to come along. Iâm quite serious. Iâ[]d been meaning to pop over to you long ago, just never got round to it. Itâll be at the Charingwo\n",
      "\n",
      "Invalid character '' (153) at position 3917:\n",
      "âm quite serious. Iâd been meaning to pop over to you long ago, just never got round to it. Itâ[]ll be at the Charingworth.â  When I did not reply immediately, he took a step towards me and said\n",
      "\n",
      "Invalid character '' (153) at position 3946:\n",
      "n meaning to pop over to you long ago, just never got round to it. Itâll be at the Charingworth.â[]  When I did not reply immediately, he took a step towards me and said: âI thought of you because\n",
      "\n",
      "Invalid character '' (153) at position 4171:\n",
      " remembering how you always used to quiz me about my being âwell connectedâ.  Oh, come on! Donâ[]t pretend youâve forgotten! You used to interrogate me mercilessly. âWell connected? Just what \n",
      "\n",
      "Invalid character '' (153) at position 4187:\n",
      " you always used to quiz me about my being âwell connectedâ.  Oh, come on! Donât pretend youâ[]ve forgotten! You used to interrogate me mercilessly. âWell connected? Just what does (hat mean, \n",
      "\n",
      "Invalid character '' (153) at position 4329:\n",
      "mercilessly. âWell connected? Just what does (hat mean, well connected?â Well, I thought, hereâ[]s a chance for old Banks to see âwell connectedâ for himself.â Then he shook his head, as tho\n",
      "\n",
      "Invalid character '' (153) at position 4397:\n",
      "cted?â Well, I thought, hereâs a chance for old Banks to see âwell connectedâ for himself.â[] Then he shook his head, as though at a memory, saying: âMy goodness, you were such an odd bird a\n",
      "\n",
      "Invalid character '' (153) at position 4508:\n",
      "hook his head, as though at a memory, saying: âMy goodness, you were such an odd bird at school.â[]  I believe it was at this point I finally assented to his suggestion for the evening - an evening \n",
      "\n",
      "Invalid character '' (156) at position 4132:\n",
      "of you because I was remembering. I was remembering how you always used to quiz me about my being â[]well connectedâ.  Oh, come on! Donât pretend youâve forgotten! You used to interrogate me mer\n",
      "\n",
      "Invalid character '' (156) at position 4244:\n",
      "tedâ.  Oh, come on! Donât pretend youâve forgotten! You used to interrogate me mercilessly. â[]Well connected? Just what does (hat mean, well connected?â Well, I thought, hereâs a chance for\n",
      "\n",
      "Invalid character '' (156) at position 4364:\n",
      "t what does (hat mean, well connected?â Well, I thought, hereâs a chance for old Banks to see â[]well connectedâ for himself.â Then he shook his head, as though at a memory, saying: âMy good\n",
      "\n",
      "Invalid character '' (157) at position 4149:\n",
      "was remembering. I was remembering how you always used to quiz me about my being âwell connectedâ[].  Oh, come on! Donât pretend youâve forgotten! You used to interrogate me mercilessly. âWell\n",
      "\n",
      "Invalid character '' (157) at position 4304:\n",
      "u used to interrogate me mercilessly. âWell connected? Just what does (hat mean, well connected?â[] Well, I thought, hereâs a chance for old Banks to see âwell connectedâ for himself.â Then \n",
      "\n",
      "Invalid character '' (157) at position 4381:\n",
      "mean, well connected?â Well, I thought, hereâs a chance for old Banks to see âwell connectedâ[] for himself.â Then he shook his head, as though at a memory, saying: âMy goodness, you were su\n",
      "\n",
      "Invalid character 'â' (226) at position 136:\n",
      "Chapter One   It was the summer of 1923, the summer I came down from Cambridge, when despite my aunt[â]s wishes that I return to Shropshire, I decided my future lay in the capital and took up a small \n",
      "\n",
      "Invalid character 'â' (226) at position 2374:\n",
      "hat of old schoolfriends. I remember we spent a little time discussing the activities of the workers[â] unions, before embarking on a long and enjoyable debate on German philosophy, which enabled us t\n",
      "\n",
      "Invalid character 'â' (226) at position 2687:\n",
      "e rose and began his pacing again, pronouncing as he did so upon his various plans for the future.  [â]Iâve a mind to go into publishing, you know. Newspapers, magazines, that sort of thing. In fact\n",
      "\n",
      "Invalid character 'â' (226) at position 2691:\n",
      "se and began his pacing again, pronouncing as he did so upon his various plans for the future.  âI[â]ve a mind to go into publishing, you know. Newspapers, magazines, that sort of thing. In fact, I \n",
      "\n",
      "Invalid character 'â' (226) at position 2986:\n",
      "t to go into politics myself. I say, Banks, do you really have no idea what you want to do? Look, it[â]s all out there for usâ - he indicated the window - âSurely you have some plans.â  âI sup\n",
      "\n",
      "Invalid character 'â' (226) at position 3011:\n",
      "elf. I say, Banks, do you really have no idea what you want to do? Look, itâs all out there for us[â] - he indicated the window - âSurely you have some plans.â  âI suppose so,â I said, smili\n",
      "\n",
      "Invalid character 'â' (226) at position 3043:\n",
      " have no idea what you want to do? Look, itâs all out there for usâ - he indicated the window - [â]Surely you have some plans.â  âI suppose so,â I said, smiling. âI have one or two things \n",
      "\n",
      "Invalid character 'â' (226) at position 3073:\n",
      " do? Look, itâs all out there for usâ - he indicated the window - âSurely you have some plans.[â]  âI suppose so,â I said, smiling. âI have one or two things in mind. Iâll let you know i\n",
      "\n",
      "Invalid character 'â' (226) at position 3078:\n",
      "Look, itâs all out there for usâ - he indicated the window - âSurely you have some plans.â  [â]I suppose so,â I said, smiling. âI have one or two things in mind. Iâll let you know in goo\n",
      "\n",
      "Invalid character 'â' (226) at position 3094:\n",
      " out there for usâ - he indicated the window - âSurely you have some plans.â  âI suppose so,[â] I said, smiling. âI have one or two things in mind. Iâll let you know in good time.â  âW\n",
      "\n",
      "Invalid character 'â' (226) at position 3115:\n",
      "- he indicated the window - âSurely you have some plans.â  âI suppose so,â I said, smiling. [â]I have one or two things in mind. Iâll let you know in good time.â  âWhat have you got up y\n",
      "\n",
      "Invalid character 'â' (226) at position 3153:\n",
      "you have some plans.â  âI suppose so,â I said, smiling. âI have one or two things in mind. I[â]ll let you know in good time.â  âWhat have you got up your sleeve? Come on, out with it! Iâ\n",
      "\n",
      "Invalid character 'â' (226) at position 3185:\n",
      "ppose so,â I said, smiling. âI have one or two things in mind. Iâll let you know in good time.[â]  âWhat have you got up your sleeve? Come on, out with it! Iâll get it out of you yet!â  Bu\n",
      "\n",
      "Invalid character 'â' (226) at position 3190:\n",
      " so,â I said, smiling. âI have one or two things in mind. Iâll let you know in good time.â  [â]What have you got up your sleeve? Come on, out with it! Iâll get it out of you yet!â  But I r\n",
      "\n",
      "Invalid character 'â' (226) at position 3250:\n",
      ". Iâll let you know in good time.â  âWhat have you got up your sleeve? Come on, out with it! I[â]ll get it out of you yet!â  But I revealed nothing to him, and before long got him arguing agai\n",
      "\n",
      "Invalid character 'â' (226) at position 3278:\n",
      "d time.â  âWhat have you got up your sleeve? Come on, out with it! Iâll get it out of you yet![â]  But I revealed nothing to him, and before long got him arguing again about philosophy or poetry\n",
      "\n",
      "Invalid character 'â' (226) at position 3577:\n",
      "ly and began to gather up his belongings.  It was as he was leaving, he turned at the door, saying: [â]Look, old chap, I meant to say to you. Iâm going along tonight to a bash. Itâs in honour of L\n",
      "\n",
      "Invalid character 'â' (226) at position 3620:\n",
      "It was as he was leaving, he turned at the door, saying: âLook, old chap, I meant to say to you. I[â]m going along tonight to a bash. Itâs in honour of Leonard Evershott. The tycoon, you know. An \n",
      "\n",
      "Invalid character 'â' (226) at position 3658:\n",
      " the door, saying: âLook, old chap, I meant to say to you. Iâm going along tonight to a bash. It[â]s in honour of Leonard Evershott. The tycoon, you know. An uncle of mineâs giving it. Rather sh\n",
      "\n",
      "Invalid character 'â' (226) at position 3733:\n",
      "ong tonight to a bash. Itâs in honour of Leonard Evershott. The tycoon, you know. An uncle of mine[â]s giving it. Rather short notice, but I wondered if youâd care to come along. Iâm quite serio\n",
      "\n",
      "Invalid character 'â' (226) at position 3791:\n",
      "tt. The tycoon, you know. An uncle of mineâs giving it. Rather short notice, but I wondered if you[â]d care to come along. Iâm quite serious. Iâd been meaning to pop over to you long ago, just n\n",
      "\n",
      "Invalid character 'â' (226) at position 3817:\n",
      "An uncle of mineâs giving it. Rather short notice, but I wondered if youâd care to come along. I[â]m quite serious. Iâd been meaning to pop over to you long ago, just never got round to it. Itâ\n",
      "\n",
      "Invalid character 'â' (226) at position 3838:\n",
      "giving it. Rather short notice, but I wondered if youâd care to come along. Iâm quite serious. I[â]d been meaning to pop over to you long ago, just never got round to it. Itâll be at the Charing\n",
      "\n",
      "Invalid character 'â' (226) at position 3915:\n",
      " Iâm quite serious. Iâd been meaning to pop over to you long ago, just never got round to it. It[â]ll be at the Charingworth.â  When I did not reply immediately, he took a step towards me and sa\n",
      "\n",
      "Invalid character 'â' (226) at position 3944:\n",
      "een meaning to pop over to you long ago, just never got round to it. Itâll be at the Charingworth.[â]  When I did not reply immediately, he took a step towards me and said: âI thought of you becau\n",
      "\n",
      "Invalid character 'â' (226) at position 4019:\n",
      "l be at the Charingworth.â  When I did not reply immediately, he took a step towards me and said: [â]I thought of you because I was remembering. I was remembering how you always used to quiz me abou\n",
      "\n",
      "Invalid character 'â' (226) at position 4130:\n",
      "t of you because I was remembering. I was remembering how you always used to quiz me about my being [â]well connectedâ.  Oh, come on! Donât pretend youâve forgotten! You used to interrogate me m\n",
      "\n",
      "Invalid character 'â' (226) at position 4147:\n",
      "I was remembering. I was remembering how you always used to quiz me about my being âwell connected[â].  Oh, come on! Donât pretend youâve forgotten! You used to interrogate me mercilessly. âWe\n",
      "\n",
      "Invalid character 'â' (226) at position 4169:\n",
      "as remembering how you always used to quiz me about my being âwell connectedâ.  Oh, come on! Don[â]t pretend youâve forgotten! You used to interrogate me mercilessly. âWell connected? Just wha\n",
      "\n",
      "Invalid character 'â' (226) at position 4185:\n",
      "ow you always used to quiz me about my being âwell connectedâ.  Oh, come on! Donât pretend you[â]ve forgotten! You used to interrogate me mercilessly. âWell connected? Just what does (hat mean\n",
      "\n",
      "Invalid character 'â' (226) at position 4242:\n",
      "ectedâ.  Oh, come on! Donât pretend youâve forgotten! You used to interrogate me mercilessly. [â]Well connected? Just what does (hat mean, well connected?â Well, I thought, hereâs a chance f\n",
      "\n",
      "Invalid character 'â' (226) at position 4302:\n",
      "You used to interrogate me mercilessly. âWell connected? Just what does (hat mean, well connected?[â] Well, I thought, hereâs a chance for old Banks to see âwell connectedâ for himself.â The\n",
      "\n",
      "Invalid character 'â' (226) at position 4327:\n",
      "e mercilessly. âWell connected? Just what does (hat mean, well connected?â Well, I thought, here[â]s a chance for old Banks to see âwell connectedâ for himself.â Then he shook his head, as t\n",
      "\n",
      "Invalid character 'â' (226) at position 4362:\n",
      "ust what does (hat mean, well connected?â Well, I thought, hereâs a chance for old Banks to see [â]well connectedâ for himself.â Then he shook his head, as though at a memory, saying: âMy go\n",
      "\n",
      "Invalid character 'â' (226) at position 4379:\n",
      "t mean, well connected?â Well, I thought, hereâs a chance for old Banks to see âwell connected[â] for himself.â Then he shook his head, as though at a memory, saying: âMy goodness, you were \n",
      "\n",
      "Invalid character 'â' (226) at position 4395:\n",
      "nected?â Well, I thought, hereâs a chance for old Banks to see âwell connectedâ for himself.[â] Then he shook his head, as though at a memory, saying: âMy goodness, you were such an odd bird\n",
      "\n",
      "Invalid character 'â' (226) at position 4454:\n",
      " to see âwell connectedâ for himself.â Then he shook his head, as though at a memory, saying: [â]My goodness, you were such an odd bird at school.â  I believe it was at this point I finally as\n",
      "\n",
      "Invalid character 'â' (226) at position 4506:\n",
      " shook his head, as though at a memory, saying: âMy goodness, you were such an odd bird at school.[â]  I believe it was at this point I finally assented to his suggestion for the evening - an evenin\n",
      "\n"
     ]
    }
   ],
   "source": [
    "display_invalid_chars(texts[1][0:5000])"
   ]
  },
  {
   "cell_type": "code",
   "execution_count": 32,
   "id": "d3372624-e4bc-445a-a1e0-9203614d5c96",
   "metadata": {},
   "outputs": [
    {
     "name": "stderr",
     "output_type": "stream",
     "text": [
      "IOPub data rate exceeded.\n",
      "The Jupyter server will temporarily stop sending output\n",
      "to the client in order to avoid crashing it.\n",
      "To change this limit, set the config variable\n",
      "`--ServerApp.iopub_data_rate_limit`.\n",
      "\n",
      "Current values:\n",
      "ServerApp.iopub_data_rate_limit=1000000.0 (bytes/sec)\n",
      "ServerApp.rate_limit_window=3.0 (secs)\n",
      "\n"
     ]
    }
   ],
   "source": [
    "display_invalid_chars(texts[2])"
   ]
  },
  {
   "cell_type": "code",
   "execution_count": 33,
   "id": "06992110-3574-4ff8-ad08-f7e4bfbed4b2",
   "metadata": {},
   "outputs": [
    {
     "name": "stderr",
     "output_type": "stream",
     "text": [
      "IOPub data rate exceeded.\n",
      "The Jupyter server will temporarily stop sending output\n",
      "to the client in order to avoid crashing it.\n",
      "To change this limit, set the config variable\n",
      "`--ServerApp.iopub_data_rate_limit`.\n",
      "\n",
      "Current values:\n",
      "ServerApp.iopub_data_rate_limit=1000000.0 (bytes/sec)\n",
      "ServerApp.rate_limit_window=3.0 (secs)\n",
      "\n"
     ]
    }
   ],
   "source": [
    "display_invalid_chars(texts[3])"
   ]
  },
  {
   "cell_type": "code",
   "execution_count": null,
   "id": "2cc55f3e-890a-4a9b-89df-e9c29b35f5cb",
   "metadata": {},
   "outputs": [],
   "source": [
    "print(\"€\" in texts[3])\n",
    "print(texts[3][246245])"
   ]
  },
  {
   "cell_type": "code",
   "execution_count": 24,
   "id": "e8e97ed5-6248-414c-88cc-c54eb7361765",
   "metadata": {},
   "outputs": [],
   "source": [
    "# Function to find and replace specified strings in a text\n",
    "def replace_strings_with_context(text, replacements, window=10, silent = False):\n",
    "    \"\"\"\n",
    "    Replaces specified strings within a text and prints the context around each replacement.\n",
    "    \n",
    "    Parameters:\n",
    "    - text: The original string where replacements are done.\n",
    "    - replacements: A dictionary where keys are the substrings to find, and values are their replacements.\n",
    "    - window: Number of characters to show before and after the replaced string for context.\n",
    "    \n",
    "    Returns:\n",
    "    - A modified string with the replacements applied.\n",
    "    \"\"\"\n",
    "    counter = 0\n",
    "    for old, new in replacements.items():\n",
    "        index = text.find(old)\n",
    "        while index != -1:\n",
    "            # Extract context around the found string\n",
    "            start = max(index - window, 0)\n",
    "            end = min(index + len(old) + window, len(text))\n",
    "            before = text[start:index]\n",
    "            after = text[index + len(old):end]\n",
    "            before = before.replace(\"\\n\", \" \")\n",
    "            before = before.replace(\"\\t\", \" \")\n",
    "            after = after.replace(\"\\n\", \" \")\n",
    "            after = after.replace(\"\\t\", \" \")\n",
    "\n",
    "            # Print before, replaced, and after strings\n",
    "            if not silent:\n",
    "                print(f\"Before: {before}[{old}]{after}\")\n",
    "                print(f\"After:  {before}[{new}]{after}\\n\")\n",
    "\n",
    "            # Replace the string in the text\n",
    "            text = text[:index] + new + text[index + len(old):]\n",
    "            counter += 1\n",
    "            \n",
    "            # Find the next occurrence of the old string\n",
    "            index = text.find(old, index + len(new))\n",
    "\n",
    "    print(f\"made {counter} changes\")\n",
    "    return text\n",
    "\n",
    "\n"
   ]
  },
  {
   "cell_type": "code",
   "execution_count": null,
   "id": "778524b4-42c4-4d3a-8245-be104a19f3c3",
   "metadata": {},
   "outputs": [],
   "source": [
    "print(ord(\"b\"))\n",
    "print(chr(98))\n",
    "print(ord(\"Ž\"))"
   ]
  },
  {
   "cell_type": "code",
   "execution_count": 100,
   "id": "1cb1632a-6465-4d17-91f1-9211a2a5be4e",
   "metadata": {},
   "outputs": [
    {
     "name": "stdout",
     "output_type": "stream",
     "text": [
      "’: '\n",
      "‘: \"\n",
      "“: \"\n",
      "”: \"\n",
      "*: \"\n",
      "AH the same: Ah the same\n"
     ]
    }
   ],
   "source": [
    "replacements = dict()\n",
    "# replacements[\"t}:le\"] = \"the\"\n",
    "# replacements[\"up o~ the\"] = \"up on the\"\n",
    "# replacements[\"the ~ort\"] = \"the sort\"\n",
    "# replacements[\"than ~ might\"] = \"than might\"\n",
    "# replacements[\"the house~\"] = \"the house.\"\n",
    "# replacements[\"while ~earlier\"] = \"while earlier\"\n",
    "# replacements[\"meetings ~once\"] = \"meetings once\"\n",
    "# replacements[\"Ž\"] = \"é\"\n",
    "# replacements[\"mean- it\"] = \"mean it\"\n",
    "# replacements[\"¤\"] = \"s\"\n",
    "# replacements[\"Ð\"] = \"-\"\n",
    "# replacements[\"É\"] = '-'\n",
    "# replacements[\"Ó\"] = '\"'\n",
    "# replacements[\"Ò\"] = '\"'\n",
    "# replacements[\"Ô\"] = '\"'\n",
    "# replacements[\"Rover.Ó I thanked\"] = \"Rover  I thanked\"\n",
    "# replacements['Rover.\" I thanked'] = \"Rover  I thanked\"\n",
    "# replacements[\"Õ\"] = \"'\"\n",
    "# replacements[chr(136)] = \"à\"\n",
    "# replacements[chr(142)] = \"é\"\n",
    "# replacements[chr(144)] = \"ê\"\n",
    "# replacements[\"Ñ\"] = \"-\"\n",
    "# replacements[chr(12)] = \"\"\n",
    "# replacements[\"%egan\"] = \"began\"\n",
    "# replacements[\"t4arijço\"]=\"Sachiko\"\n",
    "replacements[chr(8217)] = \"'\"\n",
    "replacements[chr(8216)] = '\"'\n",
    "replacements[chr(8220)] = '\"'\n",
    "replacements[chr(8221)] = '\"'\n",
    "replacements[\"*\"] = '\"'\n",
    "replacements[\"AH the same\"] = \"Ah the same\"\n",
    "# replacements[\"•\"] = \"\"\n",
    "\n",
    "for key, value in replacements.items():\n",
    "        print(f\"{key}: {value}\")"
   ]
  },
  {
   "cell_type": "raw",
   "id": "8992d428-1d14-472d-af48-661a6c17594d",
   "metadata": {},
   "source": []
  },
  {
   "cell_type": "code",
   "execution_count": 101,
   "id": "57aa2f39-b0a6-4f1b-8ad3-1810e78d3030",
   "metadata": {},
   "outputs": [
    {
     "name": "stdout",
     "output_type": "stream",
     "text": [
      "made 5749 changes\n"
     ]
    }
   ],
   "source": [
    "text_edited = replace_strings_with_context(texts[0],replacements, silent = True)"
   ]
  },
  {
   "cell_type": "markdown",
   "id": "284826d4-de8e-4470-a65d-3d9348a8eada",
   "metadata": {},
   "source": [
    "Now see if there are any problems left:"
   ]
  },
  {
   "cell_type": "code",
   "execution_count": 156,
   "id": "7a148183-87ff-42f7-8eea-a55040664d8e",
   "metadata": {},
   "outputs": [],
   "source": [
    "display_invalid_chars(text_edited)\n"
   ]
  },
  {
   "cell_type": "code",
   "execution_count": 157,
   "id": "74281254-ae26-4d51-9476-5c185442e42d",
   "metadata": {},
   "outputs": [
    {
     "name": "stdout",
     "output_type": "stream",
     "text": [
      "36 \n",
      "\n",
      "PART ONE\n",
      "\n",
      "London, 24th July 1930\n",
      "\n",
      "Chapter One\n",
      "\n",
      "\n",
      "It was the summer of 1923, the su\n",
      "38821 lous preoccupations to deflect me.\n",
      "\n",
      "\n",
      "\n",
      "\n",
      "\n",
      "Chapter Two\n",
      "\n",
      "\n",
      "Since I am now recalling that per\n",
      "65599 mmings. Now, if you'll excuse me.'\n",
      "\n",
      "\n",
      "\n",
      "\n",
      "\n",
      "Chapter Three\n",
      "\n",
      "\n",
      "It took no more than a few days\n",
      "91099 \n",
      "\n",
      "PART TWO\n",
      "\n",
      "\n",
      "London, 15th May 1931\n",
      "\n",
      "\n",
      "\n",
      "\n",
      "\n",
      "Chapter Four\n",
      "\n",
      "\n",
      "At the rear of our garden in Sha\n",
      "127779  that argument in the dining room.\n",
      "\n",
      "\n",
      "\n",
      "\n",
      "\n",
      "Chapter Five\n",
      "\n",
      "\n",
      "I do not remember now if the din\n",
      "145625 d of the course things would take.\n",
      "\n",
      "\n",
      "\n",
      "\n",
      "\n",
      "Chapter Six\n",
      "\n",
      "\n",
      "It was around that same time - th\n",
      "165071  being unloaded off the motor car.\n",
      "\n",
      "\n",
      "\n",
      "\n",
      "\n",
      "Chapter Seven\n",
      "\n",
      "\n",
      "Akira, I was delighted to learn\n",
      "199639 lways be proud of what he's done.'\n",
      "\n",
      "\n",
      "\n",
      "\n",
      "\n",
      "Chapter Eight\n",
      "\n",
      "\n",
      "I do not remember much about th\n",
      "225770 d, I intend before long to embark.\n",
      "\n",
      "\n",
      "\n",
      "\n",
      "\n",
      "Chapter Nine\n",
      "\n",
      "\n",
      "There is a further aspect to thi\n",
      "238757 RT THREE\n",
      "\n",
      "\n",
      "London, 12th April 1937\n",
      "\n",
      "\n",
      "\n",
      "\n",
      "\n",
      "Chapter Ten\n",
      "\n",
      "\n",
      "Yesterday, by the time young Jenn\n",
      "261910 emmings at the Draycoats' wedding.\n",
      "\n",
      "\n",
      "\n",
      "\n",
      "\n",
      "Chapter Eleven\n",
      "\n",
      "\n",
      "It is now already over a year \n",
      "282603 , Shanghai,\n",
      "\n",
      "\n",
      "\n",
      "20th September 1937\n",
      "\n",
      "\n",
      "\n",
      "\n",
      "\n",
      "Chapter Twelve\n",
      "\n",
      "\n",
      "Travellers in the Arab countri\n",
      "305625 ly, to which I continue to return.\n",
      "\n",
      "\n",
      "\n",
      "\n",
      "\n",
      "Chapter Thirteen\n",
      "\n",
      "\n",
      "I spent most of the afternoo\n",
      "324527 , Shanghai,\n",
      "\n",
      "\n",
      "\n",
      "29th September 1937\n",
      "\n",
      "\n",
      "\n",
      "\n",
      "\n",
      "Chapter Fourteen\n",
      "\n",
      "\n",
      "I mishandled my meeting this\n",
      "349441 ay and I will show you the house.'\n",
      "\n",
      "\n",
      "\n",
      "\n",
      "\n",
      "Chapter Fifteen\n",
      "\n",
      "\n",
      "For the next several minutes,\n",
      "370515 el, Shanghai,\n",
      "\n",
      "\n",
      "\n",
      "20th October 1937\n",
      "\n",
      "\n",
      "\n",
      "\n",
      "\n",
      "Chapter Sixteen\n",
      "\n",
      "\n",
      "I knew we were somewhere in t\n",
      "395022  sees us here. Go on, off you go.'\n",
      "\n",
      "\n",
      "\n",
      "\n",
      "\n",
      "Chapter Seventeen\n",
      "\n",
      "\n",
      "I went to bed that night so\n",
      "422130 slope in the direction of the car.\n",
      "\n",
      "\n",
      "\n",
      "\n",
      "\n",
      "Chapter Eighteen\n",
      "\n",
      "\n",
      "The police station looked to\n",
      "441784 my jacket, then hurried after him.\n",
      "\n",
      "\n",
      "\n",
      "\n",
      "\n",
      "Chapter Nineteen\n",
      "\n",
      "\n",
      "It is only hindsight that ma\n",
      "468322 gered through into the next house.\n",
      "\n",
      "\n",
      "\n",
      "\n",
      "\n",
      "Chapter Twenty\n",
      "\n",
      "\n",
      "Once we had come through two f\n",
      "496995  go in. Let's go in now together.'\n",
      "\n",
      "\n",
      "\n",
      "\n",
      "\n",
      "Chapter Twenty-one\n",
      "\n",
      "\n",
      "I tried to keep the revolv\n",
      "524161 o sit in my chair behind my desk.'\n",
      "\n",
      "\n",
      "\n",
      "\n",
      "\n",
      "Chapter Twenty-two\n",
      "\n",
      "\n",
      "Had I not been expecting t\n",
      "549743 SEVEN\n",
      "\n",
      "\n",
      "London, 14th November 1958\n",
      "\n",
      "\n",
      "\n",
      "\n",
      "\n",
      "Chapter Twenty-three\n",
      "\n",
      "\n",
      "It was my first long tri\n",
      "2 \n",
      "\n",
      "PART ONE\n",
      "\n",
      "London, 24th July 1930\n",
      "\n",
      "Chapter One\n",
      "\n",
      "\n",
      "It was the summer of 1923, the summe\n",
      "91061 one evening towards improving relations between myself and Sarah Hemmings.\n",
      "\n",
      "\n",
      "\n",
      "\n",
      "\n",
      "PART TWO\n",
      "\n",
      "\n",
      "London, 15th May 1931\n",
      "\n",
      "\n",
      "\n",
      "\n",
      "\n",
      "Chapter Four\n",
      "\n",
      "\n",
      "At the rear of our garden in Sh\n",
      "238715 his afternoon going about London with Sarah on the upper deck of that bus.\n",
      "\n",
      "\n",
      "\n",
      "\n",
      "\n",
      "PART THREE\n",
      "\n",
      "\n",
      "London, 12th April 1937\n",
      "\n",
      "\n",
      "\n",
      "\n",
      "\n",
      "Chapter Ten\n",
      "\n",
      "\n",
      "Yesterday, by the time young\n",
      "282539 y - she will be truly glad I rose to the challenge of my responsibilities.\n",
      "\n",
      "\n",
      "\n",
      "\n",
      "\n",
      "PART FOUR\n",
      "\n",
      "\n",
      "Cathay Hotel, Shanghai,\n",
      "\n",
      "\n",
      "\n",
      "20th September 1937\n",
      "\n",
      "\n",
      "\n",
      "\n",
      "\n",
      "Chapter Twelve\n",
      "\n",
      "\n",
      "Tra\n",
      "324463 ot Grayson, just at that moment, emerged out of the crowd, looking for me.\n",
      "\n",
      "\n",
      "\n",
      "\n",
      "\n",
      "PART FIVE\n",
      "\n",
      "\n",
      "Cathay Hotel, Shanghai,\n",
      "\n",
      "\n",
      "\n",
      "29th September 1937\n",
      "\n",
      "\n",
      "\n",
      "\n",
      "\n",
      "Chapter Fourteen\n",
      "\n",
      "\n",
      "I\n",
      "370454 e different, and he will not find it so easy to send me away empty-handed.\n",
      "\n",
      "\n",
      "\n",
      "\n",
      "\n",
      "PART SIX\n",
      "\n",
      "\n",
      "Cathay Hotel, Shanghai,\n",
      "\n",
      "\n",
      "\n",
      "20th October 1937\n",
      "\n",
      "\n",
      "\n",
      "\n",
      "\n",
      "Chapter Sixteen\n",
      "\n",
      "\n",
      "I kne\n",
      "549698 gh. Then he said in a weary voice: \"Goodbye, Puffin. I hope you find her.'\n",
      "\n",
      "\n",
      "\n",
      "\n",
      "\n",
      "PART SEVEN\n",
      "\n",
      "\n",
      "London, 14th November 1958\n",
      "\n",
      "\n",
      "\n",
      "\n",
      "\n",
      "Chapter Twenty-three\n",
      "\n",
      "\n",
      "It was my first \n"
     ]
    }
   ],
   "source": [
    "display_text_in_context(text_edited, \"Chapter\", window = 40, repeat = True)\n",
    "display_text_in_context(text_edited, \"PART\", window = 80, repeat = True)"
   ]
  },
  {
   "cell_type": "code",
   "execution_count": 104,
   "id": "da73e006-a114-4a91-b0e9-1ae7714dc1e4",
   "metadata": {},
   "outputs": [
    {
     "name": "stdout",
     "output_type": "stream",
     "text": [
      "10\n"
     ]
    }
   ],
   "source": [
    "print(ord(\"\\n\"))"
   ]
  },
  {
   "cell_type": "code",
   "execution_count": 70,
   "id": "147695a7-54b1-46fe-ac3d-87bc8316ccd6",
   "metadata": {},
   "outputs": [
    {
     "name": "stdout",
     "output_type": "stream",
     "text": [
      "PART ONE Chapter One\n",
      "PART TWO Chapter Four\n",
      "PART THREE Chapter Ten\n",
      "PART FOUR Chapter Twelve\n",
      "PART FIVE Chapter Fourteen\n",
      "PART SIX Chapter Sixteen\n",
      "PART SEVEN Chapter Twenty-three\n"
     ]
    }
   ],
   "source": [
    "titles = list()\n",
    "titles.append((\"PART ONE\", \"Chapter One\"))\n",
    "titles.append((\"PART TWO\", \"Chapter Four\"))\n",
    "titles.append((\"PART THREE\", \"Chapter Ten\"))\n",
    "titles.append((\"PART FOUR\", \"Chapter Twelve\"))\n",
    "titles.append((\"PART FIVE\", \"Chapter Fourteen\"))\n",
    "titles.append((\"PART SIX\", \"Chapter Sixteen\"))\n",
    "titles.append((\"PART SEVEN\", \"Chapter Twenty-three\"))\n",
    "\n",
    "\n",
    "\n",
    "\n",
    "for edit_start, edit_end in titles:\n",
    "    print(edit_start, edit_end)\n"
   ]
  },
  {
   "cell_type": "code",
   "execution_count": 89,
   "id": "8dad37fb-5a0f-4aeb-abcf-c7ecddafa19c",
   "metadata": {},
   "outputs": [],
   "source": [
    "def remove_chunks(text, chunks, remove_all = False, buffer = 100):\n",
    "    # removes chunks defines by a list of tuples, start of chunk to end of chunk, removes the second part only if remove_all is set to True\n",
    "    for edit_start, edit_end in chunks: \n",
    "        ind1 = text.find(edit_start)\n",
    "        ind2 = text.find(edit_end)\n",
    "        if remove_all:\n",
    "            ind2 += len(edit_end)\n",
    "        if ind2 > ind1 and ind2 < ind1 + 100 and ind1 != -1 and ind2 != -1:\n",
    "            print (f\"removing {edit_start} to {edit_end}\")\n",
    "            text = text[:ind1] + text[ind2:]\n",
    "        else:\n",
    "            print(f\"{edit_start} to {edit_end} not removed\")\n",
    "    return text\n"
   ]
  },
  {
   "cell_type": "code",
   "execution_count": 90,
   "id": "3fd4875a-a99c-4754-a477-cf5259f80d9d",
   "metadata": {},
   "outputs": [
    {
     "name": "stdout",
     "output_type": "stream",
     "text": [
      "removing quick to the \n",
      "The quick brown fox jumps over the lazy dog\n",
      "The lazy dog\n"
     ]
    }
   ],
   "source": [
    "#TEST\n",
    "tt = \"The quick brown fox jumps over the lazy dog\"\n",
    "tt1 = [(\"quick\", \"the \")]\n",
    "tt2 = remove_chunks(tt, tt1, remove_all = True)\n",
    "print(tt)\n",
    "print(tt2)"
   ]
  },
  {
   "cell_type": "code",
   "execution_count": 158,
   "id": "acf60567-830c-4a1b-966a-0f3e3e160952",
   "metadata": {},
   "outputs": [
    {
     "name": "stdout",
     "output_type": "stream",
     "text": [
      "removing PART ONE to Chapter One\n",
      "removing PART TWO to Chapter Four\n",
      "removing PART THREE to Chapter Ten\n",
      "removing PART FOUR to Chapter Twelve\n",
      "removing PART FIVE to Chapter Fourteen\n",
      "removing PART SIX to Chapter Sixteen\n",
      "removing PART SEVEN to Chapter Twenty-three\n"
     ]
    }
   ],
   "source": [
    "text_edited_1 = remove_chunks(text_edited, titles, remove_all = True)\n",
    "    \n"
   ]
  },
  {
   "cell_type": "code",
   "execution_count": 167,
   "id": "382c3cb8-a13d-4bef-8990-ddf7a830ce51",
   "metadata": {},
   "outputs": [],
   "source": [
    "tidy_up = dict()\n",
    "tidy_up[\"  \"] = \" \" \n",
    "tidy_up[\"Chapter Seventeen\"] = \"\"\n",
    "tidy_up[\"Chapter Eighteen\"] = \"\"\n",
    "tidy_up[\"Chapter Nineteen\"] = \"\"\n",
    "tidy_up[\"Chapter Two\"] = \"\"\n",
    "tidy_up[\"Chapter Three\"] = \"\"\n",
    "tidy_up[\"Chapter Five\"] = \"\"\n",
    "tidy_up[\"Chapter Six\"] = \"\"\n",
    "tidy_up[\"Chapter Seven\"] = \"\"\n",
    "tidy_up[\"Chapter Eight\"] = \"\"\n",
    "tidy_up[\"Chapter Nine\"] = \"\"\n",
    "tidy_up[\"Chapter Eleven\"] = \"\"\n",
    "tidy_up[\"Chapter Thirteen\"] = \"\"\n",
    "tidy_up[\"Chapter Fifteen\"] = \"\"\n",
    "tidy_up[\"Chapter Twenty-one\"] = \"\"\n",
    "tidy_up[\"Chapter Twenty-two\"] = \"\"\n",
    "tidy_up[\"Chapter Twenty\"] = \"\"\n",
    "tidy_up[\"The End\"] = \"\"\n"
   ]
  },
  {
   "cell_type": "code",
   "execution_count": 168,
   "id": "988c4599-b731-457b-ab06-0276235031d8",
   "metadata": {},
   "outputs": [
    {
     "name": "stdout",
     "output_type": "stream",
     "text": [
      "Before: go.'      [Chapter Seventeen]   I went \n",
      "After:  go.'      []   I went \n",
      "\n",
      "Before: car.      [Chapter Eighteen]   The pol\n",
      "After:  car.      []   The pol\n",
      "\n",
      "Before: him.      [Chapter Nineteen]   It is o\n",
      "After:  him.      []   It is o\n",
      "\n",
      "Before:  me.      [Chapter Two]   Since I\n",
      "After:   me.      []   Since I\n",
      "\n",
      "Before: me.'      [Chapter Three]   It took\n",
      "After:  me.'      []   It took\n",
      "\n",
      "Before: oom.      [Chapter Five]   I do no\n",
      "After:  oom.      []   I do no\n",
      "\n",
      "Before: ake.      [Chapter Six]   It was \n",
      "After:  ake.      []   It was \n",
      "\n",
      "Before: car.      [Chapter Seven]   Akira, \n",
      "After:  car.      []   Akira, \n",
      "\n",
      "Before: ne.'      [Chapter Eight]   I do no\n",
      "After:  ne.'      []   I do no\n",
      "\n",
      "Before: ark.      [Chapter Nine]   There i\n",
      "After:  ark.      []   There i\n",
      "\n",
      "Before: ing.      [Chapter Eleven]   It is n\n",
      "After:  ing.      []   It is n\n",
      "\n",
      "Before: urn.      [Chapter Thirteen]   I spent\n",
      "After:  urn.      []   I spent\n",
      "\n",
      "Before: se.'      [Chapter Fifteen]   For the\n",
      "After:  se.'      []   For the\n",
      "\n",
      "Before: er.'      [Chapter Twenty-one]   I tried\n",
      "After:  er.'      []   I tried\n",
      "\n",
      "Before: sk.'      [Chapter Twenty-two]   Had I n\n",
      "After:  sk.'      []   Had I n\n",
      "\n",
      "Before: use.      [Chapter Twenty]   Once we\n",
      "After:  use.      []   Once we\n",
      "\n",
      "Before: ought.    [The End]       \n",
      "After:  ought.    []       \n",
      "\n",
      "made 17 changes\n"
     ]
    }
   ],
   "source": [
    "text_edited_2 = replace_strings_with_context(text_edited_1,tidy_up, silent = False)"
   ]
  },
  {
   "cell_type": "code",
   "execution_count": 160,
   "id": "bbde150a-55de-4a3e-8a1f-00d36f9ea1d9",
   "metadata": {},
   "outputs": [
    {
     "name": "stdout",
     "output_type": "stream",
     "text": [
      "not found\n"
     ]
    }
   ],
   "source": [
    "display_text_in_context(text_edited_2, \"Chapter\")"
   ]
  },
  {
   "cell_type": "code",
   "execution_count": 97,
   "id": "58d822cf-143a-485e-9edd-af4497c173dd",
   "metadata": {},
   "outputs": [],
   "source": [
    "def find_capitalized_words(text):\n",
    "    \"\"\"\n",
    "    Finds all words in the string that are in capitals, excluding words of one character.\n",
    "    \n",
    "    Parameters:\n",
    "    - text: The input string.\n",
    "    \n",
    "    Returns:\n",
    "    - A list of fully capitalized words with more than one character.\n",
    "    \"\"\"\n",
    "    # Use regex to match words with all capital letters and exclude single-character words\n",
    "    capitalized_words = re.findall(r'\\b[A-Z]{2,}\\b', text)\n",
    "    return capitalized_words\n"
   ]
  },
  {
   "cell_type": "code",
   "execution_count": 99,
   "id": "3679f96e-a99d-4162-b101-a74ea76f2a56",
   "metadata": {},
   "outputs": [
    {
     "name": "stdout",
     "output_type": "stream",
     "text": [
      "e compensation money. Miss Givens said we could go shopping on Tuesday.'  \"AH the same. Look, I think you're awfull\n",
      "id. \"After all, you were one of the finest detectives ever to serve in the SMP.'  \"Really? How kind of you to say s\n"
     ]
    }
   ],
   "source": [
    "capitalized_words = find_capitalized_words(text_edited_2)\n",
    "for word in capitalized_words:\n",
    "    if word != \"OK\":\n",
    "        ind = text_edited.find(word)\n",
    "        window = text_edited[ind-75:ind+40]\n",
    "        window = window.replace(\"\\n\", \" \")\n",
    "        window = window.replace(\"\\t\", \" \")\n",
    "        print(window)\n"
   ]
  },
  {
   "cell_type": "code",
   "execution_count": 169,
   "id": "f0aaeca0-b55a-4dbe-b38f-9c5c376dde34",
   "metadata": {},
   "outputs": [
    {
     "name": "stdout",
     "output_type": "stream",
     "text": [
      "C:/Users/Roland/Documents/AI/stylometry/Kazuo-Ishiguro-When-We-Were-Orphans-Alfred-A.-Knopf_Vintage-_2001_ edited_2.txt\n"
     ]
    }
   ],
   "source": [
    "print(file_path_edited_2)"
   ]
  },
  {
   "cell_type": "code",
   "execution_count": 171,
   "id": "2426f4a0-cd56-4530-806c-503a9f5917aa",
   "metadata": {},
   "outputs": [
    {
     "name": "stdout",
     "output_type": "stream",
     "text": [
      "578362\n"
     ]
    }
   ],
   "source": [
    "print(len(text_edited_2))"
   ]
  },
  {
   "cell_type": "code",
   "execution_count": 172,
   "id": "c3f0402e-91ad-417d-a7ab-09bcfb7d0726",
   "metadata": {},
   "outputs": [],
   "source": [
    "with open(file_path_edited_2, 'w', encoding='utf-8') as f:\n",
    "    f.write(text_edited_2)"
   ]
  },
  {
   "cell_type": "markdown",
   "id": "3ba0d16b-757d-49b3-9e91-94c069acbf18",
   "metadata": {},
   "source": [
    "Check that saving and loading the corrected file doesn't change it.  There will be a change when it encounters é because it takes 2 bytes.  Up to that point, there should be no differences."
   ]
  },
  {
   "cell_type": "code",
   "execution_count": 173,
   "id": "b9943619-0fae-4421-b35f-3df15444cc94",
   "metadata": {},
   "outputs": [],
   "source": [
    "with open(file_path_edited_2, 'r', encoding='utf-8') as f:\n",
    "    text = f.read()"
   ]
  },
  {
   "cell_type": "code",
   "execution_count": 174,
   "id": "92072c71-ed76-40c4-b520-96a87b25502e",
   "metadata": {},
   "outputs": [
    {
     "data": {
      "text/plain": [
       "True"
      ]
     },
     "execution_count": 174,
     "metadata": {},
     "output_type": "execute_result"
    }
   ],
   "source": [
    "text == text_edited_2"
   ]
  },
  {
   "cell_type": "code",
   "execution_count": 175,
   "id": "48752051-c7e6-4870-b224-270b85ef1cbe",
   "metadata": {},
   "outputs": [
    {
     "data": {
      "text/plain": [
       "-1"
      ]
     },
     "execution_count": 175,
     "metadata": {},
     "output_type": "execute_result"
    }
   ],
   "source": [
    "text_edited.find(\"é\")"
   ]
  },
  {
   "cell_type": "code",
   "execution_count": 113,
   "id": "a192f721-99b8-4dda-9eed-e45c0c4a320a",
   "metadata": {},
   "outputs": [
    {
     "name": "stdout",
     "output_type": "stream",
     "text": [
      "578625 578369\n"
     ]
    }
   ],
   "source": [
    "print(len(text), len(text_edited_2))"
   ]
  },
  {
   "cell_type": "code",
   "execution_count": 132,
   "id": "7fc2c843-bcc7-4f30-b81d-d0e0b9b91c1e",
   "metadata": {},
   "outputs": [
    {
     "name": "stdout",
     "output_type": "stream",
     "text": [
      "€¦'\n",
      "\n",
      "\"Quite all right. Perfectly natural, after all. Young fellow like you.'\n",
      "\n",
      "\"I assure you, sirâ€¦'\n",
      "'\n",
      "\n",
      "\"Quite all right. Perfectly natural, after all. Young fellow like you.'\n",
      "\n",
      "\"I assure you, sir…'\n",
      "\n",
      "\"N\n"
     ]
    }
   ],
   "source": [
    "i = 0\n",
    "max_length = min(len(text),len(text_edited_2))\n",
    "while ((text[:i] == text_edited_2[:i]) and (i < max_length)):\n",
    "    i = i + 1\n",
    "if i < max_length:\n",
    "    print(text[i:i+100])\n",
    "    print(text_edited_2[i:i+100])\n",
    "else:\n",
    "    print(\"no differences up to end of the smaller text\")"
   ]
  },
  {
   "cell_type": "code",
   "execution_count": 133,
   "id": "9af81476-d09b-4e21-8764-05f01839097c",
   "metadata": {},
   "outputs": [
    {
     "name": "stdout",
     "output_type": "stream",
     "text": [
      "\n",
      "\n",
      "\n",
      "\n",
      "\n",
      "It was the summer of 1923, the summer I came down from Cambridge, when despite my aunt's wishes that I return to Shropshire, I decided my future lay in the capital and took up a small flat at Number 14b Bedford Gardens in Kensington. I remember it now as the most wonderful of summers. After years of being surrounded by fellows, both at school and at Cambridge, I took great pleasure in my own company. I enjoyed the London parks, the quiet of the Reading Room at the British Museum; I indulged entire afternoons strolling the streets of Kensington, outlining to myself plans for my future, pausing once in a while to admire how here in England, even in the midst of such a great city, creepers and ivy are to be found clinging to the fronts of fine houses.\n",
      "\n",
      "It was on one such leisurely walk that I encountered quite by chance an old schoolfriend, James Osbourne, and discovering him to be a neighbour, suggested he call on me when he was next passing. Although at that point I had yet to rece\n",
      "**************************************\n",
      "\n",
      "\n",
      "\n",
      "\n",
      "\n",
      "It was the summer of 1923, the summer I came down from Cambridge, when despite my aunt's wishes that I return to Shropshire, I decided my future lay in the capital and took up a small flat at Number 14b Bedford Gardens in Kensington. I remember it now as the most wonderful of summers. After years of being surrounded by fellows, both at school and at Cambridge, I took great pleasure in my own company. I enjoyed the London parks, the quiet of the Reading Room at the British Museum; I indulged entire afternoons strolling the streets of Kensington, outlining to myself plans for my future, pausing once in a while to admire how here in England, even in the midst of such a great city, creepers and ivy are to be found clinging to the fronts of fine houses.\n",
      "\n",
      "It was on one such leisurely walk that I encountered quite by chance an old schoolfriend, James Osbourne, and discovering him to be a neighbour, suggested he call on me when he was next passing. Although at that point I had yet to rece\n",
      "*********************************************************************************\n",
      "*********************************************************************************\n",
      "ive a single visitor in my rooms, I issued my invitation with confidence, having chosen the premises with some care. The rent was not high, but my landlady had furnished the place in a tasteful manner that evoked an unhurried Victorian past; the drawing room, which received plenty of sun throughout the first half of the day, contained an ageing sofa as well as two snug armchairs, an antique sideboard and an oak bookcase filled with crumbling encyclopaedias - all of which I was convinced would win the approval of any visitor. Moreover, almost immediately upon taking the rooms, I had walked over to Knightsbridge and acquired there a Queen Anne tea service, several packets of fine teas, and a large tin of biscuits. So when Osbourne did happen along one morning a few days later, I was able to serve out the refreshments with an assurance that never once permitted him to suppose he was my first guest.\n",
      "\n",
      "For the first fifteen minutes or so, Osbourne moved restlessly around my drawing room, com\n",
      "**************************************\n",
      "ive a single visitor in my rooms, I issued my invitation with confidence, having chosen the premises with some care. The rent was not high, but my landlady had furnished the place in a tasteful manner that evoked an unhurried Victorian past; the drawing room, which received plenty of sun throughout the first half of the day, contained an ageing sofa as well as two snug armchairs, an antique sideboard and an oak bookcase filled with crumbling encyclopaedias - all of which I was convinced would win the approval of any visitor. Moreover, almost immediately upon taking the rooms, I had walked over to Knightsbridge and acquired there a Queen Anne tea service, several packets of fine teas, and a large tin of biscuits. So when Osbourne did happen along one morning a few days later, I was able to serve out the refreshments with an assurance that never once permitted him to suppose he was my first guest.\n",
      "\n",
      "For the first fifteen minutes or so, Osbourne moved restlessly around my drawing room, com\n",
      "*********************************************************************************\n",
      "*********************************************************************************\n"
     ]
    }
   ],
   "source": [
    "for i in range(2):\n",
    "    print(text[i*1000:i*1000+1000])\n",
    "    print(\"**************************************\")\n",
    "    print(text_edited_2[i*1000:i*1000+1000])\n",
    "    print(\"*********************************************************************************\")\n",
    "    print(\"*********************************************************************************\")\n",
    "    "
   ]
  },
  {
   "cell_type": "code",
   "execution_count": 115,
   "id": "ed1d3224-0c81-4e36-b5ca-fecd58465dde",
   "metadata": {},
   "outputs": [
    {
     "data": {
      "text/plain": [
       "-1"
      ]
     },
     "execution_count": 115,
     "metadata": {},
     "output_type": "execute_result"
    }
   ],
   "source": [
    "text_edited_2.find(chr(8216))"
   ]
  },
  {
   "cell_type": "code",
   "execution_count": 120,
   "id": "891e6aab-d611-4ae9-8c97-331d8ec0c47e",
   "metadata": {},
   "outputs": [
    {
     "data": {
      "text/plain": [
       "19068"
      ]
     },
     "execution_count": 120,
     "metadata": {},
     "output_type": "execute_result"
    }
   ],
   "source": [
    "text_edited_1.find(chr(8230))"
   ]
  },
  {
   "cell_type": "code",
   "execution_count": 122,
   "id": "cccbcceb-3377-4886-a7ad-25811a324f87",
   "metadata": {},
   "outputs": [
    {
     "name": "stdout",
     "output_type": "stream",
     "text": [
      "nese name, and I— perhaps out \n",
      "f the\n",
      "city.'\n",
      "\"Oh really? I didn't realize that. You lived there with…with friends?\"\n",
      "Sachiko stopped pouring and looked a\n"
     ]
    }
   ],
   "source": [
    "print(text_edited_1[200:230])\n",
    "print(text_edited_1[19000:19120])\n",
    "      "
   ]
  },
  {
   "cell_type": "code",
   "execution_count": 164,
   "id": "29278a47-903b-4cda-9983-e1625d9ce6c9",
   "metadata": {},
   "outputs": [
    {
     "name": "stdout",
     "output_type": "stream",
     "text": [
      "0\n",
      "579045\n"
     ]
    }
   ],
   "source": [
    "\n",
    "# Sample text with hyphenated words across lines\n",
    "t = texts[0]\n",
    "# Use regex to find words that are hyphenated across lines\n",
    "# Match sequences where a hyphen is at the end of a line, followed by a newline, and then continued with a word\n",
    "hyphenated_words = re.findall(r\"(\\w+)-\\n(\\w+)\", t)\n",
    "\n",
    "# Print the hyphenated words\n",
    "for first_part, second_part in hyphenated_words:\n",
    "    print(f\"Found broken word: {first_part}-{second_part}\")\n",
    "print(len(hyphenated_words))\n",
    "print(len(t))\n"
   ]
  },
  {
   "cell_type": "code",
   "execution_count": 166,
   "id": "7f4a3a26-30be-4c94-8060-8d422247fbcc",
   "metadata": {},
   "outputs": [
    {
     "name": "stdout",
     "output_type": "stream",
     "text": [
      "ef that for you, it was the correct decision not to come with me that day. You always felt you had a mission to complete, and I dare say you would never have been able to give your heart to anyone or anything until you had done so. I can only hope that by now your tasks are behind you, and that you too have been able to find the sort of happiness and companionship which I have come lately almost to take for granted.'\n",
      "\n",
      "There is something about these sections of her letter - and those last lines in particular - that never quite ring true. Some subtle note that runs throughout the letter - indeed, her very act of writing to me at that moment - feels at odds with her report of days filled with \"happiness and companionship'. Was her life with her French count really what she set off to find that day she stepped out on to the jetty in Shanghai? I somehow doubt it. My feeling is that she is thinking of herself as much as of me when she talks of a sense of mission, and the futility of attempting to evade it. Perhaps there are those who are able to go about their lives unfettered by such concerns. But for those like us, our fate is to face the world as orphans, chasing through long years the shadows of vanished parents. There is nothing for it but to try and see through our missions to the end, as best we can, for until we do so, we will be permitted no calm.\n",
      "\n",
      "I do not wish to appear smug; but drifting through my days here in London, I believe I can indeed own up to a certain contentment.\n",
      "\n",
      "I enjoy my walks in the parks, I visit the galleries; and increasingly of late, I have come to take a foolish pride in sifting through old newspaper reports of my cases in the Reading Room at the British Museum. This city, in other words, has come to be my home, and I should not mind if I had to live out the rest of my days here. Nevertheless, there are those times when a sort of emptiness fills my hours, and I shall continue to give Jennifer's invitation serious thought.\n",
      "\n",
      "\n",
      "\n",
      "The End\n",
      "\n",
      "\n",
      "\n",
      "\n",
      "\n",
      "\n",
      "\n"
     ]
    }
   ],
   "source": [
    "print(text_edited_2[-2000:])"
   ]
  },
  {
   "cell_type": "code",
   "execution_count": null,
   "id": "3c754728-cfc3-4e0a-9c91-477194e4d32a",
   "metadata": {},
   "outputs": [],
   "source": []
  }
 ],
 "metadata": {
  "kernelspec": {
   "display_name": "Python 3 (ipykernel)",
   "language": "python",
   "name": "python3"
  },
  "language_info": {
   "codemirror_mode": {
    "name": "ipython",
    "version": 3
   },
   "file_extension": ".py",
   "mimetype": "text/x-python",
   "name": "python",
   "nbconvert_exporter": "python",
   "pygments_lexer": "ipython3",
   "version": "3.9.19"
  }
 },
 "nbformat": 4,
 "nbformat_minor": 5
}
