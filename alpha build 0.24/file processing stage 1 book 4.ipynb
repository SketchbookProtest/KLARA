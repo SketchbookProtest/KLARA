{
 "cells": [
  {
   "cell_type": "code",
   "execution_count": 1,
   "id": "1726f6c5-0b63-4184-ab57-21fad4577fae",
   "metadata": {},
   "outputs": [],
   "source": [
    "import stanza, re, benepar, psutil, gc, json, csv, time, string, os\n",
    "\n",
    "import numpy as np\n",
    "import networkx as nx\n",
    "import pandas as pd\n",
    "import seaborn as sns\n",
    "\n",
    "from textstat import textstat\n",
    "from datetime import datetime\n",
    "from collections import Counter\n",
    "\n",
    "import spacy\n",
    "from spacy.tokenizer import Tokenizer\n",
    "from spacy.util import compile_infix_regex\n",
    "\n",
    "\n",
    "import nltk\n",
    "from nltk.tokenize import word_tokenize\n",
    "from nltk.corpus import stopwords\n",
    "from nltk.probability import FreqDist\n",
    "from nltk.tokenize import RegexpTokenizer\n",
    "from nltk import Tree\n",
    "from textblob import Word\n",
    "from spellchecker import SpellChecker\n",
    "\n",
    "import matplotlib.pyplot as plt\n",
    "from matplotlib.ticker import LogLocator, LogFormatter"
   ]
  },
  {
   "cell_type": "code",
   "execution_count": null,
   "id": "03f1a91c-73f2-4bb0-a1ff-055c4397e639",
   "metadata": {},
   "outputs": [],
   "source": [
    "# These only need to run once\n",
    "# stanza.download('en')\n",
    "spacy.cli.download(\"en_core_web_sm\")\n",
    "nltk.download('punkt_tab')\n",
    "benepar.download('benepar_en3')"
   ]
  },
  {
   "cell_type": "code",
   "execution_count": 2,
   "id": "b24cd98d-fecd-47ae-934f-11ab9a1d0ef3",
   "metadata": {},
   "outputs": [],
   "source": [
    "source_texts= list()\n",
    "source_texts.append(\"Kazuo Ishiguro - Never Let Me Go\")\n",
    "source_texts.append(\"Kazuo Ishiguro - The Remains of the Day\")\n",
    "source_texts.append(\"Kazuo Ishiguro - A Pale View of Hills-Knopf Doubleday Publishing Group (1990)\")\n",
    "source_texts.append(\"Kazuo-Ishiguro-When-We-Were-Orphans-Alfred-A.-Knopf_Vintage-_2001_\")\n",
    "source_texts.append(\"The Buried Giant (Kazuo Ishiguro) (Z-Library)-1\")\n",
    "source_texts.append(\"Kazuo Ishiguro - The Unconsoled-Vintage (1996)\")\n",
    "directory_path = \"C:/Users/Roland/Documents/AI/stylometry/\"\n"
   ]
  },
  {
   "cell_type": "markdown",
   "id": "a44cd383-7ed8-4a5e-b3a5-689e23bd83fc",
   "metadata": {},
   "source": [
    "Select choice of text by specifying index (starting with 0):"
   ]
  },
  {
   "cell_type": "code",
   "execution_count": 3,
   "id": "e7de0d6d-2d39-4e52-a3eb-ca53e8f885e4",
   "metadata": {},
   "outputs": [],
   "source": [
    "text_choice = 4\n"
   ]
  },
  {
   "cell_type": "code",
   "execution_count": 4,
   "id": "80bdd75b-df2f-41dd-bbf9-0cbd168b11a0",
   "metadata": {},
   "outputs": [
    {
     "name": "stdout",
     "output_type": "stream",
     "text": [
      "C:/Users/Roland/Documents/AI/stylometry/The Buried Giant (Kazuo Ishiguro) (Z-Library)-1.txt\n",
      "C:/Users/Roland/Documents/AI/stylometry/The Buried Giant (Kazuo Ishiguro) (Z-Library)-1 edited.txt\n",
      "C:/Users/Roland/Documents/AI/stylometry/The Buried Giant (Kazuo Ishiguro) (Z-Library)-1 edited_1.txt\n",
      "C:/Users/Roland/Documents/AI/stylometry/The Buried Giant (Kazuo Ishiguro) (Z-Library)-1 edited_2.txt\n"
     ]
    }
   ],
   "source": [
    "file_path = directory_path+source_texts[text_choice]+\".txt\"\n",
    "file_path_edited = file_path[:-4]+\" edited.txt\"\n",
    "file_path_edited_1 = file_path[:-4]+\" edited_1.txt\"\n",
    "file_path_edited_2 = file_path[:-4]+\" edited_2.txt\"\n",
    "print (file_path)\n",
    "print(file_path_edited)\n",
    "print(file_path_edited_1)\n",
    "print(file_path_edited_2)"
   ]
  },
  {
   "cell_type": "markdown",
   "id": "eb3a424d-a71e-4aec-9c1a-9270c93a1e6a",
   "metadata": {},
   "source": [
    "Try reading the file with different encodings:"
   ]
  },
  {
   "cell_type": "code",
   "execution_count": 5,
   "id": "7517aed2-9b4b-4ab5-831a-a04363879770",
   "metadata": {},
   "outputs": [
    {
     "name": "stdout",
     "output_type": "stream",
     "text": [
      "Successfully read the file with encoding: utf-8 (encoding index 0).  This gives the beginning as:\n",
      "Part I  \f",
      "                            Chapter One      You would have searched a long time for the sort of winding lane or  tranquil meadow for which England later became celebrated. There  were instead mile\n",
      "\n",
      "Failed to read with encoding: ascii\n",
      "Successfully read the file with encoding: latin-1 (encoding index 2).  This gives the beginning as:\n",
      "Part I  \f",
      "                            Chapter One      You would have searched a long time for the sort of winding lane or  tranquil meadow for which England later became celebrated. There  were instead mile\n",
      "\n",
      "Failed to read with encoding: windows-1252\n",
      "Successfully read the file with encoding: iso-8859-1 (encoding index 4).  This gives the beginning as:\n",
      "Part I  \f",
      "                            Chapter One      You would have searched a long time for the sort of winding lane or  tranquil meadow for which England later became celebrated. There  were instead mile\n",
      "\n",
      "Successfully read the file with encoding: iso-8859-15 (encoding index 5).  This gives the beginning as:\n",
      "Part I  \f",
      "                            Chapter One      You would have searched a long time for the sort of winding lane or  tranquil meadow for which England later became celebrated. There  were instead mile\n",
      "\n",
      "valid encodings:  [0, 2, 4, 5]\n"
     ]
    }
   ],
   "source": [
    "encodings = ['utf-8', 'ascii', 'latin-1','windows-1252', 'iso-8859-1', 'iso-8859-15']\n",
    "texts = []\n",
    "valid_encodings = list()\n",
    "for i, encoding in enumerate(encodings):\n",
    "    try:\n",
    "        with open(file_path, 'r', encoding=encoding) as file:\n",
    "            test_text = file.read()\n",
    "        print(\"\"\"Successfully read the file with encoding: {encoding} (encoding index {ind}).  This gives the beginning as:\\n{content}\\n\"\"\".format(encoding=encoding, ind=i, content=test_text[0:200].replace(\"\\n\", \"  \")))\n",
    "        texts.append(test_text)\n",
    "        valid_encodings.append(i)\n",
    "    except UnicodeDecodeError:\n",
    "        print(f\"Failed to read with encoding: {encoding}\")\n",
    "print(\"valid encodings: \",valid_encodings)"
   ]
  },
  {
   "cell_type": "markdown",
   "id": "2821bf5c-eb4a-46cb-abd1-709aef0328e2",
   "metadata": {},
   "source": [
    "Are they the same?"
   ]
  },
  {
   "cell_type": "code",
   "execution_count": 6,
   "id": "8ee204e1-a1a0-45f5-9382-d0878e4852bf",
   "metadata": {},
   "outputs": [
    {
     "name": "stdout",
     "output_type": "stream",
     "text": [
      "text 0 length 569311:-\n",
      "0 True\n",
      "1 False\n",
      "2 False\n",
      "3 False\n",
      "text 1 length 584195:-\n",
      "0 False\n",
      "1 True\n",
      "2 True\n",
      "3 False\n",
      "text 2 length 584195:-\n",
      "0 False\n",
      "1 True\n",
      "2 True\n",
      "3 False\n",
      "text 3 length 584195:-\n",
      "0 False\n",
      "1 False\n",
      "2 False\n",
      "3 True\n"
     ]
    }
   ],
   "source": [
    "for i in range(len(texts)):\n",
    "    print (f\"text {i} length {len(texts[i])}:-\")\n",
    "    for j, t in enumerate(texts):\n",
    "        print (j, t == texts[i])"
   ]
  },
  {
   "cell_type": "markdown",
   "id": "de2a5180-2d17-4288-ae27-43098e4f44d3",
   "metadata": {},
   "source": [
    "Now load text file with selected encoding"
   ]
  },
  {
   "cell_type": "code",
   "execution_count": 7,
   "id": "8836a2e6-ce1c-45fe-8351-fcbdcacafdcc",
   "metadata": {},
   "outputs": [],
   "source": [
    "def check_for_file(file_path):\n",
    "    if os.path.isfile(file_path):\n",
    "        print(\"The file exists.\")\n",
    "    else:\n",
    "        print(\"The file does not exist.\")\n",
    "    \n"
   ]
  },
  {
   "cell_type": "code",
   "execution_count": 8,
   "id": "08dcaae1-ed52-4b44-985e-ebd88433088c",
   "metadata": {},
   "outputs": [
    {
     "name": "stdout",
     "output_type": "stream",
     "text": [
      "The file does not exist.\n"
     ]
    }
   ],
   "source": [
    "check_for_file(file_path_edited)"
   ]
  },
  {
   "cell_type": "code",
   "execution_count": 9,
   "id": "882d4aa6-951a-4b76-891f-280108318805",
   "metadata": {},
   "outputs": [
    {
     "name": "stdout",
     "output_type": "stream",
     "text": [
      "True\n",
      "True\n",
      "True\n",
      "True\n"
     ]
    }
   ],
   "source": [
    "for t in texts:\n",
    "    with open(file_path_edited, 'w', encoding='utf-8') as file:\n",
    "        file.write(t)\n",
    "    with open(file_path_edited, 'r', encoding='utf-8') as file:\n",
    "        text_read = file.read()\n",
    "    print(text_read == t)"
   ]
  },
  {
   "cell_type": "markdown",
   "id": "71addd6f-5e77-4bfa-8de9-518b2f90df1b",
   "metadata": {},
   "source": [
    "Watch out for this character as it is very awkward;"
   ]
  },
  {
   "cell_type": "code",
   "execution_count": null,
   "id": "eeb4237a-9736-4971-b225-3194ecda16de",
   "metadata": {},
   "outputs": [],
   "source": [
    "print(\"first print\")\n",
    "print(ord(\"\\x8e\"))\n",
    "print(\"second print\")\n",
    "print(chr(142))"
   ]
  },
  {
   "cell_type": "markdown",
   "id": "ec9500b2-bd02-4989-91c2-4aa893f1e842",
   "metadata": {},
   "source": [
    "Identify invalid characters using string:  Don't use this one as the later one is better."
   ]
  },
  {
   "cell_type": "code",
   "execution_count": null,
   "id": "bfecc5b2-de8c-412d-acd2-7de0a4756e1c",
   "metadata": {},
   "outputs": [],
   "source": [
    "\n",
    "# Define a string containing only valid characters (alphanumeric + punctuation)\n",
    "valid_chars = string.ascii_letters + string.digits + string.punctuation + \" \" = \"\\n\"\n",
    "\n",
    "# Example text with some invalid characters\n",
    "#test_text = \"This is an example text with invalid characters like Ò, ë, etc.\"\n",
    "test_text = text\n",
    "# Step 1: Identify invalid characters\n",
    "invalid_chars = set([char for char in test_text if char not in valid_chars])\n",
    "\n",
    "# Display the invalid characters found\n",
    "print(f\"Invalid characters found: {invalid_chars}\")\n",
    "\n",
    "# Step 2: Create a dictionary or list of tuples for replacement\n",
    "# For simplicity, let's replace invalid characters with '?'\n",
    "replacement_dict = {char: '?' for char in invalid_chars}\n",
    "\n",
    "# If you want to create a list of tuples instead:\n",
    "replacement_list = [(char, '?') for char in invalid_chars]\n",
    "\n",
    "# Step 3: Replace invalid characters in the text\n",
    "corrected_text = test_text\n",
    "for char, replacement in replacement_dict.items():\n",
    "    corrected_text = corrected_text.replace(char, replacement)\n",
    "\n",
    "# Display the corrected text\n",
    "#print(f\"Corrected text: {corrected_text}\")\n",
    "\n",
    "# Output\n",
    "print(\"Replacement dictionary:\", replacement_dict)\n",
    "print(\"Replacement list of tuples:\", replacement_list)\n"
   ]
  },
  {
   "cell_type": "markdown",
   "id": "418a6b60-87b3-4e53-9ccc-447208da3b3b",
   "metadata": {},
   "source": [
    "Identify invalid characters using regular expressions (re):\n"
   ]
  },
  {
   "cell_type": "code",
   "execution_count": 10,
   "id": "a3c17693-9ca8-4c51-b277-8690bc9422e8",
   "metadata": {},
   "outputs": [
    {
     "name": "stdout",
     "output_type": "stream",
     "text": [
      "invalid characters using re for utf-8: {'‘', '“', '”', 'é', '’'}\n",
      "invalid characters using re for latin-1: {'\\x9c', '\\x94', '\\x99', '\\x98', '©', '\\x80', 'Ã', 'â', '\\x9d', '¦'}\n",
      "invalid characters using re for iso-8859-1: {'\\x9c', '\\x94', '\\x99', '\\x98', '©', '\\x80', 'Ã', 'â', '\\x9d', '¦'}\n",
      "invalid characters using re for iso-8859-15: {'\\x9c', '\\x94', '\\x99', '\\x98', '©', '\\x80', 'Ã', 'Š', 'â', '\\x9d'}\n"
     ]
    }
   ],
   "source": [
    "# Define the pattern for valid characters (alphanumeric, spaces, and basic punctuation)\n",
    "valid_char_pattern = re.compile(r'[a-zA-Z0-9\\s.:;,?!\\'\"()£\\-—…&]')\n",
    "\n",
    "re_chars = len(valid_encodings) * [0]\n",
    "\n",
    "for enc, encoding_index in enumerate(valid_encodings):\n",
    "    test_text = texts[enc]\n",
    "\n",
    "# Find invalid characters\n",
    "    invalid_chars = set()\n",
    "    for i, char in enumerate(test_text):\n",
    "        if not valid_char_pattern.match(char):\n",
    "            invalid_chars.add(char)\n",
    "\n",
    "# Output the list of invalid characters and their positions\n",
    "    invalid_char_positions = [(char, [i for i, c in enumerate(test_text) if c == char]) for char in invalid_chars]\n",
    "    print(f\"invalid characters using re for {encodings[encoding_index]}: {invalid_chars}\")\n",
    "#print(invalid_char_positions)\n",
    "    re_chars[enc] = invalid_chars"
   ]
  },
  {
   "cell_type": "code",
   "execution_count": 11,
   "id": "14d38d60-8c60-40c5-b077-39f79fbd4964",
   "metadata": {},
   "outputs": [
    {
     "name": "stdout",
     "output_type": "stream",
     "text": [
      "valid characters used by string: abcdefghijklmnopqrstuvwxyzABCDEFGHIJKLMNOPQRSTUVWXYZ0123456789 !\"#$%&'()*+,-./:;<=>?@[\\]^_`{|}~\n",
      "invalid characters found using string for utf-8: {'\\x0c', '‘', '“', '”', '’'}\n",
      "invalid characters found using string for latin-1: {'\\x9c', '\\x94', '\\x99', '\\x98', '©', '\\x80', '\\x0c', 'Ã', 'â', '\\x9d', '¦'}\n",
      "invalid characters found using string for iso-8859-1: {'\\x9c', '\\x94', '\\x99', '\\x98', '©', '\\x80', '\\x0c', 'Ã', 'â', '\\x9d', '¦'}\n",
      "invalid characters found using string for iso-8859-15: {'\\x9c', '\\x94', '\\x99', '\\x98', '©', '\\x80', '\\x0c', 'Ã', 'Š', 'â', '\\x9d'}\n"
     ]
    }
   ],
   "source": [
    "# Define valid characters using the string module\n",
    "valid_chars = string.ascii_letters + string.digits + string.punctuation + \"…—àêé \\n\\t\"\n",
    "valid_chars = ''.join([char for char in valid_chars if char not in \"{}~$%\"])\n",
    "print (f\"valid characters used by string: {string.ascii_letters + string.digits + ' ' + string.punctuation}\")\n",
    "\n",
    "string_chars = len(valid_encodings) * [0]\n",
    "\n",
    "for enc, encoding_index in enumerate(valid_encodings):\n",
    "    test_text = texts[enc]\n",
    "\n",
    "    invalid_chars = set()\n",
    "    for i, char in enumerate(test_text):\n",
    "        if char not in valid_chars:\n",
    "            invalid_chars.add(char)\n",
    "    #invalid_chars.difference_update({\"\\n\",\"\\t\"})\n",
    "\n",
    "    invalid_char_positions = [(char, [i for i, c in enumerate(test_text) if c == char]) for char in invalid_chars]\n",
    "    print(f\"invalid characters found using string for {encodings[encoding_index]}: {invalid_chars}\")\n",
    "#print(invalid_char_positions)\n",
    "    string_chars[enc] = invalid_chars\n",
    "\n"
   ]
  },
  {
   "cell_type": "code",
   "execution_count": 12,
   "id": "1f696189-228c-4c5e-b5c1-0cad2546b4fa",
   "metadata": {},
   "outputs": [
    {
     "name": "stdout",
     "output_type": "stream",
     "text": [
      "156   \n",
      "148   \n",
      "153   \n",
      "152   \n",
      "169   ©\n",
      "128   \n",
      "12   \f",
      "\n",
      "195   Ã\n",
      "352   Š\n",
      "226   â\n",
      "157   \n"
     ]
    }
   ],
   "source": [
    "for char in invalid_chars:\n",
    "    print(ord(char),\" \", char)\n"
   ]
  },
  {
   "cell_type": "code",
   "execution_count": null,
   "id": "1c9aac02-26b0-4ef7-9ea5-7f8a40cd716f",
   "metadata": {},
   "outputs": [],
   "source": [
    "#just a little test:\n",
    "''.join([char for char in \"abcdefgh\" if char not in \"cd\"])"
   ]
  },
  {
   "cell_type": "code",
   "execution_count": null,
   "id": "7ce3f444-d4ac-494d-af07-ed92a5f37028",
   "metadata": {},
   "outputs": [],
   "source": [
    "print(valid_chars)\n",
    "print(ord(valid_chars[68]))  #this is the ' after the & in the list\n",
    "print(ord(valid_chars[-13])) #this is the ` before the { in the list\n",
    "print(ord(\"'\"))\n",
    "print(ord('\"'))\n",
    "print(ord(\"`\"))"
   ]
  },
  {
   "cell_type": "code",
   "execution_count": 13,
   "id": "0a5c39a5-996b-46dd-9240-c473c522bf85",
   "metadata": {},
   "outputs": [],
   "source": [
    "def display_chars(chars, method, unprintable = 142):\n",
    "    number = len(chars)\n",
    "    invalid_chars = '  '.join(char for char in chars)\n",
    "    unprintable_message = \" + unprintable character\" if chr(unprintable) in invalid_chars else \"\"\n",
    "    print(f\"{number} invalid chars found using {method}:  {invalid_chars}{unprintable_message}\")"
   ]
  },
  {
   "cell_type": "code",
   "execution_count": 14,
   "id": "7dd75512-5dd2-4840-8b6b-99f633a983d9",
   "metadata": {},
   "outputs": [
    {
     "name": "stdout",
     "output_type": "stream",
     "text": [
      "with encoding utf-8\n",
      "5 invalid chars found using re   :  ‘  “  ”  é  ’\n",
      "5 invalid chars found using string:  \f",
      "  ‘  “  ”  ’\n",
      "\n",
      "1 chars in re but not in string:    é\n",
      "1 chars in string but not in re:    \f",
      "\n",
      "\n",
      "with encoding latin-1\n",
      "10 invalid chars found using re   :          ©    Ã  â    ¦\n",
      "11 invalid chars found using string:          ©    \f",
      "  Ã  â    ¦\n",
      "\n",
      "0 chars in re but not in string:    \n",
      "1 chars in string but not in re:    \f",
      "\n",
      "\n",
      "with encoding iso-8859-1\n",
      "10 invalid chars found using re   :          ©    Ã  â    ¦\n",
      "11 invalid chars found using string:          ©    \f",
      "  Ã  â    ¦\n",
      "\n",
      "0 chars in re but not in string:    \n",
      "1 chars in string but not in re:    \f",
      "\n",
      "\n",
      "with encoding iso-8859-15\n",
      "10 invalid chars found using re   :          ©    Ã  Š  â  \n",
      "11 invalid chars found using string:          ©    \f",
      "  Ã  Š  â  \n",
      "\n",
      "0 chars in re but not in string:    \n",
      "1 chars in string but not in re:    \f",
      "\n",
      "\n"
     ]
    }
   ],
   "source": [
    "for enc, encoding_index in enumerate(valid_encodings):\n",
    "    print(f\"with encoding {encodings[encoding_index]}\")\n",
    "    \n",
    "    display_chars(re_chars[enc], \"re   \")\n",
    "    display_chars(string_chars[enc], \"string\")\n",
    "        \n",
    "    re_only = re_chars[enc] - string_chars[enc]\n",
    "    string_only = string_chars[enc] - re_chars[enc]\n",
    "    \n",
    "    print(f\"\\n{len(re_only)} chars in re but not in string:    {'  '.join(char for char in re_only)}\")\n",
    "    print(f\"{len(string_only)} chars in string but not in re:    {'  '.join(char for char in string_only)}\\n\")"
   ]
  },
  {
   "cell_type": "code",
   "execution_count": null,
   "id": "a4943f78-e923-466c-bfe4-aced2b8bf091",
   "metadata": {},
   "outputs": [],
   "source": [
    "print(ord(\"é\"))\n",
    "a = \"eé\".encode('utf-8')\n",
    "print(len(a))"
   ]
  },
  {
   "cell_type": "code",
   "execution_count": 16,
   "id": "9f4a4467-62ed-4c1e-99c7-aea755cc5815",
   "metadata": {},
   "outputs": [],
   "source": [
    "def compare_texts(text1, text2):\n",
    "    if len(text1) != len(text2):\n",
    "        #raise ValueError(\"Strings must be of the same length!\")\n",
    "        \n",
    "# Create a list of tuples with differing characters\n",
    "        differences = [(char1, char2) for char1, char2 in zip(text1, text2) if char1 != char2]\n",
    "\n",
    "# Print the list of tuples\n",
    "        print(differences[:100])\n",
    "\n"
   ]
  },
  {
   "cell_type": "code",
   "execution_count": 17,
   "id": "b101aa2e-2dcc-4c47-a0ef-cc19e12be77f",
   "metadata": {},
   "outputs": [],
   "source": [
    "def find_first_difference(text_1, text_2):\n",
    "    i = 0\n",
    "    max_length = min(len(text_1),len(text_2))\n",
    "    while ((text_1[:i] == text_2[:i]) and (i < max_length)):\n",
    "        i = i + 1\n",
    "    if i < max_length:\n",
    "        print (f\"first text, position {i} is {text_1[i]}\")\n",
    "        print(text_1[i:i+20])\n",
    "        print (f\"second text, position {i} is {text_2[i]}\")\n",
    "        print(text_2[i:i+20])\n",
    "    else:\n",
    "        print(\"no differences up to end of the smaller text\")"
   ]
  },
  {
   "cell_type": "code",
   "execution_count": 18,
   "id": "d9f8360c-aa8e-4c31-84ac-bdace25877ff",
   "metadata": {},
   "outputs": [],
   "source": [
    "# compare_texts(texts[0], texts[1])\n",
    "# find_first_difference(texts[0],texts[1])"
   ]
  },
  {
   "cell_type": "markdown",
   "id": "68157072-9acd-40f5-9ced-eadab9abb96a",
   "metadata": {},
   "source": [
    "Now we are going to display all the invalid characters in their context to decide what to do about them. We will just do it for one of the versions as they are all the same."
   ]
  },
  {
   "cell_type": "code",
   "execution_count": 19,
   "id": "8131f8a1-ad41-446a-9f61-c4671c500518",
   "metadata": {},
   "outputs": [],
   "source": [
    "def display_invalid_chars(test_text, window_size = 200, max_to_display = 8):\n",
    "# Find all invalid characters and their positions\n",
    "    #valid_chars = string.ascii_letters + string.digits + string.punctuation + \" —…()£-&\\n\\t\"\n",
    "    #print(valid_chars)\n",
    "    invalid_char_positions = [(i, char) for i, char in enumerate(test_text) if char not in valid_chars]\n",
    "                          \n",
    "    icp_list_sorted = sorted(invalid_char_positions,key=lambda x: x[1])\n",
    "    \n",
    "    for pos, char in icp_list_sorted:\n",
    "        start = max(pos - window_size // 2, 0)\n",
    "        end = min(pos + window_size // 2, len(test_text))\n",
    "        window = test_text[start:end]\n",
    "    \n",
    "    # Highlight the invalid character in the window\n",
    "        highlighted_window = window[:pos-start] + f\"[{char}]\" + window[pos-start+1:]\n",
    "        highlighted_window = highlighted_window.replace(\"\\n\", \" \")\n",
    "        highlighted_window = highlighted_window.replace(\"\\t\", \" \")\n",
    "        print(f\"Invalid character '{char}' ({ord(char)}) at position {pos}:\\n{highlighted_window}\\n\")\n",
    "\n",
    "\n"
   ]
  },
  {
   "cell_type": "code",
   "execution_count": 20,
   "id": "a3911099-b442-4a9d-8c95-23b6bd665470",
   "metadata": {},
   "outputs": [],
   "source": [
    "def display_text_in_context(source_text,target_text,window = 50, repeat = False):\n",
    "    ind = source_text.find(target_text)\n",
    "    if not repeat:\n",
    "        if ind != -1:\n",
    "            window = source_text[max(0, ind - window): ind + window + len(target_text)]\n",
    "            window = window.replace(\"\\n\", \" \")\n",
    "            window = window.replace(\"\\t\", \" \")\n",
    "            print(window)\n",
    "        print(\"not found\")\n",
    "    else:\n",
    "        if ind == -1:\n",
    "            print(\"not found\")\n",
    "        while True:\n",
    "            ind = source_text.find(target_text, ind)\n",
    "            if ind == -1:\n",
    "                break\n",
    "            start_window = max(0, ind - window)\n",
    "            end_window = min(len(source_text), ind + len(target_text) + window)\n",
    "            window_text = source_text[start_window:end_window]\n",
    "            print(ind, window_text)\n",
    "            ind += 1  # Move to the next position\n",
    "        \n",
    "        \n",
    "        \n",
    "        \n",
    "#        while ind != -1:\n",
    "#            display_window = source_text[max(0, ind - window): ind + window + len(target_text)]\n",
    "#            display_window = display_window.replace(\"\\n\", \" \")\n",
    "#            display_window = display_window.replace(\"\\t\", \" \")\n",
    "#            print(display_window)\n",
    "#            source_text = source_text[ind:]\n"
   ]
  },
  {
   "cell_type": "code",
   "execution_count": 28,
   "id": "11058467-a900-44e6-9660-cab4f84879b2",
   "metadata": {},
   "outputs": [
    {
     "name": "stdout",
     "output_type": "stream",
     "text": [
      "Invalid character '\f",
      "' (12) at position 7:\n",
      "Part I [\f",
      "]                            Chapter One   You would have searched a long time for the sort of windi\n",
      "\n",
      "Invalid character '\f",
      "' (12) at position 1882:\n",
      "for ease, this is how we will refer to them. I would say this couple lived an isolated life, but in [\f",
      "]those days few were “isolated” in any sense we would understand. For warmth and protection, the vil\n",
      "\n",
      "Invalid character '“' (8220) at position 1903:\n",
      " we will refer to them. I would say this couple lived an isolated life, but in \f",
      "those days few were [“]isolated” in any sense we would understand. For warmth and protection, the villagers lived in sh\n",
      "\n",
      "Invalid character '”' (8221) at position 1912:\n",
      "refer to them. I would say this couple lived an isolated life, but in \f",
      "those days few were “isolated[”] in any sense we would understand. For warmth and protection, the villagers lived in sh\n",
      "\n"
     ]
    }
   ],
   "source": [
    "display_invalid_chars(texts[0][:2000])"
   ]
  },
  {
   "cell_type": "code",
   "execution_count": 24,
   "id": "46de9dac-7420-405f-bffa-85235686a163",
   "metadata": {},
   "outputs": [],
   "source": [
    "# display_invalid_chars(texts[1][0:5000])"
   ]
  },
  {
   "cell_type": "code",
   "execution_count": 32,
   "id": "d3372624-e4bc-445a-a1e0-9203614d5c96",
   "metadata": {},
   "outputs": [
    {
     "name": "stderr",
     "output_type": "stream",
     "text": [
      "IOPub data rate exceeded.\n",
      "The Jupyter server will temporarily stop sending output\n",
      "to the client in order to avoid crashing it.\n",
      "To change this limit, set the config variable\n",
      "`--ServerApp.iopub_data_rate_limit`.\n",
      "\n",
      "Current values:\n",
      "ServerApp.iopub_data_rate_limit=1000000.0 (bytes/sec)\n",
      "ServerApp.rate_limit_window=3.0 (secs)\n",
      "\n"
     ]
    }
   ],
   "source": [
    "display_invalid_chars(texts[2])"
   ]
  },
  {
   "cell_type": "code",
   "execution_count": 33,
   "id": "06992110-3574-4ff8-ad08-f7e4bfbed4b2",
   "metadata": {},
   "outputs": [
    {
     "name": "stderr",
     "output_type": "stream",
     "text": [
      "IOPub data rate exceeded.\n",
      "The Jupyter server will temporarily stop sending output\n",
      "to the client in order to avoid crashing it.\n",
      "To change this limit, set the config variable\n",
      "`--ServerApp.iopub_data_rate_limit`.\n",
      "\n",
      "Current values:\n",
      "ServerApp.iopub_data_rate_limit=1000000.0 (bytes/sec)\n",
      "ServerApp.rate_limit_window=3.0 (secs)\n",
      "\n"
     ]
    }
   ],
   "source": [
    "display_invalid_chars(texts[3])"
   ]
  },
  {
   "cell_type": "code",
   "execution_count": null,
   "id": "2cc55f3e-890a-4a9b-89df-e9c29b35f5cb",
   "metadata": {},
   "outputs": [],
   "source": [
    "print(\"€\" in texts[3])\n",
    "print(texts[3][246245])"
   ]
  },
  {
   "cell_type": "code",
   "execution_count": 29,
   "id": "e8e97ed5-6248-414c-88cc-c54eb7361765",
   "metadata": {},
   "outputs": [],
   "source": [
    "# Function to find and replace specified strings in a text\n",
    "def replace_strings_with_context(text, replacements, window=10, silent = False):\n",
    "    \"\"\"\n",
    "    Replaces specified strings within a text and prints the context around each replacement.\n",
    "    \n",
    "    Parameters:\n",
    "    - text: The original string where replacements are done.\n",
    "    - replacements: A dictionary where keys are the substrings to find, and values are their replacements.\n",
    "    - window: Number of characters to show before and after the replaced string for context.\n",
    "    \n",
    "    Returns:\n",
    "    - A modified string with the replacements applied.\n",
    "    \"\"\"\n",
    "    counter = 0\n",
    "    for old, new in replacements.items():\n",
    "        index = text.find(old)\n",
    "        while index != -1:\n",
    "            # Extract context around the found string\n",
    "            start = max(index - window, 0)\n",
    "            end = min(index + len(old) + window, len(text))\n",
    "            before = text[start:index]\n",
    "            after = text[index + len(old):end]\n",
    "            before = before.replace(\"\\n\", \" \")\n",
    "            before = before.replace(\"\\t\", \" \")\n",
    "            after = after.replace(\"\\n\", \" \")\n",
    "            after = after.replace(\"\\t\", \" \")\n",
    "\n",
    "            # Print before, replaced, and after strings\n",
    "            if not silent:\n",
    "                print(f\"Before: {before}[{old}]{after}\")\n",
    "                print(f\"After:  {before}[{new}]{after}\\n\")\n",
    "\n",
    "            # Replace the string in the text\n",
    "            text = text[:index] + new + text[index + len(old):]\n",
    "            counter += 1\n",
    "            \n",
    "            # Find the next occurrence of the old string\n",
    "            index = text.find(old, index + len(new))\n",
    "\n",
    "    print(f\"made {counter} changes\")\n",
    "    return text\n",
    "\n",
    "\n"
   ]
  },
  {
   "cell_type": "code",
   "execution_count": null,
   "id": "778524b4-42c4-4d3a-8245-be104a19f3c3",
   "metadata": {},
   "outputs": [],
   "source": [
    "print(ord(\"b\"))\n",
    "print(chr(98))\n",
    "print(ord(\"Ž\"))"
   ]
  },
  {
   "cell_type": "code",
   "execution_count": 30,
   "id": "1cb1632a-6465-4d17-91f1-9211a2a5be4e",
   "metadata": {},
   "outputs": [
    {
     "name": "stdout",
     "output_type": "stream",
     "text": [
      "\f",
      ": \n",
      "’: '\n",
      "‘: \"\n",
      "“: \"\n",
      "”: \"\n"
     ]
    }
   ],
   "source": [
    "replacements = dict()\n",
    "# replacements[\"t}:le\"] = \"the\"\n",
    "# replacements[\"up o~ the\"] = \"up on the\"\n",
    "# replacements[\"the ~ort\"] = \"the sort\"\n",
    "# replacements[\"than ~ might\"] = \"than might\"\n",
    "# replacements[\"the house~\"] = \"the house.\"\n",
    "# replacements[\"while ~earlier\"] = \"while earlier\"\n",
    "# replacements[\"meetings ~once\"] = \"meetings once\"\n",
    "# replacements[\"Ž\"] = \"é\"\n",
    "# replacements[\"mean- it\"] = \"mean it\"\n",
    "# replacements[\"¤\"] = \"s\"\n",
    "# replacements[\"Ð\"] = \"-\"\n",
    "# replacements[\"É\"] = '-'\n",
    "# replacements[\"Ó\"] = '\"'\n",
    "# replacements[\"Ò\"] = '\"'\n",
    "# replacements[\"Ô\"] = '\"'\n",
    "# replacements[\"Rover.Ó I thanked\"] = \"Rover  I thanked\"\n",
    "# replacements['Rover.\" I thanked'] = \"Rover  I thanked\"\n",
    "# replacements[\"Õ\"] = \"'\"\n",
    "# replacements[chr(136)] = \"à\"\n",
    "# replacements[chr(142)] = \"é\"\n",
    "# replacements[chr(144)] = \"ê\"\n",
    "# replacements[\"Ñ\"] = \"-\"\n",
    "replacements[chr(12)] = \"\"\n",
    "# replacements[\"%egan\"] = \"began\"\n",
    "# replacements[\"t4arijço\"]=\"Sachiko\"\n",
    "replacements[chr(8217)] = \"'\"\n",
    "replacements[chr(8216)] = '\"'\n",
    "replacements[chr(8220)] = '\"'\n",
    "replacements[chr(8221)] = '\"'\n",
    "# replacements[\"*\"] = '\"'\n",
    "# replacements[\"AH the same\"] = \"Ah the same\"\n",
    "# replacements[\"•\"] = \"\"\n",
    "\n",
    "for key, value in replacements.items():\n",
    "        print(f\"{key}: {value}\")"
   ]
  },
  {
   "cell_type": "raw",
   "id": "8992d428-1d14-472d-af48-661a6c17594d",
   "metadata": {},
   "source": []
  },
  {
   "cell_type": "code",
   "execution_count": 31,
   "id": "57aa2f39-b0a6-4f1b-8ad3-1810e78d3030",
   "metadata": {},
   "outputs": [
    {
     "name": "stdout",
     "output_type": "stream",
     "text": [
      "made 7483 changes\n"
     ]
    }
   ],
   "source": [
    "text_edited = replace_strings_with_context(texts[0],replacements, silent = True)"
   ]
  },
  {
   "cell_type": "markdown",
   "id": "284826d4-de8e-4470-a65d-3d9348a8eada",
   "metadata": {},
   "source": [
    "Now see if there are any problems left:"
   ]
  },
  {
   "cell_type": "code",
   "execution_count": 32,
   "id": "7a148183-87ff-42f7-8eea-a55040664d8e",
   "metadata": {},
   "outputs": [],
   "source": [
    "display_invalid_chars(text_edited)\n"
   ]
  },
  {
   "cell_type": "code",
   "execution_count": 33,
   "id": "74281254-ae26-4d51-9476-5c185442e42d",
   "metadata": {},
   "outputs": [
    {
     "name": "stdout",
     "output_type": "stream",
     "text": [
      "35 Part I\n",
      "                            Chapter One\n",
      "\n",
      "\n",
      "You would have searched a long ti\n",
      "44865 ing today.\"\n",
      "                            Chapter Two\n",
      "\n",
      "\n",
      "There were, however, plenty of th\n",
      "82085 ese worries.\"\n",
      "                          Chapter Three\n",
      "\n",
      "\n",
      "The Saxon village, viewed from \n",
      "150826 ay or two.\"\n",
      "                            Chapter Four\n",
      "\n",
      "\n",
      "Never in his life had he seen hi\n",
      "169687 uld tremble.\n",
      "                           Chapter Five\n",
      "\n",
      "\n",
      "After a punishing climb for much\n",
      "227857 ly.\"\n",
      "Part II\n",
      "                           Chapter Six\n",
      "\n",
      "\n",
      "For all his tiredness, Axl was fi\n",
      "287030 ace\n",
      "radiant.\n",
      "                           Chapter Seven\n",
      "\n",
      "\n",
      "A hand had been shaking him, bu\n",
      "328651 t keeps us.\"\n",
      "                           Chapter Eight\n",
      "\n",
      "\n",
      "The young monk was a thin, sick\n",
      "386538 awaits us.\n",
      "                             Chapter Ten\n",
      "\n",
      "\n",
      "He had never intended to deceive \n",
      "400611 ft a sword?'\n",
      "                           Chapter Eleven\n",
      "\n",
      "\n",
      "He longed for a patch of sun t\n",
      "421916 my shoulders.\"\n",
      "                         Chapter Twelve\n",
      "\n",
      "\n",
      "He could hear the warrior's vo\n",
      "437008  we must go.\"\n",
      "                          Chapter Thirteen\n",
      "\n",
      "\n",
      "The goat, Axl could see, was\n",
      "474829 n boy?\n",
      "Part IV\n",
      "                         Chapter Fifteen\n",
      "\n",
      "\n",
      "Some of you will have fine mo\n",
      "535479 and\n",
      "farewell.\"\n",
      "                         Chapter Sixteen\n",
      "\n",
      "\n",
      "For some time now the goat ha\n",
      "540085 nee grew worse.\n",
      "                        Chapter Seventeen\n",
      "\n",
      "\n",
      "They came riding through th\n",
      "not found\n"
     ]
    }
   ],
   "source": [
    "display_text_in_context(text_edited, \"Chapter\", window = 40, repeat = True)\n",
    "display_text_in_context(text_edited, \"PART\", window = 80, repeat = True)"
   ]
  },
  {
   "cell_type": "code",
   "execution_count": 104,
   "id": "da73e006-a114-4a91-b0e9-1ae7714dc1e4",
   "metadata": {},
   "outputs": [
    {
     "name": "stdout",
     "output_type": "stream",
     "text": [
      "10\n"
     ]
    }
   ],
   "source": [
    "print(ord(\"\\n\"))"
   ]
  },
  {
   "cell_type": "code",
   "execution_count": 37,
   "id": "34e4a6d2-68fa-4f0f-a5e9-53d3ae627b26",
   "metadata": {},
   "outputs": [
    {
     "name": "stdout",
     "output_type": "stream",
     "text": [
      "rt, honestly and frankly, it was possible Wistan would understand and give him another chance.    A shoe in each hand, Edwin sprang lightly towards the next rock, faintly cheered by this possibility. Part III                      Gawain's First Reverie   Those dark widows. For what purpose did God place them on this mountain path before me? Does he wish to test my humility? Is it not enough he watches me \n",
      "not found\n"
     ]
    }
   ],
   "source": [
    "display_text_in_context(text_edited, \"Part III\", window = 200)"
   ]
  },
  {
   "cell_type": "code",
   "execution_count": 43,
   "id": "bcbb19cf-4fe1-447e-a98d-f48a7ca43168",
   "metadata": {},
   "outputs": [
    {
     "name": "stdout",
     "output_type": "stream",
     "text": [
      "as possible Wistan would understand and give him another chance.    A shoe in each hand, Edwin sprang lightly towards the next rock, faintly cheered by this possibility. Part III                      Gawain's First Reverie   Those dark widows. For what purpose did God place them on this mountain path before me? Does he wish to test my humility? Is it not enough he watches me save that gentle couple, the wounded boy als\n",
      "not found\n"
     ]
    }
   ],
   "source": [
    "display_text_in_context(text_edited, \"Gawain's First Reverie\", window = 200)\n"
   ]
  },
  {
   "cell_type": "code",
   "execution_count": 44,
   "id": "147695a7-54b1-46fe-ac3d-87bc8316ccd6",
   "metadata": {},
   "outputs": [
    {
     "name": "stdout",
     "output_type": "stream",
     "text": [
      "Part I Chapter One\n",
      "Part II Chapter Six\n",
      "Part III Gawain's First Reverie\n",
      "Part IV Chapter Fifteen\n"
     ]
    }
   ],
   "source": [
    "titles = list()\n",
    "# titles.append((\"PART ONE\", \"Chapter One\"))\n",
    "# titles.append((\"PART TWO\", \"Chapter Four\"))\n",
    "# titles.append((\"PART THREE\", \"Chapter Ten\"))\n",
    "# titles.append((\"PART FOUR\", \"Chapter Twelve\"))\n",
    "# titles.append((\"PART FIVE\", \"Chapter Fourteen\"))\n",
    "# titles.append((\"PART SIX\", \"Chapter Sixteen\"))\n",
    "# titles.append((\"PART SEVEN\", \"Chapter Twenty-three\"))\n",
    "titles.append((\"Part I\", \"Chapter One\"))\n",
    "titles.append((\"Part II\", \"Chapter Six\"))\n",
    "titles.append((\"Part III\", \"Gawain's First Reverie\"))                            \n",
    "titles.append((\"Part IV\", \"Chapter Fifteen\"))\n",
    "\n",
    "\n",
    "\n",
    "for edit_start, edit_end in titles:\n",
    "    print(edit_start, edit_end)\n"
   ]
  },
  {
   "cell_type": "code",
   "execution_count": 45,
   "id": "8dad37fb-5a0f-4aeb-abcf-c7ecddafa19c",
   "metadata": {},
   "outputs": [],
   "source": [
    "def remove_chunks(text, chunks, remove_all = False, buffer = 100):\n",
    "    # removes chunks defines by a list of tuples, start of chunk to end of chunk, removes the second part only if remove_all is set to True\n",
    "    print(\"text length:\", len(text))\n",
    "    for edit_start, edit_end in chunks: \n",
    "        ind1 = text.find(edit_start)\n",
    "        ind2 = text.find(edit_end)\n",
    "        if remove_all:\n",
    "            ind2 += len(edit_end)\n",
    "        if ind2 > ind1 and ind2 < ind1 + 100 and ind1 != -1 and ind2 != -1:\n",
    "            print (f\"removing {edit_start} to {edit_end}\")\n",
    "            text = text[:ind1] + text[ind2:]\n",
    "        else:\n",
    "            print(f\"{edit_start} to {edit_end} not removed\")\n",
    "    print(\"text length reduced to: \", len(text))\n",
    "    return text\n"
   ]
  },
  {
   "cell_type": "code",
   "execution_count": 90,
   "id": "3fd4875a-a99c-4754-a477-cf5259f80d9d",
   "metadata": {},
   "outputs": [
    {
     "name": "stdout",
     "output_type": "stream",
     "text": [
      "removing quick to the \n",
      "The quick brown fox jumps over the lazy dog\n",
      "The lazy dog\n"
     ]
    }
   ],
   "source": [
    "#TEST\n",
    "tt = \"The quick brown fox jumps over the lazy dog\"\n",
    "tt1 = [(\"quick\", \"the \")]\n",
    "tt2 = remove_chunks(tt, tt1, remove_all = True)\n",
    "print(tt)\n",
    "print(tt2)"
   ]
  },
  {
   "cell_type": "code",
   "execution_count": 46,
   "id": "2a4b9a54-d32a-40e9-8365-bbec9e5de322",
   "metadata": {},
   "outputs": [
    {
     "name": "stdout",
     "output_type": "stream",
     "text": [
      "text length: 569032\n",
      "removing Part I to Chapter One\n",
      "removing Part II to Chapter Six\n",
      "removing Part III to Gawain's First Reverie\n",
      "removing Part IV to Chapter Fifteen\n",
      "text length reduced to:  568840\n"
     ]
    }
   ],
   "source": [
    "text_edited_1 = remove_chunks(text_edited, titles, remove_all = True)"
   ]
  },
  {
   "cell_type": "code",
   "execution_count": 47,
   "id": "382c3cb8-a13d-4bef-8990-ddf7a830ce51",
   "metadata": {},
   "outputs": [],
   "source": [
    "tidy_up = dict()\n",
    "tidy_up[\"  \"] = \" \" \n",
    "tidy_up[\"Chapter Sixteen\"] = \"\"\n",
    "tidy_up[\"Chapter Seventeen\"] = \"\"\n",
    "tidy_up[\"Chapter Eighteen\"] = \"\"\n",
    "tidy_up[\"Chapter Nineteen\"] = \"\"\n",
    "tidy_up[\"Chapter Two\"] = \"\"\n",
    "tidy_up[\"Chapter Three\"] = \"\"\n",
    "tidy_up[\"Chapter Four\"] = \"\"\n",
    "tidy_up[\"Chapter Five\"] = \"\"\n",
    "tidy_up[\"Chapter Six\"] = \"\"\n",
    "tidy_up[\"Chapter Seven\"] = \"\"\n",
    "tidy_up[\"Chapter Eight\"] = \"\"\n",
    "tidy_up[\"Chapter Nine\"] = \"\"\n",
    "tidy_up[\"Chapter Ten\"] = \"\"\n",
    "tidy_up[\"Chapter Eleven\"] = \"\"\n",
    "tidy_up[\"Chapter Twelve\"] = \"\"\n",
    "tidy_up[\"Chapter Thirteen\"] = \"\"\n",
    "tidy_up[\"Chapter Fourteen\"] = \"\"\n",
    "tidy_up[\"Chapter Fifteen\"] = \"\"\n",
    "tidy_up[\"Chapter Twenty-one\"] = \"\"\n",
    "tidy_up[\"Chapter Twenty-two\"] = \"\"\n",
    "tidy_up[\"Chapter Twenty\"] = \"\"\n"
   ]
  },
  {
   "cell_type": "code",
   "execution_count": 49,
   "id": "988c4599-b731-457b-ab06-0276235031d8",
   "metadata": {},
   "outputs": [],
   "source": [
    "# text_edited_2 = replace_strings_with_context(text_edited_1,tidy_up, silent = False)"
   ]
  },
  {
   "cell_type": "code",
   "execution_count": 55,
   "id": "bbde150a-55de-4a3e-8a1f-00d36f9ea1d9",
   "metadata": {},
   "outputs": [
    {
     "name": "stdout",
     "output_type": "stream",
     "text": [
      "not found\n"
     ]
    }
   ],
   "source": [
    "display_text_in_context(text_edited_2, \"14\")"
   ]
  },
  {
   "cell_type": "code",
   "execution_count": 56,
   "id": "58d822cf-143a-485e-9edd-af4497c173dd",
   "metadata": {},
   "outputs": [],
   "source": [
    "def find_capitalized_words(text):\n",
    "    \"\"\"\n",
    "    Finds all words in the string that are in capitals, excluding words of one character.\n",
    "    \n",
    "    Parameters:\n",
    "    - text: The input string.\n",
    "    \n",
    "    Returns:\n",
    "    - A list of fully capitalized words with more than one character.\n",
    "    \"\"\"\n",
    "    # Use regex to match words with all capital letters and exclude single-character words\n",
    "    capitalized_words = re.findall(r'\\b[A-Z]{2,}\\b', text)\n",
    "    return capitalized_words\n"
   ]
  },
  {
   "cell_type": "code",
   "execution_count": 57,
   "id": "3679f96e-a99d-4162-b101-a74ea76f2a56",
   "metadata": {},
   "outputs": [],
   "source": [
    "capitalized_words = find_capitalized_words(text_edited_2)\n",
    "for word in capitalized_words:\n",
    "    if word != \"OK\":\n",
    "        ind = text_edited.find(word)\n",
    "        window = text_edited[ind-75:ind+40]\n",
    "        window = window.replace(\"\\n\", \" \")\n",
    "        window = window.replace(\"\\t\", \" \")\n",
    "        print(window)\n"
   ]
  },
  {
   "cell_type": "code",
   "execution_count": 58,
   "id": "c3f0402e-91ad-417d-a7ab-09bcfb7d0726",
   "metadata": {},
   "outputs": [],
   "source": [
    "with open(file_path_edited_2, 'w', encoding='utf-8') as f:\n",
    "    f.write(text_edited_2)"
   ]
  },
  {
   "cell_type": "markdown",
   "id": "3ba0d16b-757d-49b3-9e91-94c069acbf18",
   "metadata": {},
   "source": [
    "Check that saving and loading the corrected file doesn't change it.  There will be a change when it encounters é because it takes 2 bytes.  Up to that point, there should be no differences."
   ]
  },
  {
   "cell_type": "code",
   "execution_count": 59,
   "id": "b9943619-0fae-4421-b35f-3df15444cc94",
   "metadata": {},
   "outputs": [],
   "source": [
    "with open(file_path_edited_2, 'r', encoding='utf-8') as f:\n",
    "    text = f.read()"
   ]
  },
  {
   "cell_type": "code",
   "execution_count": 60,
   "id": "92072c71-ed76-40c4-b520-96a87b25502e",
   "metadata": {},
   "outputs": [
    {
     "data": {
      "text/plain": [
       "True"
      ]
     },
     "execution_count": 60,
     "metadata": {},
     "output_type": "execute_result"
    }
   ],
   "source": [
    "text == text_edited_2"
   ]
  },
  {
   "cell_type": "code",
   "execution_count": 114,
   "id": "48752051-c7e6-4870-b224-270b85ef1cbe",
   "metadata": {},
   "outputs": [
    {
     "data": {
      "text/plain": [
       "-1"
      ]
     },
     "execution_count": 114,
     "metadata": {},
     "output_type": "execute_result"
    }
   ],
   "source": [
    "text_edited.find(\"é\")"
   ]
  },
  {
   "cell_type": "code",
   "execution_count": 113,
   "id": "a192f721-99b8-4dda-9eed-e45c0c4a320a",
   "metadata": {},
   "outputs": [
    {
     "name": "stdout",
     "output_type": "stream",
     "text": [
      "578625 578369\n"
     ]
    }
   ],
   "source": [
    "print(len(text), len(text_edited_2))"
   ]
  },
  {
   "cell_type": "code",
   "execution_count": 115,
   "id": "ed1d3224-0c81-4e36-b5ca-fecd58465dde",
   "metadata": {},
   "outputs": [
    {
     "data": {
      "text/plain": [
       "-1"
      ]
     },
     "execution_count": 115,
     "metadata": {},
     "output_type": "execute_result"
    }
   ],
   "source": [
    "text_edited_2.find(chr(8216))"
   ]
  },
  {
   "cell_type": "code",
   "execution_count": 120,
   "id": "891e6aab-d611-4ae9-8c97-331d8ec0c47e",
   "metadata": {},
   "outputs": [
    {
     "data": {
      "text/plain": [
       "19068"
      ]
     },
     "execution_count": 120,
     "metadata": {},
     "output_type": "execute_result"
    }
   ],
   "source": [
    "text_edited_1.find(chr(8230))"
   ]
  },
  {
   "cell_type": "code",
   "execution_count": 122,
   "id": "cccbcceb-3377-4886-a7ad-25811a324f87",
   "metadata": {},
   "outputs": [
    {
     "name": "stdout",
     "output_type": "stream",
     "text": [
      "nese name, and I— perhaps out \n",
      "f the\n",
      "city.'\n",
      "\"Oh really? I didn't realize that. You lived there with…with friends?\"\n",
      "Sachiko stopped pouring and looked a\n"
     ]
    }
   ],
   "source": [
    "print(text_edited_1[200:230])\n",
    "print(text_edited_1[19000:19120])\n",
    "      "
   ]
  },
  {
   "cell_type": "code",
   "execution_count": 61,
   "id": "29278a47-903b-4cda-9983-e1625d9ce6c9",
   "metadata": {},
   "outputs": [
    {
     "name": "stdout",
     "output_type": "stream",
     "text": [
      "Found broken word: foot-path\n",
      "Found broken word: mist-layered\n",
      "Found broken word: half-remembered\n",
      "Found broken word: half-wit\n",
      "Found broken word: slow-witted\n",
      "Found broken word: near-certainty\n",
      "Found broken word: trap-door\n",
      "Found broken word: foul-smelling\n",
      "Found broken word: she-dragon\n",
      "Found broken word: well-guarded\n",
      "Found broken word: near-darkness\n",
      "Found broken word: long-handled\n",
      "Found broken word: she-dragon\n",
      "Found broken word: she-dragon\n",
      "Found broken word: she-dragon\n",
      "Found broken word: near-silhouette\n",
      "Found broken word: she-dragon\n",
      "Found broken word: she-dragon\n",
      "Found broken word: she-dragon\n",
      "19\n",
      "569311\n"
     ]
    }
   ],
   "source": [
    "\n",
    "# Sample text with hyphenated words across lines\n",
    "t = texts[0]\n",
    "# Use regex to find words that are hyphenated across lines\n",
    "# Match sequences where a hyphen is at the end of a line, followed by a newline, and then continued with a word\n",
    "hyphenated_words = re.findall(r\"(\\w+)-\\n(\\w+)\", t)\n",
    "\n",
    "# Print the hyphenated words\n",
    "for first_part, second_part in hyphenated_words:\n",
    "    print(f\"Found broken word: {first_part}-{second_part}\")\n",
    "print(len(hyphenated_words))\n",
    "print(len(t))\n"
   ]
  },
  {
   "cell_type": "code",
   "execution_count": null,
   "id": "7f4a3a26-30be-4c94-8060-8d422247fbcc",
   "metadata": {},
   "outputs": [],
   "source": []
  }
 ],
 "metadata": {
  "kernelspec": {
   "display_name": "Python 3 (ipykernel)",
   "language": "python",
   "name": "python3"
  },
  "language_info": {
   "codemirror_mode": {
    "name": "ipython",
    "version": 3
   },
   "file_extension": ".py",
   "mimetype": "text/x-python",
   "name": "python",
   "nbconvert_exporter": "python",
   "pygments_lexer": "ipython3",
   "version": "3.9.19"
  }
 },
 "nbformat": 4,
 "nbformat_minor": 5
}
