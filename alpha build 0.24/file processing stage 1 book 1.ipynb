{
 "cells": [
  {
   "cell_type": "code",
   "execution_count": null,
   "id": "c3aee3eb-0151-40b6-b2f0-c89f598ffb33",
   "metadata": {},
   "outputs": [],
   "source": []
  },
  {
   "cell_type": "raw",
   "id": "dba75ec7-d938-4363-a149-cf55b195c389",
   "metadata": {},
   "source": []
  },
  {
   "cell_type": "code",
   "execution_count": 7,
   "id": "1726f6c5-0b63-4184-ab57-21fad4577fae",
   "metadata": {},
   "outputs": [],
   "source": [
    "import stanza, re, benepar, psutil, gc, json, csv, time, string\n",
    "\n",
    "import numpy as np\n",
    "import networkx as nx\n",
    "import pandas as pd\n",
    "import seaborn as sns\n",
    "\n",
    "from textstat import textstat\n",
    "from datetime import datetime\n",
    "from collections import Counter\n",
    "\n",
    "import spacy\n",
    "from spacy.tokenizer import Tokenizer\n",
    "from spacy.util import compile_infix_regex\n",
    "\n",
    "\n",
    "import nltk\n",
    "from nltk.tokenize import word_tokenize\n",
    "from nltk.corpus import stopwords\n",
    "from nltk.probability import FreqDist\n",
    "from nltk.tokenize import RegexpTokenizer\n",
    "from nltk import Tree\n",
    "from textblob import Word\n",
    "from spellchecker import SpellChecker\n",
    "\n",
    "import matplotlib.pyplot as plt\n",
    "from matplotlib.ticker import LogLocator, LogFormatter"
   ]
  },
  {
   "cell_type": "code",
   "execution_count": null,
   "id": "03f1a91c-73f2-4bb0-a1ff-055c4397e639",
   "metadata": {},
   "outputs": [],
   "source": [
    "# These only need to run once\n",
    "# stanza.download('en')\n",
    "spacy.cli.download(\"en_core_web_sm\")\n",
    "nltk.download('punkt_tab')\n",
    "benepar.download('benepar_en3')"
   ]
  },
  {
   "cell_type": "code",
   "execution_count": null,
   "id": "9925c57c-d0c2-4722-a640-518bc779bb10",
   "metadata": {},
   "outputs": [],
   "source": []
  },
  {
   "cell_type": "code",
   "execution_count": 8,
   "id": "b24cd98d-fecd-47ae-934f-11ab9a1d0ef3",
   "metadata": {},
   "outputs": [],
   "source": [
    "source_texts= list()\n",
    "source_texts.append(\"Kazuo Ishiguro - Never Let Me Go.txt\")\n",
    "source_texts.append(\"Kazuo Ishiguro - The Remains of the Day\")\n",
    "source_texts.append(\"Kazuo Ishiguro - A Pale View of Hills-Knopf Doubleday Publishing Group (1990)\")\n",
    "source_texts.append(\"Kazuo Ishiguro - Never Let Me Go\")\n",
    "source_texts.append(\"Kazuo-Ishiguro-When-We-Were-Orphans-Alfred-A.-Knopf_Vintage-_2001_\")\n",
    "source_texts.append(\"The Buried Giant (Kazuo Ishiguro) (Z-Library)-1\")\n",
    "source_texts.append(\"Kazuo Ishiguro - The Unconsoled-Vintage (1996)\")\n",
    "directory_path = \"C:/Users/Roland/Documents/AI/stylometry/\"\n"
   ]
  },
  {
   "cell_type": "markdown",
   "id": "a44cd383-7ed8-4a5e-b3a5-689e23bd83fc",
   "metadata": {},
   "source": [
    "Select choice of text by specifying index (starting with 0):"
   ]
  },
  {
   "cell_type": "code",
   "execution_count": 9,
   "id": "e7de0d6d-2d39-4e52-a3eb-ca53e8f885e4",
   "metadata": {},
   "outputs": [],
   "source": [
    "text_choice = 1"
   ]
  },
  {
   "cell_type": "code",
   "execution_count": 10,
   "id": "80bdd75b-df2f-41dd-bbf9-0cbd168b11a0",
   "metadata": {},
   "outputs": [
    {
     "name": "stdout",
     "output_type": "stream",
     "text": [
      "C:/Users/Roland/Documents/AI/stylometry/Kazuo Ishiguro - The Remains of the Day.txt\n"
     ]
    }
   ],
   "source": [
    "file_path = directory_path+source_texts[text_choice]+\".txt\"\n",
    "print (file_path)"
   ]
  },
  {
   "cell_type": "markdown",
   "id": "eb3a424d-a71e-4aec-9c1a-9270c93a1e6a",
   "metadata": {},
   "source": [
    "Try reading the file with different encodings:"
   ]
  },
  {
   "cell_type": "code",
   "execution_count": 11,
   "id": "7517aed2-9b4b-4ab5-831a-a04363879770",
   "metadata": {},
   "outputs": [
    {
     "name": "stdout",
     "output_type": "stream",
     "text": [
      "Failed to read with encoding: utf-8\n",
      "Failed to read with encoding: ascii\n",
      "Successfully read the file with encoding: latin-1 (encoding index 2).  This gives the beginning as:\n",
      "    Prologue: July 1956    Darlington Hall    IT seems increasingly likely that I really will undertake the expedition that has been preoccupying my imagination now for some days. An expedition, I should sa\n",
      "\n",
      "Successfully read the file with encoding: windows-1252 (encoding index 3).  This gives the beginning as:\n",
      "    Prologue: July 1956    Darlington Hall    IT seems increasingly likely that I really will undertake the expedition that has been preoccupying my imagination now for some days. An expedition, I should sa\n",
      "\n",
      "Successfully read the file with encoding: iso-8859-1 (encoding index 4).  This gives the beginning as:\n",
      "    Prologue: July 1956    Darlington Hall    IT seems increasingly likely that I really will undertake the expedition that has been preoccupying my imagination now for some days. An expedition, I should sa\n",
      "\n",
      "Successfully read the file with encoding: iso-8859-15 (encoding index 5).  This gives the beginning as:\n",
      "    Prologue: July 1956    Darlington Hall    IT seems increasingly likely that I really will undertake the expedition that has been preoccupying my imagination now for some days. An expedition, I should sa\n",
      "\n"
     ]
    }
   ],
   "source": [
    "encodings = ['utf-8', 'ascii', 'latin-1','windows-1252', 'iso-8859-1', 'iso-8859-15']\n",
    "texts = []\n",
    "for i, encoding in enumerate(encodings):\n",
    "    try:\n",
    "        with open(file_path, 'r', encoding=encoding) as file:\n",
    "            test_text = file.read()\n",
    "        print(\"\"\"Successfully read the file with encoding: {encoding} (encoding index {ind}).  This gives the beginning as:\\n{content}\\n\"\"\".format(encoding=encoding, ind=i, content=test_text[0:200].replace(\"\\n\", \"  \")))\n",
    "        texts.append(test_text)\n",
    "    except UnicodeDecodeError:\n",
    "        print(f\"Failed to read with encoding: {encoding}\")"
   ]
  },
  {
   "cell_type": "markdown",
   "id": "2821bf5c-eb4a-46cb-abd1-709aef0328e2",
   "metadata": {},
   "source": [
    "Are they the same?"
   ]
  },
  {
   "cell_type": "code",
   "execution_count": 83,
   "id": "8ee204e1-a1a0-45f5-9382-d0878e4852bf",
   "metadata": {},
   "outputs": [
    {
     "name": "stdout",
     "output_type": "stream",
     "text": [
      "text 0 length 423697:-\n",
      "0 True\n",
      "1 False\n",
      "2 True\n",
      "3 False\n",
      "text 1 length 423697:-\n",
      "0 False\n",
      "1 True\n",
      "2 False\n",
      "3 False\n",
      "text 2 length 423697:-\n",
      "0 True\n",
      "1 False\n",
      "2 True\n",
      "3 False\n",
      "text 3 length 423697:-\n",
      "0 False\n",
      "1 False\n",
      "2 False\n",
      "3 True\n"
     ]
    }
   ],
   "source": [
    "for i in range(len(texts)):\n",
    "    print (f\"text {i} length {len(texts[i])}:-\")\n",
    "    for j, t in enumerate(texts):\n",
    "        print (j, t == texts[i])"
   ]
  },
  {
   "cell_type": "markdown",
   "id": "de2a5180-2d17-4288-ae27-43098e4f44d3",
   "metadata": {},
   "source": [
    "Now load text file with selected encoding"
   ]
  },
  {
   "cell_type": "code",
   "execution_count": 82,
   "id": "6a1f469f-6cbf-4629-8fa6-181b1f7fd5af",
   "metadata": {},
   "outputs": [
    {
     "name": "stdout",
     "output_type": "stream",
     "text": [
      "423697\n"
     ]
    }
   ],
   "source": [
    "print(len(texts[0]))"
   ]
  },
  {
   "cell_type": "code",
   "execution_count": 9,
   "id": "85ded0ce-a727-4fbd-bb40-079ae6a05609",
   "metadata": {},
   "outputs": [
    {
     "name": "stdout",
     "output_type": "stream",
     "text": [
      "Total characters in book:  423697\n"
     ]
    }
   ],
   "source": [
    "encoding = encodings[2]\n",
    "with open(file_path, 'r', encoding=encoding) as file:\n",
    "    text = file.read()\n",
    "print(f\"Total characters in book:  {len(text)}\")"
   ]
  },
  {
   "cell_type": "code",
   "execution_count": 62,
   "id": "9982365c-ec4b-462f-a177-84e3d7d10487",
   "metadata": {},
   "outputs": [
    {
     "name": "stdout",
     "output_type": "stream",
     "text": [
      "C:/Users/Roland/Documents/AI/stylometry/Kazuo Ishiguro - The Remains of the Day - edited.txt\n"
     ]
    }
   ],
   "source": [
    "save_path = file_path[:-4]+\" - edited.txt\"\n",
    "print(save_path)\n"
   ]
  },
  {
   "cell_type": "code",
   "execution_count": 69,
   "id": "882d4aa6-951a-4b76-891f-280108318805",
   "metadata": {},
   "outputs": [
    {
     "name": "stdout",
     "output_type": "stream",
     "text": [
      "C:/Users/Roland/Documents/AI/stylometry/Kazuo Ishiguro - The Remains of the Day - edited.txt\n",
      "True\n",
      "True\n",
      "True\n",
      "True\n"
     ]
    }
   ],
   "source": [
    "for t in texts:\n",
    "    with open(save_path, 'w', encoding='utf-8') as file:\n",
    "        file.write(t)\n",
    "    with open(save_path, 'r', encoding='utf-8') as file:\n",
    "        text_edited = file.read()\n",
    "    print(text_edited == t)"
   ]
  },
  {
   "cell_type": "code",
   "execution_count": 34,
   "id": "76a19c13-0300-4c7e-9a27-8a5a372079a8",
   "metadata": {},
   "outputs": [
    {
     "data": {
      "text/plain": [
       "True"
      ]
     },
     "execution_count": 34,
     "metadata": {},
     "output_type": "execute_result"
    }
   ],
   "source": [
    "text == text_edited"
   ]
  },
  {
   "cell_type": "markdown",
   "id": "71addd6f-5e77-4bfa-8de9-518b2f90df1b",
   "metadata": {},
   "source": [
    "Watch out for this character as it is very awkward;"
   ]
  },
  {
   "cell_type": "code",
   "execution_count": 13,
   "id": "eeb4237a-9736-4971-b225-3194ecda16de",
   "metadata": {},
   "outputs": [
    {
     "name": "stdout",
     "output_type": "stream",
     "text": [
      "first print\n",
      "142\n",
      "second print\n",
      "\n"
     ]
    }
   ],
   "source": [
    "print(\"first print\")\n",
    "print(ord(\"\\x8e\"))\n",
    "print(\"second print\")\n",
    "print(chr(142))"
   ]
  },
  {
   "cell_type": "markdown",
   "id": "ec9500b2-bd02-4989-91c2-4aa893f1e842",
   "metadata": {},
   "source": [
    "Identify invalid characters using string:"
   ]
  },
  {
   "cell_type": "code",
   "execution_count": 52,
   "id": "bfecc5b2-de8c-412d-acd2-7de0a4756e1c",
   "metadata": {},
   "outputs": [
    {
     "name": "stdout",
     "output_type": "stream",
     "text": [
      "Invalid characters found: {'É', 'Ó', 'Ò', '¤', 'Õ', '\\t', 'á', 'Ð', '\\n', '\\x8e'}\n",
      "Replacement dictionary: {'É': '?', 'Ó': '?', 'Ò': '?', '¤': '?', 'Õ': '?', '\\t': '?', 'á': '?', 'Ð': '?', '\\n': '?', '\\x8e': '?'}\n",
      "Replacement list of tuples: [('É', '?'), ('Ó', '?'), ('Ò', '?'), ('¤', '?'), ('Õ', '?'), ('\\t', '?'), ('á', '?'), ('Ð', '?'), ('\\n', '?'), ('\\x8e', '?')]\n"
     ]
    }
   ],
   "source": [
    "\n",
    "# Define a string containing only valid characters (alphanumeric + punctuation)\n",
    "valid_chars = string.ascii_letters + string.digits + string.punctuation + \" \" = \"\\n\"\n",
    "\n",
    "# Example text with some invalid characters\n",
    "#test_text = \"This is an example text with invalid characters like Ò, ë, etc.\"\n",
    "test_text = text\n",
    "# Step 1: Identify invalid characters\n",
    "invalid_chars = set([char for char in test_text if char not in valid_chars])\n",
    "\n",
    "# Display the invalid characters found\n",
    "print(f\"Invalid characters found: {invalid_chars}\")\n",
    "\n",
    "# Step 2: Create a dictionary or list of tuples for replacement\n",
    "# For simplicity, let's replace invalid characters with '?'\n",
    "replacement_dict = {char: '?' for char in invalid_chars}\n",
    "\n",
    "# If you want to create a list of tuples instead:\n",
    "replacement_list = [(char, '?') for char in invalid_chars]\n",
    "\n",
    "# Step 3: Replace invalid characters in the text\n",
    "corrected_text = test_text\n",
    "for char, replacement in replacement_dict.items():\n",
    "    corrected_text = corrected_text.replace(char, replacement)\n",
    "\n",
    "# Display the corrected text\n",
    "#print(f\"Corrected text: {corrected_text}\")\n",
    "\n",
    "# Output\n",
    "print(\"Replacement dictionary:\", replacement_dict)\n",
    "print(\"Replacement list of tuples:\", replacement_list)\n"
   ]
  },
  {
   "cell_type": "markdown",
   "id": "418a6b60-87b3-4e53-9ccc-447208da3b3b",
   "metadata": {},
   "source": [
    "Identify invalid characters using regular expression (re):"
   ]
  },
  {
   "cell_type": "code",
   "execution_count": 14,
   "id": "a3c17693-9ca8-4c51-b277-8690bc9422e8",
   "metadata": {},
   "outputs": [
    {
     "name": "stdout",
     "output_type": "stream",
     "text": [
      "invalid characters using re for latin-1: {'Ð', 'á', '~', '\\x8e', 'Ò', 'Õ', '¤', 'Ó', '}', 'É'}\n",
      "invalid characters using re for windows-1252: {'Ð', 'á', '~', 'Ò', 'Ž', 'Õ', '¤', 'Ó', '}', 'É'}\n",
      "invalid characters using re for iso-8859-1: {'Ð', 'á', '~', '\\x8e', 'Ò', 'Õ', '¤', 'Ó', '}', 'É'}\n",
      "invalid characters using re for iso-8859-15: {'Ð', 'á', '€', '~', '\\x8e', 'Ò', 'Õ', 'Ó', '}', 'É'}\n"
     ]
    }
   ],
   "source": [
    "# Define the pattern for valid characters (alphanumeric, spaces, and basic punctuation)\n",
    "valid_char_pattern = re.compile(r'[a-zA-Z0-9\\s.:;,?!\\'\"()£\\-&]')\n",
    "\n",
    "valid_encodings = [2, 3, 4, 5]\n",
    "re_chars = len(valid_encodings) * [0]\n",
    "\n",
    "for enc, encoding_index in enumerate(valid_encodings):\n",
    "    test_text = texts[enc]\n",
    "\n",
    "# Find invalid characters\n",
    "    invalid_chars = set()\n",
    "    for i, char in enumerate(test_text):\n",
    "        if not valid_char_pattern.match(char):\n",
    "            invalid_chars.add(char)\n",
    "\n",
    "# Output the list of invalid characters and their positions\n",
    "    invalid_char_positions = [(char, [i for i, c in enumerate(test_text) if c == char]) for char in invalid_chars]\n",
    "    print(f\"invalid characters using re for {encodings[encoding_index]}: {invalid_chars}\")\n",
    "#print(invalid_char_positions)\n",
    "    re_chars[enc] = invalid_chars"
   ]
  },
  {
   "cell_type": "code",
   "execution_count": 15,
   "id": "14d38d60-8c60-40c5-b077-39f79fbd4964",
   "metadata": {},
   "outputs": [
    {
     "name": "stdout",
     "output_type": "stream",
     "text": [
      "valid characters used by string: abcdefghijklmnopqrstuvwxyzABCDEFGHIJKLMNOPQRSTUVWXYZ0123456789 !\"#$%&'()*+,-./:;<=>?@[\\]^_`{|}~\n",
      "invalid characters found using string for latin-1: {'Ð', 'á', '~', '\\x8e', 'Ò', 'Õ', '¤', 'Ó', '}', 'É'}\n",
      "invalid characters found using string for windows-1252: {'Ð', 'á', '~', 'Ò', 'Ž', 'Õ', '¤', 'Ó', '}', 'É'}\n",
      "invalid characters found using string for iso-8859-1: {'Ð', 'á', '~', '\\x8e', 'Ò', 'Õ', '¤', 'Ó', '}', 'É'}\n",
      "invalid characters found using string for iso-8859-15: {'Ð', 'á', '€', '~', '\\x8e', 'Ò', 'Õ', 'Ó', '}', 'É'}\n"
     ]
    }
   ],
   "source": [
    "# Define valid characters using the string module\n",
    "valid_chars = string.ascii_letters + string.digits + string.punctuation + \"é \\n\\t\"\n",
    "valid_chars = ''.join([char for char in valid_chars if char not in \"{}~$%\"])\n",
    "print (f\"valid characters used by string: {string.ascii_letters + string.digits + ' ' + string.punctuation}\")\n",
    "# Example text\n",
    "#test_text = \"This is a tÈst string with invàlid chàracters.\"\n",
    "valid_encodings = [2, 3, 4, 5]\n",
    "string_chars = len(valid_encodings) * [0]\n",
    "\n",
    "for enc, encoding_index in enumerate(valid_encodings):\n",
    "    test_text = texts[enc]\n",
    "\n",
    "    invalid_chars = set()\n",
    "    for i, char in enumerate(test_text):\n",
    "        if char not in valid_chars:\n",
    "            invalid_chars.add(char)\n",
    "    #invalid_chars.difference_update({\"\\n\",\"\\t\"})\n",
    "\n",
    "    invalid_char_positions = [(char, [i for i, c in enumerate(test_text) if c == char]) for char in invalid_chars]\n",
    "    print(f\"invalid characters found using string for {encodings[encoding_index]}: {invalid_chars}\")\n",
    "#print(invalid_char_positions)\n",
    "    string_chars[enc] = invalid_chars\n",
    "\n"
   ]
  },
  {
   "cell_type": "code",
   "execution_count": 16,
   "id": "1c9aac02-26b0-4ef7-9ea5-7f8a40cd716f",
   "metadata": {},
   "outputs": [
    {
     "data": {
      "text/plain": [
       "'abefgh'"
      ]
     },
     "execution_count": 16,
     "metadata": {},
     "output_type": "execute_result"
    }
   ],
   "source": [
    "#just a little test:\n",
    "''.join([char for char in \"abcdefgh\" if char not in \"cd\"])"
   ]
  },
  {
   "cell_type": "code",
   "execution_count": 17,
   "id": "7ce3f444-d4ac-494d-af07-ed92a5f37028",
   "metadata": {},
   "outputs": [
    {
     "name": "stdout",
     "output_type": "stream",
     "text": [
      "abcdefghijklmnopqrstuvwxyzABCDEFGHIJKLMNOPQRSTUVWXYZ0123456789!\"#&'()*+,-./:;<=>?@[\\]^_`|é \n",
      "\t\n",
      "41\n",
      "63\n",
      "39\n",
      "34\n",
      "96\n"
     ]
    }
   ],
   "source": [
    "print(valid_chars)\n",
    "print(ord(valid_chars[68]))  #this is the ' after the & in the list\n",
    "print(ord(valid_chars[-13])) #this is the ` before the { in the list\n",
    "print(ord(\"'\"))\n",
    "print(ord('\"'))\n",
    "print(ord(\"`\"))"
   ]
  },
  {
   "cell_type": "code",
   "execution_count": 18,
   "id": "0a5c39a5-996b-46dd-9240-c473c522bf85",
   "metadata": {},
   "outputs": [],
   "source": [
    "def display_chars(chars, method, unprintable = 142):\n",
    "    number = len(chars)\n",
    "    invalid_chars = '  '.join(char for char in chars)\n",
    "    unprintable_message = \" + unprintable character\" if chr(unprintable) in invalid_chars else \"\"\n",
    "    print(f\"{number} invalid chars found using {method}:  {invalid_chars}{unprintable_message}\")"
   ]
  },
  {
   "cell_type": "code",
   "execution_count": 19,
   "id": "7dd75512-5dd2-4840-8b6b-99f633a983d9",
   "metadata": {},
   "outputs": [
    {
     "name": "stdout",
     "output_type": "stream",
     "text": [
      "with encoding latin-1\n",
      "10 invalid chars found using re   :  Ð  á  ~    Ò  Õ  ¤  Ó  }  É + unprintable character\n",
      "10 invalid chars found using string:  Ð  á  ~    Ò  Õ  ¤  Ó  }  É + unprintable character\n",
      "\n",
      "0 chars in re but not in string:    \n",
      "0 chars in string but not in re:    \n",
      "\n",
      "with encoding windows-1252\n",
      "10 invalid chars found using re   :  Ð  á  ~  Ò  Ž  Õ  ¤  Ó  }  É\n",
      "10 invalid chars found using string:  Ð  á  ~  Ò  Ž  Õ  ¤  Ó  }  É\n",
      "\n",
      "0 chars in re but not in string:    \n",
      "0 chars in string but not in re:    \n",
      "\n",
      "with encoding iso-8859-1\n",
      "10 invalid chars found using re   :  Ð  á  ~    Ò  Õ  ¤  Ó  }  É + unprintable character\n",
      "10 invalid chars found using string:  Ð  á  ~    Ò  Õ  ¤  Ó  }  É + unprintable character\n",
      "\n",
      "0 chars in re but not in string:    \n",
      "0 chars in string but not in re:    \n",
      "\n",
      "with encoding iso-8859-15\n",
      "10 invalid chars found using re   :  Ð  á  €  ~    Ò  Õ  Ó  }  É + unprintable character\n",
      "10 invalid chars found using string:  Ð  á  €  ~    Ò  Õ  Ó  }  É + unprintable character\n",
      "\n",
      "0 chars in re but not in string:    \n",
      "0 chars in string but not in re:    \n",
      "\n"
     ]
    }
   ],
   "source": [
    "for enc, encoding_index in enumerate(valid_encodings):\n",
    "    print(f\"with encoding {encodings[encoding_index]}\")\n",
    "    \n",
    "    display_chars(re_chars[enc], \"re   \")\n",
    "    display_chars(string_chars[enc], \"string\")\n",
    "        \n",
    "    re_only = re_chars[enc] - string_chars[enc]\n",
    "    string_only = string_chars[enc] - re_chars[enc]\n",
    "    \n",
    "    print(f\"\\n{len(re_only)} chars in re but not in string:    {'  '.join(char for char in re_only)}\")\n",
    "    print(f\"{len(string_only)} chars in string but not in re:    {'  '.join(char for char in string_only)}\\n\")"
   ]
  },
  {
   "cell_type": "code",
   "execution_count": 20,
   "id": "a4943f78-e923-466c-bfe4-aced2b8bf091",
   "metadata": {},
   "outputs": [
    {
     "name": "stdout",
     "output_type": "stream",
     "text": [
      "233\n",
      "3\n"
     ]
    }
   ],
   "source": [
    "print(ord(\"é\"))\n",
    "a = \"eé\".encode('utf-8')\n",
    "print(len(a))"
   ]
  },
  {
   "cell_type": "code",
   "execution_count": 21,
   "id": "9f4a4467-62ed-4c1e-99c7-aea755cc5815",
   "metadata": {},
   "outputs": [],
   "source": [
    "def compare_texts(text1, text2):\n",
    "    if len(text1) != len(text2):\n",
    "        raise ValueError(\"Strings must be of the same length!\")\n",
    "\n",
    "# Create a list of tuples with differing characters\n",
    "    differences = [(char1, char2) for char1, char2 in zip(text1, text2) if char1 != char2]\n",
    "\n",
    "# Print the list of tuples\n",
    "    print(differences[:100])"
   ]
  },
  {
   "cell_type": "code",
   "execution_count": 22,
   "id": "d9f8360c-aa8e-4c31-84ac-bdace25877ff",
   "metadata": {},
   "outputs": [
    {
     "name": "stdout",
     "output_type": "stream",
     "text": [
      "[('¤', '€')]\n"
     ]
    }
   ],
   "source": [
    "compare_texts(texts[2], texts[3])"
   ]
  },
  {
   "cell_type": "markdown",
   "id": "68157072-9acd-40f5-9ced-eadab9abb96a",
   "metadata": {},
   "source": [
    "Now we are going to display all the invalid characters in their context to decide what to do about them. We will do this for each of the different encodings."
   ]
  },
  {
   "cell_type": "code",
   "execution_count": 30,
   "id": "8131f8a1-ad41-446a-9f61-c4671c500518",
   "metadata": {},
   "outputs": [],
   "source": [
    "def display_invalid_chars(test_text, window_size = 200):\n",
    "# Find all invalid characters and their positions\n",
    "    #valid_chars = string.ascii_letters + string.digits + string.punctuation + \" ()£-&\\n\\t\"\n",
    "    #print(valid_chars)\n",
    "    invalid_char_positions = [(i, char) for i, char in enumerate(test_text) if char not in valid_chars]\n",
    "                          \n",
    "    icp_list_sorted = sorted(invalid_char_positions,key=lambda x: x[1])\n",
    "    \n",
    "    for pos, char in icp_list_sorted:\n",
    "        start = max(pos - window_size // 2, 0)\n",
    "        end = min(pos + window_size // 2, len(test_text))\n",
    "        window = test_text[start:end]\n",
    "    \n",
    "    # Highlight the invalid character in the window\n",
    "        highlighted_window = window[:pos-start] + f\"[{char}]\" + window[pos-start+1:]\n",
    "        highlighted_window = highlighted_window.replace(\"\\n\", \" \")\n",
    "        highlighted_window = highlighted_window.replace(\"\\t\", \" \")\n",
    "        print(f\"Invalid character '{char}' at position {pos}:\\n{highlighted_window}\\n\")\n",
    "\n",
    "\n"
   ]
  },
  {
   "cell_type": "code",
   "execution_count": 31,
   "id": "11058467-a900-44e6-9660-cab4f84879b2",
   "metadata": {},
   "outputs": [
    {
     "name": "stdout",
     "output_type": "stream",
     "text": [
      "Invalid character '}' at position 104524:\n",
      "s; but as I recall, his hair had greyed entirely and his tall slender figure already bore signs of t[}]:le stoop that was to become so pronounced in his last years. He barely glanced up from his volume \n",
      "\n",
      "Invalid character '~' at position 10340:\n",
      "- including the back corridor, the two still rooms and the old laundry - and the guest corridor up o[~] the second floor would be dust-sheeted, leaving all the main ground-floor rooms and a generous num\n",
      "\n",
      "Invalid character '~' at position 13782:\n",
      "that Miss Kenton, with her great affection for this house, with her exemplary professionalism - the [~]ort almost impossible to find nowadays - was Just the factor needed to enable me to complete a full\n",
      "\n",
      "Invalid character '~' at position 125575:\n",
      "ite. I decided to minimize my presence by standing in the shadows much further away from table than [~] might usually have done. Of course, this strategy had a distinct disadvantage in that each time I \n",
      "\n",
      "Invalid character '~' at position 234136:\n",
      "er, shortly afterwards to become foreign secretary - paid a very 'off the record' visit to the house[~] In fact, now that the subsequent fruits of those visits have become well documented, there seems l\n",
      "\n",
      "Invalid character '~' at position 259037:\n",
      "ose of clearing away the remains of his lordship's taking tea there with some guests a little while [~]earlier. I can recall spotting from some distance - long before reaching the steps where my father \n",
      "\n",
      "Invalid character '~' at position 304992:\n",
      "subsequent events, it could well be argued that in making my decision to end those evening meetings [~]once and for all, I was perhaps not entirely aware of the full implications of what I was doing. In\n",
      "\n",
      "Invalid character '' at position 146834:\n",
      "Yes, sir. That is, effectively.\"  \"Just a minute.\"  The young gentleman reached down into the attach[] case at his feet and brought out a notebook and pencil. \"Fire away, Stevens.\"  I coughed again and\n",
      "\n",
      "Invalid character '' at position 147613:\n",
      "s my message is rather redundant.\"  \"You can assure Father I'm very well briefed indeed. This attach[] case\" - he nudged it with his foot - \"is chock-full of notes on every possible angle one can imagi\n",
      "\n",
      "Invalid character '' at position 147950:\n",
      "her of that.\"  \"I will, sir.\"  Mr Cardinal seemed to relax a little. He prodded once more his attach[] case - which I felt inclined to keep my eyes averted from - and said: \"I suppose you've been wonde\n",
      "\n",
      "Invalid character '' at position 148726:\n",
      "ts for a renewed effort when the young gentleman suddenly rose to his feet, and clutching his attach[] case to his person, said: \"Well, I think I'll go and take a little fresh air. Thanks for your help\n",
      "\n",
      "Invalid character '' at position 155660:\n",
      "igure of the young Mr Cardinal taking some fresh air around the grounds. He was clutching his attach[] case as usual and I could seehe was strolling slowly along the path that runs the outer perimeter \n",
      "\n",
      "Invalid character '' at position 157298:\n",
      "ed a little late and I fear I rather startled the young gentleman, who immediately pulled his attach[] case away from me and clutched it to his chest with both arms.  \"I'm very sorry, sir.\"  \"My goodne\n",
      "\n",
      "Invalid character '¤' at position 246245:\n",
      "last night as I lay there in the darkness, listening to the sounds from below of the landlord and hi[¤] wife clearing up for the night.   Day Threeá - Evening  Moscombe, near Tavistock, Devon  I FEEL I \n",
      "\n",
      "Invalid character 'É' at position 253216:\n",
      "ever, we must not allow sentiment to creep into our judgement. Now really, I must bid you good night[É]Ó  \"Mr Stevens, I am outraged that you can sit there and utter what you have just done as though yo\n",
      "\n",
      "Invalid character 'É' at position 303657:\n",
      "necessary without our meeting on this basis.\"  \"Mr Stevens, this is quite unnecessary. I merely said[É]Ó  \"I mean- it, Miss Kenton. In fact, I had been wondering for some time if we should not discontin\n",
      "\n",
      "Invalid character 'É' at position 359778:\n",
      " the car up the steep winding road. I said:  \"It wasn't my intention to deceive anyone, sir. However[É]Ó  \"Oh, no need to explain, old fellow. I can quite see how it happened. I mean to say, you are a p\n",
      "\n",
      "Invalid character 'Ð' at position 193995:\n",
      "show. I had expected the room to smell of death, but on account of Mrs Mortimer - or else her apron [Ð] the room was dominated by the smell of roas ting.  Dr Meredith rose and said: \"My condolences, Ste\n",
      "\n",
      "Invalid character 'Ð' at position 312721:\n",
      " endure this evening. No doubt, too, my present mood is not unconnected with the fact that tomorrow [Ð] provided I am supplied with petrol by the local garage, as the Taylors assure me I will be - I sho\n",
      "\n",
      "Invalid character 'Ò' at position 1253:\n",
      "self on the chaise-longue, and stretched out his legs. It was then, gazing up at me, that he said:  [Ò]You realize, Stevens, I donÕt expect you to be loc ked up here in this house all the time I'm away.\n",
      "\n",
      "Invalid character 'Ó' at position 253217:\n",
      "ver, we must not allow sentiment to creep into our judgement. Now really, I must bid you good nightÉ[Ó]  \"Mr Stevens, I am outraged that you can sit there and utter what you have just done as though you\n",
      "\n",
      "Invalid character 'Ó' at position 303322:\n",
      "xtent to which they were inconveniencing you.\"  \"Mr Stevens, I merely said that I was tired tonight.[Ó]  \"No, no, Miss Kenton, it's perfectly understandable. You have a busy life, and these meetings are\n",
      "\n",
      "Invalid character 'Ó' at position 303658:\n",
      "ecessary without our meeting on this basis.\"  \"Mr Stevens, this is quite unnecessary. I merely saidÉ[Ó]  \"I mean- it, Miss Kenton. In fact, I had been wondering for some time if we should not discontinu\n",
      "\n",
      "Invalid character 'Ó' at position 321904:\n",
      " people here aren't shy about expressing it. That's something your Mr Lindsay learnt quickly enough.[Ó]  \"He was no gentleman,\" Mr Taylor said quietly.  \"He was no gentleman, that Mr Lindsay.\"  \"That's \n",
      "\n",
      "Invalid character 'Ó' at position 328528:\n",
      " It must be quite something, sir, to be discussing matters with his like.\"  \"Well, I must reiterate,[Ó] I said, \"I didn't have a great deal to do with Mr Churchill. But as you rightly point out, it's ra\n",
      "\n",
      "Invalid character 'Ó' at position 357877:\n",
      "an of petrol for you,\" Dr Carlisle announced, as he ushered me into the passenger seat of his Rover.[Ó] I thanked him for his thoughtfulness but when I made inquiries as to payment, I found that he, too\n",
      "\n",
      "Invalid character 'Ó' at position 359779:\n",
      "the car up the steep winding road. I said:  \"It wasn't my intention to deceive anyone, sir. HoweverÉ[Ó]  \"Oh, no need to explain, old fellow. I can quite see how it happened. I mean to say, you are a pr\n",
      "\n",
      "Invalid character 'Õ' at position 1281:\n",
      "nd stretched out his legs. It was then, gazing up at me, that he said:  ÒYou realize, Stevens, I don[Õ]t expect you to be loc ked up here in this house all the time I'm away. Why don't you take the car \n",
      "\n",
      "Invalid character 'á' at position 42784:\n",
      " a round-backed bridge and on into more rural surroundings. I refreshed my face and hands with cold [á]water at the basin, then seated myself on a hard-backed chair left near one of the windows to await\n",
      "\n",
      "Invalid character 'á' at position 45668:\n",
      "ead than mine to answer such a question, but if I were forced to hazard a guess, I would say that it[á] is the very lack of obvious drama or spectacle that sets the beauty of our land apart. What is per\n",
      "\n",
      "Invalid character 'á' at position 128841:\n",
      "name here - and they and his lordship were often to be found locked in discussion for hours on end. [á]  Some of the visitors were, in fact, so 'off the record' that I was instructed to make sure the st\n",
      "\n",
      "Invalid character 'á' at position 246290:\n",
      "stening to the sounds from below of the landlord and hi¤ wife clearing up for the night.   Day Three[á] - Evening  Moscombe, near Tavistock, Devon  I FEEL I should perhaps return a moment to the questio\n",
      "\n",
      "Invalid character 'á' at position 275836:\n",
      "e had given me thorough directions, which had seemed clear enough at the time, and it is impossible'[á] to say now whose fault it was that I subsequently failed to find any trace of this roadside establ\n",
      "\n",
      "Invalid character 'á' at position 321768:\n",
      ", he soon learnt otherwise. A lot of hard thinking and talking goes on in this place. There's plenty[á] of good strong opinion around .and people here aren't shy about expressing it. That's something yo\n",
      "\n",
      "Invalid character 'á' at position 394952:\n",
      "s I stood there pondering the events of the evening - those that had unfolded and those still in the[á] process of doing so - they appeared to me a sort of summary of all that I had come to achieve thus\n",
      "\n",
      "Invalid character 'á' at position 412679:\n",
      "etirement is the best part of life for a married couple. You must do all you can to make these years[á] happy ones for yourself and your husband. We may never meet again, Mrs Benn, so I would ask you to\n",
      "\n"
     ]
    }
   ],
   "source": [
    "display_invalid_chars(texts[0])"
   ]
  },
  {
   "cell_type": "code",
   "execution_count": 32,
   "id": "46de9dac-7420-405f-bffa-85235686a163",
   "metadata": {},
   "outputs": [
    {
     "name": "stdout",
     "output_type": "stream",
     "text": [
      "Invalid character '}' at position 104524:\n",
      "s; but as I recall, his hair had greyed entirely and his tall slender figure already bore signs of t[}]:le stoop that was to become so pronounced in his last years. He barely glanced up from his volume \n",
      "\n",
      "Invalid character '~' at position 10340:\n",
      "- including the back corridor, the two still rooms and the old laundry - and the guest corridor up o[~] the second floor would be dust-sheeted, leaving all the main ground-floor rooms and a generous num\n",
      "\n",
      "Invalid character '~' at position 13782:\n",
      "that Miss Kenton, with her great affection for this house, with her exemplary professionalism - the [~]ort almost impossible to find nowadays - was Just the factor needed to enable me to complete a full\n",
      "\n",
      "Invalid character '~' at position 125575:\n",
      "ite. I decided to minimize my presence by standing in the shadows much further away from table than [~] might usually have done. Of course, this strategy had a distinct disadvantage in that each time I \n",
      "\n",
      "Invalid character '~' at position 234136:\n",
      "er, shortly afterwards to become foreign secretary - paid a very 'off the record' visit to the house[~] In fact, now that the subsequent fruits of those visits have become well documented, there seems l\n",
      "\n",
      "Invalid character '~' at position 259037:\n",
      "ose of clearing away the remains of his lordship's taking tea there with some guests a little while [~]earlier. I can recall spotting from some distance - long before reaching the steps where my father \n",
      "\n",
      "Invalid character '~' at position 304992:\n",
      "subsequent events, it could well be argued that in making my decision to end those evening meetings [~]once and for all, I was perhaps not entirely aware of the full implications of what I was doing. In\n",
      "\n",
      "Invalid character '¤' at position 246245:\n",
      "last night as I lay there in the darkness, listening to the sounds from below of the landlord and hi[¤] wife clearing up for the night.   Day Threeá - Evening  Moscombe, near Tavistock, Devon  I FEEL I \n",
      "\n",
      "Invalid character 'É' at position 253216:\n",
      "ever, we must not allow sentiment to creep into our judgement. Now really, I must bid you good night[É]Ó  \"Mr Stevens, I am outraged that you can sit there and utter what you have just done as though yo\n",
      "\n",
      "Invalid character 'É' at position 303657:\n",
      "necessary without our meeting on this basis.\"  \"Mr Stevens, this is quite unnecessary. I merely said[É]Ó  \"I mean- it, Miss Kenton. In fact, I had been wondering for some time if we should not discontin\n",
      "\n",
      "Invalid character 'É' at position 359778:\n",
      " the car up the steep winding road. I said:  \"It wasn't my intention to deceive anyone, sir. However[É]Ó  \"Oh, no need to explain, old fellow. I can quite see how it happened. I mean to say, you are a p\n",
      "\n",
      "Invalid character 'Ð' at position 193995:\n",
      "show. I had expected the room to smell of death, but on account of Mrs Mortimer - or else her apron [Ð] the room was dominated by the smell of roas ting.  Dr Meredith rose and said: \"My condolences, Ste\n",
      "\n",
      "Invalid character 'Ð' at position 312721:\n",
      " endure this evening. No doubt, too, my present mood is not unconnected with the fact that tomorrow [Ð] provided I am supplied with petrol by the local garage, as the Taylors assure me I will be - I sho\n",
      "\n",
      "Invalid character 'Ò' at position 1253:\n",
      "self on the chaise-longue, and stretched out his legs. It was then, gazing up at me, that he said:  [Ò]You realize, Stevens, I donÕt expect you to be loc ked up here in this house all the time I'm away.\n",
      "\n",
      "Invalid character 'Ó' at position 253217:\n",
      "ver, we must not allow sentiment to creep into our judgement. Now really, I must bid you good nightÉ[Ó]  \"Mr Stevens, I am outraged that you can sit there and utter what you have just done as though you\n",
      "\n",
      "Invalid character 'Ó' at position 303322:\n",
      "xtent to which they were inconveniencing you.\"  \"Mr Stevens, I merely said that I was tired tonight.[Ó]  \"No, no, Miss Kenton, it's perfectly understandable. You have a busy life, and these meetings are\n",
      "\n",
      "Invalid character 'Ó' at position 303658:\n",
      "ecessary without our meeting on this basis.\"  \"Mr Stevens, this is quite unnecessary. I merely saidÉ[Ó]  \"I mean- it, Miss Kenton. In fact, I had been wondering for some time if we should not discontinu\n",
      "\n",
      "Invalid character 'Ó' at position 321904:\n",
      " people here aren't shy about expressing it. That's something your Mr Lindsay learnt quickly enough.[Ó]  \"He was no gentleman,\" Mr Taylor said quietly.  \"He was no gentleman, that Mr Lindsay.\"  \"That's \n",
      "\n",
      "Invalid character 'Ó' at position 328528:\n",
      " It must be quite something, sir, to be discussing matters with his like.\"  \"Well, I must reiterate,[Ó] I said, \"I didn't have a great deal to do with Mr Churchill. But as you rightly point out, it's ra\n",
      "\n",
      "Invalid character 'Ó' at position 357877:\n",
      "an of petrol for you,\" Dr Carlisle announced, as he ushered me into the passenger seat of his Rover.[Ó] I thanked him for his thoughtfulness but when I made inquiries as to payment, I found that he, too\n",
      "\n",
      "Invalid character 'Ó' at position 359779:\n",
      "the car up the steep winding road. I said:  \"It wasn't my intention to deceive anyone, sir. HoweverÉ[Ó]  \"Oh, no need to explain, old fellow. I can quite see how it happened. I mean to say, you are a pr\n",
      "\n",
      "Invalid character 'Õ' at position 1281:\n",
      "nd stretched out his legs. It was then, gazing up at me, that he said:  ÒYou realize, Stevens, I don[Õ]t expect you to be loc ked up here in this house all the time I'm away. Why don't you take the car \n",
      "\n",
      "Invalid character 'á' at position 42784:\n",
      " a round-backed bridge and on into more rural surroundings. I refreshed my face and hands with cold [á]water at the basin, then seated myself on a hard-backed chair left near one of the windows to await\n",
      "\n",
      "Invalid character 'á' at position 45668:\n",
      "ead than mine to answer such a question, but if I were forced to hazard a guess, I would say that it[á] is the very lack of obvious drama or spectacle that sets the beauty of our land apart. What is per\n",
      "\n",
      "Invalid character 'á' at position 128841:\n",
      "name here - and they and his lordship were often to be found locked in discussion for hours on end. [á]  Some of the visitors were, in fact, so 'off the record' that I was instructed to make sure the st\n",
      "\n",
      "Invalid character 'á' at position 246290:\n",
      "stening to the sounds from below of the landlord and hi¤ wife clearing up for the night.   Day Three[á] - Evening  Moscombe, near Tavistock, Devon  I FEEL I should perhaps return a moment to the questio\n",
      "\n",
      "Invalid character 'á' at position 275836:\n",
      "e had given me thorough directions, which had seemed clear enough at the time, and it is impossible'[á] to say now whose fault it was that I subsequently failed to find any trace of this roadside establ\n",
      "\n",
      "Invalid character 'á' at position 321768:\n",
      ", he soon learnt otherwise. A lot of hard thinking and talking goes on in this place. There's plenty[á] of good strong opinion around .and people here aren't shy about expressing it. That's something yo\n",
      "\n",
      "Invalid character 'á' at position 394952:\n",
      "s I stood there pondering the events of the evening - those that had unfolded and those still in the[á] process of doing so - they appeared to me a sort of summary of all that I had come to achieve thus\n",
      "\n",
      "Invalid character 'á' at position 412679:\n",
      "etirement is the best part of life for a married couple. You must do all you can to make these years[á] happy ones for yourself and your husband. We may never meet again, Mrs Benn, so I would ask you to\n",
      "\n",
      "Invalid character 'Ž' at position 146834:\n",
      "Yes, sir. That is, effectively.\"  \"Just a minute.\"  The young gentleman reached down into the attach[Ž] case at his feet and brought out a notebook and pencil. \"Fire away, Stevens.\"  I coughed again and\n",
      "\n",
      "Invalid character 'Ž' at position 147613:\n",
      "s my message is rather redundant.\"  \"You can assure Father I'm very well briefed indeed. This attach[Ž] case\" - he nudged it with his foot - \"is chock-full of notes on every possible angle one can imagi\n",
      "\n",
      "Invalid character 'Ž' at position 147950:\n",
      "her of that.\"  \"I will, sir.\"  Mr Cardinal seemed to relax a little. He prodded once more his attach[Ž] case - which I felt inclined to keep my eyes averted from - and said: \"I suppose you've been wonde\n",
      "\n",
      "Invalid character 'Ž' at position 148726:\n",
      "ts for a renewed effort when the young gentleman suddenly rose to his feet, and clutching his attach[Ž] case to his person, said: \"Well, I think I'll go and take a little fresh air. Thanks for your help\n",
      "\n",
      "Invalid character 'Ž' at position 155660:\n",
      "igure of the young Mr Cardinal taking some fresh air around the grounds. He was clutching his attach[Ž] case as usual and I could seehe was strolling slowly along the path that runs the outer perimeter \n",
      "\n",
      "Invalid character 'Ž' at position 157298:\n",
      "ed a little late and I fear I rather startled the young gentleman, who immediately pulled his attach[Ž] case away from me and clutched it to his chest with both arms.  \"I'm very sorry, sir.\"  \"My goodne\n",
      "\n"
     ]
    }
   ],
   "source": [
    "display_invalid_chars(texts[1])"
   ]
  },
  {
   "cell_type": "code",
   "execution_count": 33,
   "id": "d3372624-e4bc-445a-a1e0-9203614d5c96",
   "metadata": {},
   "outputs": [
    {
     "name": "stdout",
     "output_type": "stream",
     "text": [
      "Invalid character '}' at position 104524:\n",
      "s; but as I recall, his hair had greyed entirely and his tall slender figure already bore signs of t[}]:le stoop that was to become so pronounced in his last years. He barely glanced up from his volume \n",
      "\n",
      "Invalid character '~' at position 10340:\n",
      "- including the back corridor, the two still rooms and the old laundry - and the guest corridor up o[~] the second floor would be dust-sheeted, leaving all the main ground-floor rooms and a generous num\n",
      "\n",
      "Invalid character '~' at position 13782:\n",
      "that Miss Kenton, with her great affection for this house, with her exemplary professionalism - the [~]ort almost impossible to find nowadays - was Just the factor needed to enable me to complete a full\n",
      "\n",
      "Invalid character '~' at position 125575:\n",
      "ite. I decided to minimize my presence by standing in the shadows much further away from table than [~] might usually have done. Of course, this strategy had a distinct disadvantage in that each time I \n",
      "\n",
      "Invalid character '~' at position 234136:\n",
      "er, shortly afterwards to become foreign secretary - paid a very 'off the record' visit to the house[~] In fact, now that the subsequent fruits of those visits have become well documented, there seems l\n",
      "\n",
      "Invalid character '~' at position 259037:\n",
      "ose of clearing away the remains of his lordship's taking tea there with some guests a little while [~]earlier. I can recall spotting from some distance - long before reaching the steps where my father \n",
      "\n",
      "Invalid character '~' at position 304992:\n",
      "subsequent events, it could well be argued that in making my decision to end those evening meetings [~]once and for all, I was perhaps not entirely aware of the full implications of what I was doing. In\n",
      "\n",
      "Invalid character '' at position 146834:\n",
      "Yes, sir. That is, effectively.\"  \"Just a minute.\"  The young gentleman reached down into the attach[] case at his feet and brought out a notebook and pencil. \"Fire away, Stevens.\"  I coughed again and\n",
      "\n",
      "Invalid character '' at position 147613:\n",
      "s my message is rather redundant.\"  \"You can assure Father I'm very well briefed indeed. This attach[] case\" - he nudged it with his foot - \"is chock-full of notes on every possible angle one can imagi\n",
      "\n",
      "Invalid character '' at position 147950:\n",
      "her of that.\"  \"I will, sir.\"  Mr Cardinal seemed to relax a little. He prodded once more his attach[] case - which I felt inclined to keep my eyes averted from - and said: \"I suppose you've been wonde\n",
      "\n",
      "Invalid character '' at position 148726:\n",
      "ts for a renewed effort when the young gentleman suddenly rose to his feet, and clutching his attach[] case to his person, said: \"Well, I think I'll go and take a little fresh air. Thanks for your help\n",
      "\n",
      "Invalid character '' at position 155660:\n",
      "igure of the young Mr Cardinal taking some fresh air around the grounds. He was clutching his attach[] case as usual and I could seehe was strolling slowly along the path that runs the outer perimeter \n",
      "\n",
      "Invalid character '' at position 157298:\n",
      "ed a little late and I fear I rather startled the young gentleman, who immediately pulled his attach[] case away from me and clutched it to his chest with both arms.  \"I'm very sorry, sir.\"  \"My goodne\n",
      "\n",
      "Invalid character '¤' at position 246245:\n",
      "last night as I lay there in the darkness, listening to the sounds from below of the landlord and hi[¤] wife clearing up for the night.   Day Threeá - Evening  Moscombe, near Tavistock, Devon  I FEEL I \n",
      "\n",
      "Invalid character 'É' at position 253216:\n",
      "ever, we must not allow sentiment to creep into our judgement. Now really, I must bid you good night[É]Ó  \"Mr Stevens, I am outraged that you can sit there and utter what you have just done as though yo\n",
      "\n",
      "Invalid character 'É' at position 303657:\n",
      "necessary without our meeting on this basis.\"  \"Mr Stevens, this is quite unnecessary. I merely said[É]Ó  \"I mean- it, Miss Kenton. In fact, I had been wondering for some time if we should not discontin\n",
      "\n",
      "Invalid character 'É' at position 359778:\n",
      " the car up the steep winding road. I said:  \"It wasn't my intention to deceive anyone, sir. However[É]Ó  \"Oh, no need to explain, old fellow. I can quite see how it happened. I mean to say, you are a p\n",
      "\n",
      "Invalid character 'Ð' at position 193995:\n",
      "show. I had expected the room to smell of death, but on account of Mrs Mortimer - or else her apron [Ð] the room was dominated by the smell of roas ting.  Dr Meredith rose and said: \"My condolences, Ste\n",
      "\n",
      "Invalid character 'Ð' at position 312721:\n",
      " endure this evening. No doubt, too, my present mood is not unconnected with the fact that tomorrow [Ð] provided I am supplied with petrol by the local garage, as the Taylors assure me I will be - I sho\n",
      "\n",
      "Invalid character 'Ò' at position 1253:\n",
      "self on the chaise-longue, and stretched out his legs. It was then, gazing up at me, that he said:  [Ò]You realize, Stevens, I donÕt expect you to be loc ked up here in this house all the time I'm away.\n",
      "\n",
      "Invalid character 'Ó' at position 253217:\n",
      "ver, we must not allow sentiment to creep into our judgement. Now really, I must bid you good nightÉ[Ó]  \"Mr Stevens, I am outraged that you can sit there and utter what you have just done as though you\n",
      "\n",
      "Invalid character 'Ó' at position 303322:\n",
      "xtent to which they were inconveniencing you.\"  \"Mr Stevens, I merely said that I was tired tonight.[Ó]  \"No, no, Miss Kenton, it's perfectly understandable. You have a busy life, and these meetings are\n",
      "\n",
      "Invalid character 'Ó' at position 303658:\n",
      "ecessary without our meeting on this basis.\"  \"Mr Stevens, this is quite unnecessary. I merely saidÉ[Ó]  \"I mean- it, Miss Kenton. In fact, I had been wondering for some time if we should not discontinu\n",
      "\n",
      "Invalid character 'Ó' at position 321904:\n",
      " people here aren't shy about expressing it. That's something your Mr Lindsay learnt quickly enough.[Ó]  \"He was no gentleman,\" Mr Taylor said quietly.  \"He was no gentleman, that Mr Lindsay.\"  \"That's \n",
      "\n",
      "Invalid character 'Ó' at position 328528:\n",
      " It must be quite something, sir, to be discussing matters with his like.\"  \"Well, I must reiterate,[Ó] I said, \"I didn't have a great deal to do with Mr Churchill. But as you rightly point out, it's ra\n",
      "\n",
      "Invalid character 'Ó' at position 357877:\n",
      "an of petrol for you,\" Dr Carlisle announced, as he ushered me into the passenger seat of his Rover.[Ó] I thanked him for his thoughtfulness but when I made inquiries as to payment, I found that he, too\n",
      "\n",
      "Invalid character 'Ó' at position 359779:\n",
      "the car up the steep winding road. I said:  \"It wasn't my intention to deceive anyone, sir. HoweverÉ[Ó]  \"Oh, no need to explain, old fellow. I can quite see how it happened. I mean to say, you are a pr\n",
      "\n",
      "Invalid character 'Õ' at position 1281:\n",
      "nd stretched out his legs. It was then, gazing up at me, that he said:  ÒYou realize, Stevens, I don[Õ]t expect you to be loc ked up here in this house all the time I'm away. Why don't you take the car \n",
      "\n",
      "Invalid character 'á' at position 42784:\n",
      " a round-backed bridge and on into more rural surroundings. I refreshed my face and hands with cold [á]water at the basin, then seated myself on a hard-backed chair left near one of the windows to await\n",
      "\n",
      "Invalid character 'á' at position 45668:\n",
      "ead than mine to answer such a question, but if I were forced to hazard a guess, I would say that it[á] is the very lack of obvious drama or spectacle that sets the beauty of our land apart. What is per\n",
      "\n",
      "Invalid character 'á' at position 128841:\n",
      "name here - and they and his lordship were often to be found locked in discussion for hours on end. [á]  Some of the visitors were, in fact, so 'off the record' that I was instructed to make sure the st\n",
      "\n",
      "Invalid character 'á' at position 246290:\n",
      "stening to the sounds from below of the landlord and hi¤ wife clearing up for the night.   Day Three[á] - Evening  Moscombe, near Tavistock, Devon  I FEEL I should perhaps return a moment to the questio\n",
      "\n",
      "Invalid character 'á' at position 275836:\n",
      "e had given me thorough directions, which had seemed clear enough at the time, and it is impossible'[á] to say now whose fault it was that I subsequently failed to find any trace of this roadside establ\n",
      "\n",
      "Invalid character 'á' at position 321768:\n",
      ", he soon learnt otherwise. A lot of hard thinking and talking goes on in this place. There's plenty[á] of good strong opinion around .and people here aren't shy about expressing it. That's something yo\n",
      "\n",
      "Invalid character 'á' at position 394952:\n",
      "s I stood there pondering the events of the evening - those that had unfolded and those still in the[á] process of doing so - they appeared to me a sort of summary of all that I had come to achieve thus\n",
      "\n",
      "Invalid character 'á' at position 412679:\n",
      "etirement is the best part of life for a married couple. You must do all you can to make these years[á] happy ones for yourself and your husband. We may never meet again, Mrs Benn, so I would ask you to\n",
      "\n"
     ]
    }
   ],
   "source": [
    "display_invalid_chars(texts[2])"
   ]
  },
  {
   "cell_type": "code",
   "execution_count": 34,
   "id": "06992110-3574-4ff8-ad08-f7e4bfbed4b2",
   "metadata": {},
   "outputs": [
    {
     "name": "stdout",
     "output_type": "stream",
     "text": [
      "Invalid character '}' at position 104524:\n",
      "s; but as I recall, his hair had greyed entirely and his tall slender figure already bore signs of t[}]:le stoop that was to become so pronounced in his last years. He barely glanced up from his volume \n",
      "\n",
      "Invalid character '~' at position 10340:\n",
      "- including the back corridor, the two still rooms and the old laundry - and the guest corridor up o[~] the second floor would be dust-sheeted, leaving all the main ground-floor rooms and a generous num\n",
      "\n",
      "Invalid character '~' at position 13782:\n",
      "that Miss Kenton, with her great affection for this house, with her exemplary professionalism - the [~]ort almost impossible to find nowadays - was Just the factor needed to enable me to complete a full\n",
      "\n",
      "Invalid character '~' at position 125575:\n",
      "ite. I decided to minimize my presence by standing in the shadows much further away from table than [~] might usually have done. Of course, this strategy had a distinct disadvantage in that each time I \n",
      "\n",
      "Invalid character '~' at position 234136:\n",
      "er, shortly afterwards to become foreign secretary - paid a very 'off the record' visit to the house[~] In fact, now that the subsequent fruits of those visits have become well documented, there seems l\n",
      "\n",
      "Invalid character '~' at position 259037:\n",
      "ose of clearing away the remains of his lordship's taking tea there with some guests a little while [~]earlier. I can recall spotting from some distance - long before reaching the steps where my father \n",
      "\n",
      "Invalid character '~' at position 304992:\n",
      "subsequent events, it could well be argued that in making my decision to end those evening meetings [~]once and for all, I was perhaps not entirely aware of the full implications of what I was doing. In\n",
      "\n",
      "Invalid character '' at position 146834:\n",
      "Yes, sir. That is, effectively.\"  \"Just a minute.\"  The young gentleman reached down into the attach[] case at his feet and brought out a notebook and pencil. \"Fire away, Stevens.\"  I coughed again and\n",
      "\n",
      "Invalid character '' at position 147613:\n",
      "s my message is rather redundant.\"  \"You can assure Father I'm very well briefed indeed. This attach[] case\" - he nudged it with his foot - \"is chock-full of notes on every possible angle one can imagi\n",
      "\n",
      "Invalid character '' at position 147950:\n",
      "her of that.\"  \"I will, sir.\"  Mr Cardinal seemed to relax a little. He prodded once more his attach[] case - which I felt inclined to keep my eyes averted from - and said: \"I suppose you've been wonde\n",
      "\n",
      "Invalid character '' at position 148726:\n",
      "ts for a renewed effort when the young gentleman suddenly rose to his feet, and clutching his attach[] case to his person, said: \"Well, I think I'll go and take a little fresh air. Thanks for your help\n",
      "\n",
      "Invalid character '' at position 155660:\n",
      "igure of the young Mr Cardinal taking some fresh air around the grounds. He was clutching his attach[] case as usual and I could seehe was strolling slowly along the path that runs the outer perimeter \n",
      "\n",
      "Invalid character '' at position 157298:\n",
      "ed a little late and I fear I rather startled the young gentleman, who immediately pulled his attach[] case away from me and clutched it to his chest with both arms.  \"I'm very sorry, sir.\"  \"My goodne\n",
      "\n",
      "Invalid character 'É' at position 253216:\n",
      "ever, we must not allow sentiment to creep into our judgement. Now really, I must bid you good night[É]Ó  \"Mr Stevens, I am outraged that you can sit there and utter what you have just done as though yo\n",
      "\n",
      "Invalid character 'É' at position 303657:\n",
      "necessary without our meeting on this basis.\"  \"Mr Stevens, this is quite unnecessary. I merely said[É]Ó  \"I mean- it, Miss Kenton. In fact, I had been wondering for some time if we should not discontin\n",
      "\n",
      "Invalid character 'É' at position 359778:\n",
      " the car up the steep winding road. I said:  \"It wasn't my intention to deceive anyone, sir. However[É]Ó  \"Oh, no need to explain, old fellow. I can quite see how it happened. I mean to say, you are a p\n",
      "\n",
      "Invalid character 'Ð' at position 193995:\n",
      "show. I had expected the room to smell of death, but on account of Mrs Mortimer - or else her apron [Ð] the room was dominated by the smell of roas ting.  Dr Meredith rose and said: \"My condolences, Ste\n",
      "\n",
      "Invalid character 'Ð' at position 312721:\n",
      " endure this evening. No doubt, too, my present mood is not unconnected with the fact that tomorrow [Ð] provided I am supplied with petrol by the local garage, as the Taylors assure me I will be - I sho\n",
      "\n",
      "Invalid character 'Ò' at position 1253:\n",
      "self on the chaise-longue, and stretched out his legs. It was then, gazing up at me, that he said:  [Ò]You realize, Stevens, I donÕt expect you to be loc ked up here in this house all the time I'm away.\n",
      "\n",
      "Invalid character 'Ó' at position 253217:\n",
      "ver, we must not allow sentiment to creep into our judgement. Now really, I must bid you good nightÉ[Ó]  \"Mr Stevens, I am outraged that you can sit there and utter what you have just done as though you\n",
      "\n",
      "Invalid character 'Ó' at position 303322:\n",
      "xtent to which they were inconveniencing you.\"  \"Mr Stevens, I merely said that I was tired tonight.[Ó]  \"No, no, Miss Kenton, it's perfectly understandable. You have a busy life, and these meetings are\n",
      "\n",
      "Invalid character 'Ó' at position 303658:\n",
      "ecessary without our meeting on this basis.\"  \"Mr Stevens, this is quite unnecessary. I merely saidÉ[Ó]  \"I mean- it, Miss Kenton. In fact, I had been wondering for some time if we should not discontinu\n",
      "\n",
      "Invalid character 'Ó' at position 321904:\n",
      " people here aren't shy about expressing it. That's something your Mr Lindsay learnt quickly enough.[Ó]  \"He was no gentleman,\" Mr Taylor said quietly.  \"He was no gentleman, that Mr Lindsay.\"  \"That's \n",
      "\n",
      "Invalid character 'Ó' at position 328528:\n",
      " It must be quite something, sir, to be discussing matters with his like.\"  \"Well, I must reiterate,[Ó] I said, \"I didn't have a great deal to do with Mr Churchill. But as you rightly point out, it's ra\n",
      "\n",
      "Invalid character 'Ó' at position 357877:\n",
      "an of petrol for you,\" Dr Carlisle announced, as he ushered me into the passenger seat of his Rover.[Ó] I thanked him for his thoughtfulness but when I made inquiries as to payment, I found that he, too\n",
      "\n",
      "Invalid character 'Ó' at position 359779:\n",
      "the car up the steep winding road. I said:  \"It wasn't my intention to deceive anyone, sir. HoweverÉ[Ó]  \"Oh, no need to explain, old fellow. I can quite see how it happened. I mean to say, you are a pr\n",
      "\n",
      "Invalid character 'Õ' at position 1281:\n",
      "nd stretched out his legs. It was then, gazing up at me, that he said:  ÒYou realize, Stevens, I don[Õ]t expect you to be loc ked up here in this house all the time I'm away. Why don't you take the car \n",
      "\n",
      "Invalid character 'á' at position 42784:\n",
      " a round-backed bridge and on into more rural surroundings. I refreshed my face and hands with cold [á]water at the basin, then seated myself on a hard-backed chair left near one of the windows to await\n",
      "\n",
      "Invalid character 'á' at position 45668:\n",
      "ead than mine to answer such a question, but if I were forced to hazard a guess, I would say that it[á] is the very lack of obvious drama or spectacle that sets the beauty of our land apart. What is per\n",
      "\n",
      "Invalid character 'á' at position 128841:\n",
      "name here - and they and his lordship were often to be found locked in discussion for hours on end. [á]  Some of the visitors were, in fact, so 'off the record' that I was instructed to make sure the st\n",
      "\n",
      "Invalid character 'á' at position 246290:\n",
      "stening to the sounds from below of the landlord and hi€ wife clearing up for the night.   Day Three[á] - Evening  Moscombe, near Tavistock, Devon  I FEEL I should perhaps return a moment to the questio\n",
      "\n",
      "Invalid character 'á' at position 275836:\n",
      "e had given me thorough directions, which had seemed clear enough at the time, and it is impossible'[á] to say now whose fault it was that I subsequently failed to find any trace of this roadside establ\n",
      "\n",
      "Invalid character 'á' at position 321768:\n",
      ", he soon learnt otherwise. A lot of hard thinking and talking goes on in this place. There's plenty[á] of good strong opinion around .and people here aren't shy about expressing it. That's something yo\n",
      "\n",
      "Invalid character 'á' at position 394952:\n",
      "s I stood there pondering the events of the evening - those that had unfolded and those still in the[á] process of doing so - they appeared to me a sort of summary of all that I had come to achieve thus\n",
      "\n",
      "Invalid character 'á' at position 412679:\n",
      "etirement is the best part of life for a married couple. You must do all you can to make these years[á] happy ones for yourself and your husband. We may never meet again, Mrs Benn, so I would ask you to\n",
      "\n",
      "Invalid character '€' at position 246245:\n",
      "last night as I lay there in the darkness, listening to the sounds from below of the landlord and hi[€] wife clearing up for the night.   Day Threeá - Evening  Moscombe, near Tavistock, Devon  I FEEL I \n",
      "\n"
     ]
    }
   ],
   "source": [
    "display_invalid_chars(texts[3])"
   ]
  },
  {
   "cell_type": "code",
   "execution_count": 36,
   "id": "2cc55f3e-890a-4a9b-89df-e9c29b35f5cb",
   "metadata": {},
   "outputs": [
    {
     "name": "stdout",
     "output_type": "stream",
     "text": [
      "True\n",
      "€\n"
     ]
    }
   ],
   "source": [
    "print(\"€\" in texts[3])\n",
    "print(texts[3][246245])"
   ]
  },
  {
   "cell_type": "code",
   "execution_count": 38,
   "id": "79916021-0e1e-41b9-91a8-f43c88d81cbc",
   "metadata": {},
   "outputs": [
    {
     "name": "stdout",
     "output_type": "stream",
     "text": [
      "142\n"
     ]
    }
   ],
   "source": [
    "print(ord(texts[2][146834]))"
   ]
  },
  {
   "cell_type": "code",
   "execution_count": 40,
   "id": "e8e97ed5-6248-414c-88cc-c54eb7361765",
   "metadata": {},
   "outputs": [],
   "source": [
    "# Function to find and replace specified strings in a text\n",
    "def replace_strings_with_context(text, replacements, window=10):\n",
    "    \"\"\"\n",
    "    Replaces specified strings within a text and prints the context around each replacement.\n",
    "    \n",
    "    Parameters:\n",
    "    - text: The original string where replacements are done.\n",
    "    - replacements: A dictionary where keys are the substrings to find, and values are their replacements.\n",
    "    - window: Number of characters to show before and after the replaced string for context.\n",
    "    \n",
    "    Returns:\n",
    "    - A modified string with the replacements applied.\n",
    "    \"\"\"\n",
    "    for old, new in replacements.items():\n",
    "        index = text.find(old)\n",
    "        while index != -1:\n",
    "            # Extract context around the found string\n",
    "            start = max(index - window, 0)\n",
    "            end = min(index + len(old) + window, len(text))\n",
    "            before = text[start:index]\n",
    "            after = text[index + len(old):end]\n",
    "            before = before.replace(\"\\n\", \" \")\n",
    "            before = before.replace(\"\\t\", \" \")\n",
    "            after = after.replace(\"\\n\", \" \")\n",
    "            after = after.replace(\"\\t\", \" \")\n",
    "\n",
    "            # Print before, replaced, and after strings\n",
    "            print(f\"Before: {before}[{old}]{after}\")\n",
    "            print(f\"After:  {before}[{new}]{after}\\n\")\n",
    "\n",
    "            # Replace the string in the text\n",
    "            text = text[:index] + new + text[index + len(old):]\n",
    "            \n",
    "            # Find the next occurrence of the old string\n",
    "            index = text.find(old, index + len(new))\n",
    "\n",
    "    return text\n",
    "\n",
    "\n"
   ]
  },
  {
   "cell_type": "code",
   "execution_count": 41,
   "id": "1cb1632a-6465-4d17-91f1-9211a2a5be4e",
   "metadata": {},
   "outputs": [
    {
     "name": "stdout",
     "output_type": "stream",
     "text": [
      "t}:le: the\n",
      "up o~ the: up on the\n",
      "the ~ort: the sort\n",
      "than ~ might: than might\n",
      "the house~: the house.\n",
      "while ~earlier: while earlier\n",
      "meetings ~once: meetings once\n",
      "Ž: é\n",
      "mean- it: mean it\n",
      "¤: s\n",
      "Ð: -\n",
      "ÉÓ: -\"\n",
      "Ó: \"\n",
      "Ò: \"\n",
      "Rover.Ó I thanked: Rover  I thanked\n",
      "Rover.\" I thanked: Rover  I thanked\n",
      "Õ: '\n",
      "á: \n"
     ]
    }
   ],
   "source": [
    "replacements = dict()\n",
    "replacements[\"t}:le\"] = \"the\"\n",
    "replacements[\"up o~ the\"] = \"up on the\"\n",
    "replacements[\"the ~ort\"] = \"the sort\"\n",
    "replacements[\"than ~ might\"] = \"than might\"\n",
    "replacements[\"the house~\"] = \"the house.\"\n",
    "replacements[\"while ~earlier\"] = \"while earlier\"\n",
    "replacements[\"meetings ~once\"] = \"meetings once\"\n",
    "replacements[\"Ž\"] = \"é\"\n",
    "replacements[\"mean- it\"] = \"mean it\"\n",
    "replacements[\"¤\"] = \"s\"\n",
    "replacements[\"Ð\"] = \"-\"\n",
    "replacements[\"ÉÓ\"] = '-\"'\n",
    "replacements[\"Ó\"] = '\"'\n",
    "replacements[\"Ò\"] = '\"'\n",
    "replacements[\"Rover.Ó I thanked\"] = \"Rover  I thanked\"\n",
    "replacements['Rover.\" I thanked'] = \"Rover  I thanked\"\n",
    "replacements[\"Õ\"] = \"'\"\n",
    "replacements[\"á\"] = \"\"\n",
    "\n",
    "\n",
    "for key, value in replacements.items():\n",
    "        print(f\"{key}: {value}\")"
   ]
  },
  {
   "cell_type": "code",
   "execution_count": 42,
   "id": "57aa2f39-b0a6-4f1b-8ad3-1810e78d3030",
   "metadata": {},
   "outputs": [
    {
     "name": "stdout",
     "output_type": "stream",
     "text": [
      "Before:  signs of [t}:le] stoop tha\n",
      "After:   signs of [the] stoop tha\n",
      "\n",
      "Before:  corridor [up o~ the] second fl\n",
      "After:   corridor [up on the] second fl\n",
      "\n",
      "Before: onalism - [the ~ort] almost im\n",
      "After:  onalism - [the sort] almost im\n",
      "\n",
      "Before: rom table [than ~ might] usually h\n",
      "After:  rom table [than might] usually h\n",
      "\n",
      "Before:  visit to [the house~] In fact, \n",
      "After:   visit to [the house.] In fact, \n",
      "\n",
      "Before:  a little [while ~earlier]. I can re\n",
      "After:   a little [while earlier]. I can re\n",
      "\n",
      "Before: e evening [meetings ~once] and for a\n",
      "After:  e evening [meetings once] and for a\n",
      "\n",
      "Before: the attach[Ž] case at h\n",
      "After:  the attach[é] case at h\n",
      "\n",
      "Before: his attach[Ž] case\" - h\n",
      "After:  his attach[é] case\" - h\n",
      "\n",
      "Before: his attach[Ž] case - wh\n",
      "After:  his attach[é] case - wh\n",
      "\n",
      "Before: his attach[Ž] case to h\n",
      "After:  his attach[é] case to h\n",
      "\n",
      "Before: his attach[Ž] case as u\n",
      "After:  his attach[é] case as u\n",
      "\n",
      "Before: his attach[Ž] case away\n",
      "After:  his attach[é] case away\n",
      "\n",
      "Before: aidÉÓ  \"I [mean- it], Miss Ken\n",
      "After:  aidÉÓ  \"I [mean it], Miss Ken\n",
      "\n",
      "Before: ord and hi[¤] wife clea\n",
      "After:  ord and hi[s] wife clea\n",
      "\n",
      "Before: her apron [Ð] the room \n",
      "After:  her apron [-] the room \n",
      "\n",
      "Before:  tomorrow [Ð] provided \n",
      "After:   tomorrow [-] provided \n",
      "\n",
      "Before: good night[ÉÓ]  \"Mr Stev\n",
      "After:  good night[-\"]  \"Mr Stev\n",
      "\n",
      "Before: erely said[ÉÓ]  \"I mean \n",
      "After:  erely said[-\"]  \"I mean \n",
      "\n",
      "Before: r. However[ÉÓ]  \"Oh, no \n",
      "After:  r. However[-\"]  \"Oh, no \n",
      "\n",
      "Before: d tonight.[Ó]  \"No, no,\n",
      "After:  d tonight.[\"]  \"No, no,\n",
      "\n",
      "Before: ly enough.[Ó]  \"He was \n",
      "After:  ly enough.[\"]  \"He was \n",
      "\n",
      "Before: reiterate,[Ó] I said, \"\n",
      "After:  reiterate,[\"] I said, \"\n",
      "\n",
      "Before: his Rover.[Ó] I thanked\n",
      "After:  his Rover.[\"] I thanked\n",
      "\n",
      "Before: he said:  [Ò]You realiz\n",
      "After:  he said:  [\"]You realiz\n",
      "\n",
      "Before: at of his [Rover.\" I thanked] him for h\n",
      "After:  at of his [Rover  I thanked] him for h\n",
      "\n",
      "Before: ens, I don[Õ]t expect y\n",
      "After:  ens, I don[']t expect y\n",
      "\n",
      "Before: with cold [á]water at t\n",
      "After:  with cold []water at t\n",
      "\n",
      "Before: ay that it[á] is the ve\n",
      "After:  ay that it[] is the ve\n",
      "\n",
      "Before: s on end. [á]  Some of \n",
      "After:  s on end. []  Some of \n",
      "\n",
      "Before:  Day Three[á] - Evening\n",
      "After:   Day Three[] - Evening\n",
      "\n",
      "Before: mpossible'[á] to say no\n",
      "After:  mpossible'[] to say no\n",
      "\n",
      "Before: e's plenty[á] of good s\n",
      "After:  e's plenty[] of good s\n",
      "\n",
      "Before: ill in the[á] process o\n",
      "After:  ill in the[] process o\n",
      "\n",
      "Before: hese years[á] happy one\n",
      "After:  hese years[] happy one\n",
      "\n"
     ]
    }
   ],
   "source": [
    "text_edited = replace_strings_with_context(texts[1],replacements)"
   ]
  },
  {
   "cell_type": "markdown",
   "id": "77688d76-b710-4d59-a9e2-a20e21f838e6",
   "metadata": {},
   "source": [
    "Now see if there are any problems left:"
   ]
  },
  {
   "cell_type": "code",
   "execution_count": 45,
   "id": "7a148183-87ff-42f7-8eea-a55040664d8e",
   "metadata": {},
   "outputs": [],
   "source": [
    "display_invalid_chars(text_edited)\n"
   ]
  },
  {
   "cell_type": "code",
   "execution_count": 46,
   "id": "382c3cb8-a13d-4bef-8990-ddf7a830ce51",
   "metadata": {},
   "outputs": [
    {
     "data": {
      "text/plain": [
       "2"
      ]
     },
     "execution_count": 46,
     "metadata": {},
     "output_type": "execute_result"
    }
   ],
   "source": [
    "test_text.find(\"Prologue\")"
   ]
  },
  {
   "cell_type": "markdown",
   "id": "9b6cd6a7-1d24-421e-9503-35c1f026acbc",
   "metadata": {},
   "source": [
    "Next we get rid of the chapter headers"
   ]
  },
  {
   "cell_type": "code",
   "execution_count": 47,
   "id": "8a58a156-b594-4dbe-b8d1-f3dc89576984",
   "metadata": {},
   "outputs": [
    {
     "name": "stdout",
     "output_type": "stream",
     "text": [
      "Prologue: July 1956  Darlington Hall  IT seems increasingly likely that I really will undertake the \n",
      "One need hardly dwell on the catastrophic possibility of uttering a bantering remark only to discove\n",
      "One - Evening  Salisbury  TONIGHT, I find myself here in a guest house in the city of Salisbury. The\n",
      "One had to be guided by the judgement of 'the true ladies and gentlemen', argued the Society, or els\n",
      "One afternoon, evidently, this butler had entered the dining room to make sure all was well for dinn\n",
      "One such instance was related to me by Mr David Charles, of the Charles and Redding Company, who vis\n",
      "One afternoon, Mr Charles to his shame and regret had allowed himself to become   inebriated in the \n",
      "One wishes for a good bath at the mere reminder.\"  \"Yes, sir.\"   \"Last time I was in Berlin, Stevens\n",
      "One thing you can bet on for sure.\" He leaned forward and waved his cigar for emphasis. \"Dupont hate\n",
      "One might even have thought him to be angry. \"We have heard in these two days several thorough and i\n",
      "One programme I listen to is called Twice a Week or More, which is in fact broadcast three times eac\n",
      "One of these destinations is the village of Mursden. Perhaps 'Mursden' will ring a bell for you, as \n",
      "One really cannot guess the reason for these absurd allegations - unless, quite ludicrously, they or\n",
      "One would have thought that quite self-evident.\"  She did not say anything, and as I was leaving I g\n",
      "One line, as I recall it, read something to the effect of: 'We don't have money but who cares we hav\n",
      "One has to confess, at that moment, to being overcome by a certain sense of discouragement. Of cours\n",
      "One straightforward means of going about this is simply to read a few pages of a well-written book d\n",
      "One could presumably drive oneself to distraction in this way. In any case, while it is all very wel\n",
      "One would have thought that having to abandon the Ford on some lonely hill, having to walk down to t\n",
      "One thing I have witnessed is that public life can change people unrecognizably in a few short years\n",
      "One need only look at the butlers who attempted to put such an approach into practice, and one will \n",
      "One is simplyaccepting an inescapable truth: that the likes of you and I will never be in a position\n",
      "One memory in particular has preoccupied me all morning - or rather, a fragment of a memory, a momen\n",
      "One can't be forever dwelling on what might have been. One should realize one has as good as most, p\n",
      "One should realize one has as good as most, perhaps better, and be grateful.\"  I do not think I resp\n",
      "Two - Morning  Salisbury  STRANGE beds have rarely agreed with me, and after only a short spell of s\n",
      "Two chambermaids were standing at a respectful distance, watching his efforts in some awe. I went to\n",
      "Two - Afternoon  Mortimer's Pond, Dorset  IT would seem there is a whole dimension to the question '\n",
      "Two cheery young girls serve from behind a counter displaying a good selection of cakes and pastries\n",
      "Three years ago a tortoise of ours got killed like that and on just about this very spot. We were al\n",
      "Three - Morning  Taunton, Somerset  I LODGED last night in an inn named the Coach and Horses a littl\n",
      "Three - Evening  Moscombe, near Tavistock, Devon  I FEEL I should perhaps return a moment to the que\n",
      "Four - Afternoon  Little Compton, Cornwall  l HAVE finally arrived at Little Compton, and at this mo\n",
      "Six - Evening  Weymouth  THIS seaside town is a place I have thought of coming to for many years. I \n",
      "Seventy-two, sir.\"  Dr Meredith thought about this, then said again: \"If he deteriorates, call me im\n",
      "Seven thirty all right for you?\"  \"That would be most helpful indeed.\"  \"Right then, seven thirty it\n",
      "Ten thirty tomorrow morning. Send the two employees concerned, please.\"  It was evident from the mom\n",
      "Ten minutes or so later came the sound of another car and I opened the door to Herr Ribbentrop, the \n",
      "['Prologue', 'One', 'One', 'One', 'One', 'One', 'One', 'One', 'One', 'One', 'One', 'One', 'One', 'One', 'One', 'One', 'One', 'One', 'One', 'One', 'One', 'One', 'One', 'One', 'One', 'Two', 'Two', 'Two', 'Two', 'Three', 'Three', 'Three', 'Four', 'Six', 'Seven', 'Seven', 'Ten', 'Ten']\n"
     ]
    }
   ],
   "source": [
    "test_text=text_edited\n",
    "chapters = list()\n",
    "for title in [\"Prologue\", \"One\", \"Two\", \"Three\", \"Four\", \"Five\", \"Six\", \"Seven\", \"Eight\", \"Nine\", \"Ten\", \"Eleven\"]:\n",
    "    ind = test_text.find(title)\n",
    "    while ind != -1:\n",
    "        start = test_text[ind:ind + 100]\n",
    "        start = start.replace(\"\\n\", \" \")\n",
    "        start = start.replace(\"\\t\", \" \")\n",
    "        print (start)\n",
    "        chapters.append(title)\n",
    "        ind = test_text.find(title, ind + 1)     \n",
    "print(chapters)"
   ]
  },
  {
   "cell_type": "code",
   "execution_count": 48,
   "id": "1c79e207-991c-492f-b215-c60af04b9627",
   "metadata": {},
   "outputs": [
    {
     "name": "stdout",
     "output_type": "stream",
     "text": [
      "Prologue IT\n",
      "Day One TONIGHT\n",
      "Day Two STRANGE\n",
      "Day Three - Morning LODGED\n",
      "Day Three - Evening FEEL\n",
      "Day Four HAVE\n",
      "Day Six THIS\n"
     ]
    }
   ],
   "source": [
    "titles = list()\n",
    "titles.append((\"Prologue\", \"IT\"))\n",
    "titles.append((\"Day One\", \"TONIGHT\"))\n",
    "titles.append((\"Day Two\", \"STRANGE\"))\n",
    "titles.append((\"Day Three - Morning\", \"LODGED\"))\n",
    "titles.append((\"Day Three - Evening\", \"FEEL\"))\n",
    "titles.append((\"Day Four\", \"HAVE\"))\n",
    "titles.append((\"Day Six\", \"THIS\"))\n",
    "\n",
    "for edit_start, edit_end in titles:\n",
    "    print(edit_start, edit_end)\n"
   ]
  },
  {
   "cell_type": "code",
   "execution_count": 49,
   "id": "acf60567-830c-4a1b-966a-0f3e3e160952",
   "metadata": {},
   "outputs": [
    {
     "name": "stdout",
     "output_type": "stream",
     "text": [
      "removing Prologue to IT\n",
      "removing Day One to TONIGHT\n",
      "removing Day Two to STRANGE\n",
      "removing Day Three - Morning to LODGED\n",
      "removing Day Three - Evening to FEEL\n",
      "removing Day Four to HAVE\n",
      "removing Day Six to THIS\n"
     ]
    }
   ],
   "source": [
    "for edit_start, edit_end in titles:\n",
    "    \n",
    "    ind1 = text_edited.find(edit_start)\n",
    "    ind2 = text_edited.find(edit_end)\n",
    "    if ind2 > ind1 and ind2 < ind1 + 100 and ind1 != -1 and ind2 != -1:\n",
    "        print (f\"removing {edit_start} to {edit_end}\")\n",
    "        text_edited = text_edited[:ind1] + text_edited[ind2:]\n",
    "    else:\n",
    "        print(f\"{edit_start} to {edit_end} not removed\")\n"
   ]
  },
  {
   "cell_type": "code",
   "execution_count": 53,
   "id": "58d822cf-143a-485e-9edd-af4497c173dd",
   "metadata": {},
   "outputs": [],
   "source": [
    "def find_capitalized_words(text):\n",
    "    \"\"\"\n",
    "    Finds all words in the string that are in capitals, excluding words of one character.\n",
    "    \n",
    "    Parameters:\n",
    "    - text: The input string.\n",
    "    \n",
    "    Returns:\n",
    "    - A list of fully capitalized words with more than one character.\n",
    "    \"\"\"\n",
    "    # Use regex to match words with all capital letters and exclude single-character words\n",
    "    capitalized_words = re.findall(r'\\b[A-Z]{2,}\\b', text)\n",
    "    return capitalized_words\n"
   ]
  },
  {
   "cell_type": "code",
   "execution_count": 52,
   "id": "3679f96e-a99d-4162-b101-a74ea76f2a56",
   "metadata": {},
   "outputs": [
    {
     "name": "stdout",
     "output_type": "stream",
     "text": [
      "\n",
      "ving been to that part of the country, I would often glance through Volume III of Mrs Symons's work, the volume whi\n",
      " all, I can see no genuine reason 'Why I should not undertake this trip.   TONIGHT, I find myself here in a guest h\n",
      " each of us may better strive towards attaining 'dignity' for ourselves.   STRANGE beds have rarely agreed with me,\n",
      "\n",
      "oday nothing but proud and grateful to have been given such a privilege.   LODGED last night in an inn named the Co\n",
      "ounds from below of the landlord and his wife clearing up for the night.   FEEL I should perhaps return a moment to\n",
      "uite illogical that I should feel any regret or shame on my own account.   HAVE finally arrived at Little Compton, \n",
      "lanations for that sense of triumph I came to be uplifted by that night.   THIS seaside town is a place I have thou\n"
     ]
    }
   ],
   "source": [
    "\n",
    "\n",
    "X\n",
    "\n",
    "capitalized_words = find_capitalized_words(texts[0])\n",
    "for word in capitalized_words:\n",
    "    if word != \"OK\":\n",
    "        ind = text_edited.find(word)\n",
    "        window = text_edited[ind-75:ind+40]\n",
    "        window = window.replace(\"\\n\", \" \")\n",
    "        window = window.replace(\"\\t\", \" \")\n",
    "        print(window)\n"
   ]
  },
  {
   "cell_type": "code",
   "execution_count": 59,
   "id": "daecc822-bd0d-4221-bde7-0f59c4148cf6",
   "metadata": {},
   "outputs": [],
   "source": [
    "def display_text_in_context(source_text,target_text,window = 50):\n",
    "    ind = source_text.find(target_text)\n",
    "    if ind != -1:\n",
    "        window = source_text[ind - window: ind + window + len(target_text)]\n",
    "        window = window.replace(\"\\n\", \" \")\n",
    "        window = window.replace(\"\\t\", \" \")\n",
    "        print(window)\n",
    "    else:\n",
    "        print(\"not found\")\n"
   ]
  },
  {
   "cell_type": "code",
   "execution_count": 60,
   "id": "a8f3e05b-9ddb-4715-8dc1-8b558e93c6b3",
   "metadata": {},
   "outputs": [
    {
     "name": "stdout",
     "output_type": "stream",
     "text": [
      "I am today nothing but proud and grateful to have been given such a privilege.   LODGED last night in an inn named the Coach an\n"
     ]
    }
   ],
   "source": [
    "display_text_in_context(text_edited, \"been given such a privilege\")"
   ]
  },
  {
   "cell_type": "code",
   "execution_count": 378,
   "id": "d2755edf-4cf8-43e7-a755-f32e7aebb9bd",
   "metadata": {},
   "outputs": [
    {
     "name": "stdout",
     "output_type": "stream",
     "text": [
      "\n",
      "\n",
      "IT seems increasingly likely that I really will undertake the expedition that has been preoccupying my imagination now for some days. An expedition, I should say, which I will undertake alone, in the comfort of Mr Farraday's Ford; an expedition which, as I foresee it, will take me through much of the finest countryside of England to the West Country, and may keep me away from Darlington Hall for as much as five or six days. The idea of such a journey came about, I should point out, from a most kind suggestion put to me by Mr Farraday himself one afternoon almost a fortnight ago, when I had been dusting the portraits in the library. In fact, as I recall, I was up on the step-ladder dusting the portrait of Viscount Wetherby when my employer had entered carrying a few volumes which he presumably wished returned to the shelves. On seeing my person, he took the opportunity to inform me that he had just that moment finalized plans to return to the United States for a period of five weeks between August and September. Having made this announcement, my employer put his volumes down on a table, seated himself on the chaise-longue, and stretched out his legs. It was then, gazing up at me, that he said:\n",
      "\n",
      "\"You realize, Stevens, I don't expect you to be loc ked up here in this house all the time I'm away. Why don't you take the car and drive off somewhere for a few days? You look like you could make good use of a break.\"\n",
      "\n",
      "Coming out of the blue as it did, I did not quite know how to reply to such a suggestion. I recall thanking him for his consideration, but quite probably I said nothing very definite for my employer went on:\n",
      "\n",
      "\"I'm serious, Stevens. I really think you should take a break. I'll foot the bill for the gas. You fellows, you're always locked up in these big Houses helping out, how do you ever get to see around this beautiful country of yours?\"\n",
      "\n",
      "This was not the first time my employer had raised such a question; indeed, it seems to be something which genuinely troubles him. On this occasion, in fact, a reply of sorts did occur to me as I stood up there on the ladder; a reply to the effect that those of our profession, although we did not see a great deal of the country in the sense of touring the countryside and visiting picturesque sites, did actually 'see' more of England than most, placed as we were in houses where the greatest ladies and gentlemen of the land gathered. Of course, I could not have expressed this view to Mr Farraday without embarking upon what might have seemed a presumptuous speech. I thus contented myself by saying simply:\n",
      "\n",
      "\n",
      "\"It has been my privilege to see the best of England over the years, sir, within these very walls.\"\n",
      "\n",
      "Mr Farraday did not seem to understand this statement, for he merely went on: \"I mean it, Stevens. It's wrong that a man can't get ot see around his own country. Take my advice, get out the house for a few days.\n",
      "\n",
      "As you might expect, I did not take Mr Farraday's suggestion at all seriously that afternoon, regarding it as just another instance of an American gentleman's unfamiliarity with what was and what was not commonly done in England. The fact that my attitude to this same suggestion underwent a change over the following days - indeed, that the notion of a trip to the West Country took an ever increasing hold on my thoughts - is no doubt substantially attributable to - and why should I hide it? - the arrival of Miss Kenton's letter, her first in almost seven years if one discounts the Christmas cards. But let me make it immediately clear -what I mean by this; what I mean to say is that Miss Kenton's letter set off a certain chain of ideas to do with professional matters here at Darlington Hall, and I would underline that it was a preoccupation with these very same professional matters that led me to consider anew my employer's kindly meant suggestion. But let me explain further.\n",
      "\n",
      "\n",
      "The fact is, over the past few months, I have been responsible for a series of small errors in the carrying out of my duties. I should say that these errors have all been without exception quite trivial in themselves. Nevertheless, I think you will understand that to one not accustomed to committing such errors, this development was rather disturbing, and I did in fact begin to entertain all sorts of alarmist theories as to their cause. As so often occurs in these situations, I had become blind to the obvious - that is, until my pondering over the implications of Miss Kenton's letter finally opened my eyes to the simple truth: that these small errors of recent months have derived from nothing more sinister than a faulty staff plan.\n",
      "\n",
      "It is, of course, the responsibility of every butler to devote his utmost care in the devising of a staff plan. Who knows how many quarrels, false accusations, unnecessary dismissals, how many promising careers cut short can be attributed to a butler's slovenliness at the stage of drawing up the staff plan? Indeed, I can say I am in agreement with those who say that the ability to draw up a good staff plan is the cornerstone of any decent butler's skills. I have myself devised many staff plans over the years, and I do not believe I am being unduly boastful if I say that very few ever needed amendment. And if in the present case the staff plan is at fault, blame can be laid at no one's door but my own. At the same time, it is only fair to point out that my task in this instance had been of an unusually difficult order.\n",
      "\n",
      "What had occurred was this. Once the transactions were over - transactions which\n",
      "\n",
      "\n",
      "had taken this house out of the hands of the Darlington family after two centuries - Mr Farraday let it be known that he would not be taking up immediate residence here, but would spend a further four months concluding matters in the United States. In the meantime, however, he was most keen that the staff of his predecessor - a staff of which he had heard high praise - be retained at Darlington Hall. This 'staff' he referred to was, of course, nothing more than the skeleton team of six kept on by Lord Darlington's relatives to administer to the house up to and throughout the transactions; and I regret to report that once the purchase had been completed, there was little I could do for Mr Farraday to prevent all but Mrs Clements leaving for other employment. When I wrote to my new employer conveying my regrets at the situation, I received by reply from America instructions to recruit a new staff 'worthy of a grand old English house'. I immediately set about trying to fulfil Mr Farraday's wishes, but as you know, finding recruits of a satisfactory standard is no easy task nowadays, and although I was pleased to hire Rosemary and Agnes on Mrs Clements's recommendation, I had got no further by the time I came to have my first business meeting with Mr Farraday during the short preliminary visit he made to our shores in the spring of last year. It was on that occasion - in the strangely bare study of Darlington Hall - that Mr Farraday shook my hand for the first time, but by then we were hardly strangers to each other; quite aside from the matter. of the staff, my new employer in several other instances had had occasion to call upon such qualities as it may be my good fortune to possess and found them to be, I would venture, dependable. So it was, I assume, that he felt immediately able to talk to me in a businesslike and trusting way, and by the end of our meeting, he had left me with the administration of a not inconsiderable sum to meet the costs of a wide range of preparations for his coming residency. In any case, my point is that it was during the course of this interview, when I raised the question of the difficulty of recruiting suitable staff in these times, that Mr Farraday, after a moment's reflection, made his request of me; that I do my best to draw up a staff plan - 'some sort of servants' rota' as he put it - by which this house might be run on the present staff of four - that is to say, Mrs Clements, the two young girls, and myself. This might, he appreciated, mean putting sections of the house 'under wraps', but would I bring all my experience and expertise to bear to ensure such losses were kept to a minimum? Recalling a time w hen I had had a staff of seven teen under me, and knowing how not so long ago a staff of twenty-eight had been employed here at Darlington Hall, the idea of devising a staff plan by which the same house would be run on a staff of four seemed, to say the least, daunting. Although I did my best not to, something of my scepticism must have betrayed itself, for Mr Farraday then added, as though for reassurance, that were it to prove necessary, then an additional member of staff could be hired. But he would be much obliged, he repeated, if I could \"give it a go\n",
      "\n",
      "with four\".\n",
      "\n",
      "Now naturally, like many of us, I have a reluctance to change too much of the old ways. But there is no virtue at all in clinging as some do to tradition merely for its own sake. In this age of electricity and modern heating systems, there is no need at all to employ the sorts of numbers necessary even a generation ago. Indeed, it has actually been an idea of mine for some time that the retaining of unnecessary numbers simply for tradition's sake - resulting in employees having an unhealthy amount of time on their hands - has been an important factor in the sharp decline in professional standards. Furthermore, Mr Farraday had made it clear that he planned to hold only very rarely the sort of large social occasions Darlington Hall had seen frequently in the past. I did then go about the task Mr Farraday had set me with some dedication; I spent many hours working on the staff plan, and at least as many hours again thinking about it as I went about other duties or as I lay awake after retiring. Whenever I believed I had come up with something, I probed it for every sort of oversight, tested it through from all angles. Finally, I came up with a plan which, while perhaps not exactly as Mr Farraday had requested, was the best, I felt sure, that was humanly possible. Almost all the attractive parts of the house could remain operative: the extensive servants' quarters - including the back corridor, the two still rooms and the old laundry - and the guest corridor up on the second floor would be dust-sheeted, leaving all the main ground-floor rooms and a generous number of guest rooms. Admittedly, our present team of four would manage this programme only with reinforcement from some daily workers; my staff plan therefore took in the services of a gardener, to visit once a week, twice in the summer, and two cleaners, each to visit twice a week. The staff plan would, furthermore, for each of the four resident employees mean a radical altering of our respective customary duties. The two young girls, I predicted, would not find such changes so difficult to accommodate, but I did all I could to see that Mrs Clements suffered the least adjustments, to the extent that I undertook for myself a number of duties which you may consider most broad-minded of a butler to do.\n",
      "\n",
      "Even now, I would not go so far as to say it is a bad staff plan; after all, it enables a staff of four to cover an unexpected amount of ground. But you will no doubt agree that the very best staff plans are those which give clear margins of error to allow for those days when an employee is ill or for one reason or another below par. In this particular case, of course, I had been set a slightly extraordinary task, but I had nevertheless not been neglectful to incorporate 'margins' wherever possible. I was especially conscious that any resistance there may be on the part of Mrs Clements, or the two girls, to the taking on of duties beyond their traditional boundaries would be compounded by any notion that their workloads had greatly increased. I had then, over those days of struggling with the staff plan, expended a significant\n",
      "\n",
      "\n",
      "amount of thought to ensuring that Mrs Clements and the girls, once they had got over their aversion to adopting these more 'eclectic' roles, would find the division of duties stimulating and unburdensome.\n",
      "\n",
      "I fear, however, that in my anxiety to win the support of Mrs Clements and the girls, I did not perhaps assess quite as stringently my own limitations; and although my experience and customary caution in such matters prevented my giving myself more than I could actually carry out, I was perhaps negligent over this question of allowing myself a margin. It is not surprising then, if over several months, this oversight should reveal itself in these small but telling ways. In the end, I believe the matter to be no more complicated than this: I had given myself too much to do.\n",
      "\n",
      "You may be amazed that such an obvious shortcoming to a staff plan should have continued to escape my notice, but then you will agree that such is often the way with matters one has given abiding thought to over a period of time; one is not struck by the truth until prompted quite accidentally by some external event. So it was in this instance; that is to say, my receiving the letter from Miss Kenton, containing as it did, along with its long, rather unrevealing passages, an unmistakable nostalgia for Darlington Hall, and - I am quite sure of this - distinct hints of her desire to return here, obliged me to see my staff plan afresh. Only then did it strike me that there was indeed a role that a further staff member could crucially play here; that it was, in fact, this very shortage that had been at the heart of all my recent troubles. And the more I considered it, the more obvious it became that Miss Kenton, with her great affection for this house, with her exemplary professionalism - the sort almost impossible to find nowadays - was Just the factor needed to enable me to complete a fully satisfactory staff plan for Darlington Hall.\n",
      "\n",
      "Having made such an analysis of the situation, It was not long before I found myself reconsidering Mr Farraday's kind suggestion of some days ago.\n",
      "\n",
      "For it had occurred to me that the proposed trip in the car could be put to good professional use; that is to say, I could drive to the West Country and call on Miss Kenton in passing, thus exploring at first hand the substance of her wish to return to employment here at Darlington Hall. I have, I should make clear, reread Miss Kenton's recent letter several times, and there is no possibility I am merely imagining the presence of these hints on her part.\n",
      "\n",
      "For all that, I could not for some days quite bring myself to raise the matter again with Mr Farraday. There were, in any case, various aspects to the matter I felt I needed to clarify to myself before proceeding further. There was, for instance, the question of cost. For even taking into account my employer's generous offer to 'foot the bill for the gas', the costs of such a trip might still come to a surprising amount considering such matters as accommodation, meals, and any small snacks I\n",
      "\n",
      "\n",
      "might partake of on my way. Then there was the question of what sorts of costume were appropriate on such a journey, and whether or not it was worth my while to invest in a new set of clothes. I am in the possession of a number of splendid suits, kindly passed on to me over the years by Lord Darlington himself, and by various guests who have stayed in this house and had reason to be pleased with the standard of service here. Many of these suits are, perhaps, too formal for the purposes of the proposed trip, or else rather old-fashioned these days. But then there is one lounge suit, passed on to me in 1931 or 1932 by Sir Edward Blair - practically brand new at the time and almost a perfect fit - which might well be appropriate for evenings in the lounge or dining room of any guest houses where I might lodge. What I do not possess, however, is any suitable travelling clothes - that is to say, clothes in which I might be seen driving the car - unless I were to don the suit passed on by the young Lord Chalmers during the war, which despite being clearly too small for me, might be considered ideal in terms of tone. I calculated finally that my savings would be able to meet all the costs I might incur, and in addition, might stretch to the purchase of a new costume. I hope you do not think me unduly vain with regard to this last matter; it is just that one never knows when one might be obliged to give out that one is from Darlington Hall, and it is important that one be attired at such times in a manner worthy of one's position.\n",
      "\n",
      "During this time, I also spent many minutes examining the road atlas, and perusing also the relevant volumes of Mrs Jane Symons's The Wonder of England. If you are not familiar with Mrs Symons's books - a series running to seven volumes, each one concentrating on one region of the British Isles - I heartily recommend them. They were written during the thirties, but much of it would still be up to date - after all, I do not imagine German bombs have altered our countryside so significantly. Mrs Symons was, as a matter of fact, a frequent visitor to this house before the war; indeed, she was among the most popular as far as the staff were concerned due to the kind appreciation she never shied from showing. It was in those days, then, prompted by my natural admiration for the lady, that I had first taken to perusing her volumes in the library whenever I had an odd moment. Indeed, I recall that shortly after Miss Kenton's departure to Cornwall in 1936, myself never having been to that part of the country, I would often glance through Volume III of Mrs Symons's work, the volume which describes to readers the delights of Devon and Cornwall, complete with photographs and - to my mind even more evocative - a variety of artists' sketches of that region. It was thus that I had been able to gain some sense of the sort of place Miss Kenton had gone to live her married life. But this was, as I say, back in the thirties, when as I understand, Mrs Symons's books were being admired in houses up and down the country. I had not looked through those volumes for many years, until these recent developments led me to get down\n",
      "\n",
      "\n",
      "from the shelf the Devon and Cornwall volume once more. I studied all over again those marvellous descriptions and illustrations, and you can perhaps understand my growing excitement at the notion that I might now actually undertake a motoring trip myself around that same part of the country.\n",
      "\n",
      "It seemed in the end there was little else to do but actually to raise the matter again with Mr Farraday. There was always the possibility, of course, that his suggestion of a fortnight ago may have been a whim of the moment, and he would no longer be approving of the idea. But from my observation of Mr Farraday over these months, he is not one of those gentlemen prone to that most irritating of traits in an employer - inconsistency. There was no reason to believe he would not be as enthusiastic as before about my proposed motoring trip - indeed, that he would not repeat his most kind offer to 'foot the bill for the gas'. Nevertheless, I considered most carefully what might be the most opportune occasion to bring the matter up with him; for although I would not for one moment, as I say, suspect Mr Farraday of inconsistency, it nevertheless made sense not to broach the topic when he was preoccupied or distracted. A refusal in such circumstances may well not reflect my employer's true feelings on the matter, but once having sustained such a dismissal, I could not easily bring it up again. It was clear, then, that I had to choose my moment wisely.\n",
      "\n",
      "In the end, I decided the most prudent moment in the day would be as I served afternoon tea in the drawing room. Mr Farraday will usually have just .returned from his short walk on the downs at that point, so he is rarely engrossed in his reading or writing as he tends to be in the evenings. In fact, when I bring in the afternoon tea, Mr Farraday is inclin\n"
     ]
    }
   ],
   "source": [
    "print(text_edited[:20000])"
   ]
  },
  {
   "cell_type": "code",
   "execution_count": 63,
   "id": "9e6ed4fa-456f-4ae0-b32f-3ea6ea54f6d8",
   "metadata": {},
   "outputs": [
    {
     "name": "stdout",
     "output_type": "stream",
     "text": [
      "C:/Users/Roland/Documents/AI/stylometry/Kazuo Ishiguro - The Remains of the Day - edited1 test.txt\n"
     ]
    }
   ],
   "source": [
    "save_path_test = save_path[:-4]+\"1 test.txt\"\n",
    "print(save_path_test)\n",
    "\n",
    "\n"
   ]
  },
  {
   "cell_type": "code",
   "execution_count": 64,
   "id": "c3f0402e-91ad-417d-a7ab-09bcfb7d0726",
   "metadata": {},
   "outputs": [],
   "source": [
    "with open(save_path_test, 'w', encoding='utf-8') as f:\n",
    "    f.write(text_edited)"
   ]
  },
  {
   "cell_type": "markdown",
   "id": "3ba0d16b-757d-49b3-9e91-94c069acbf18",
   "metadata": {},
   "source": [
    "Check that saving and loading the corrected file doesn't change it.  There will be a change when it encounters é because it takes 2 bytes.  Up to that point, there should be no differences."
   ]
  },
  {
   "cell_type": "code",
   "execution_count": 85,
   "id": "b9943619-0fae-4421-b35f-3df15444cc94",
   "metadata": {},
   "outputs": [],
   "source": [
    "with open(save_path_test) as f:\n",
    "    text_test = f.read()\n",
    "with open(save_path) as f:\n",
    "    text = f.read()"
   ]
  },
  {
   "cell_type": "code",
   "execution_count": 84,
   "id": "35962298-0667-4922-9729-040ec1ec8498",
   "metadata": {},
   "outputs": [
    {
     "name": "stdout",
     "output_type": "stream",
     "text": [
      "C:/Users/Roland/Documents/AI/stylometry/Kazuo Ishiguro - The Remains of the Day - edited 1.txt\n"
     ]
    }
   ],
   "source": [
    "print(save_path)"
   ]
  },
  {
   "cell_type": "code",
   "execution_count": 86,
   "id": "92072c71-ed76-40c4-b520-96a87b25502e",
   "metadata": {},
   "outputs": [
    {
     "data": {
      "text/plain": [
       "True"
      ]
     },
     "execution_count": 86,
     "metadata": {},
     "output_type": "execute_result"
    }
   ],
   "source": [
    "text == text_test"
   ]
  },
  {
   "cell_type": "code",
   "execution_count": 70,
   "id": "1252232d-9d51-4453-b69f-6cdbfda43645",
   "metadata": {},
   "outputs": [
    {
     "name": "stdout",
     "output_type": "stream",
     "text": [
      "C:/Users/Roland/Documents/AI/stylometry/Kazuo Ishiguro - The Remains of the Day - edited 1.txt\n"
     ]
    }
   ],
   "source": [
    "save_path = save_path[:-5]\n",
    "save_path = save_path + \" 1.txt\"\n",
    "print(save_path)"
   ]
  },
  {
   "cell_type": "code",
   "execution_count": 74,
   "id": "48752051-c7e6-4870-b224-270b85ef1cbe",
   "metadata": {},
   "outputs": [
    {
     "data": {
      "text/plain": [
       "146729"
      ]
     },
     "execution_count": 74,
     "metadata": {},
     "output_type": "execute_result"
    }
   ],
   "source": [
    "text_edited.find(\"é\")"
   ]
  },
  {
   "cell_type": "code",
   "execution_count": 75,
   "id": "7fc2c843-bcc7-4f30-b81d-d0e0b9b91c1e",
   "metadata": {},
   "outputs": [
    {
     "name": "stdout",
     "output_type": "stream",
     "text": [
      "False\n",
      "423412\n",
      "423406\n"
     ]
    }
   ],
   "source": [
    "print(text[:146730] == text_edited[:146730])\n",
    "print(len(text))\n",
    "print(len(text_edited))"
   ]
  },
  {
   "cell_type": "code",
   "execution_count": 237,
   "id": "29278a47-903b-4cda-9983-e1625d9ce6c9",
   "metadata": {},
   "outputs": [
    {
     "name": "stdout",
     "output_type": "stream",
     "text": [
      "0\n",
      "423697\n"
     ]
    }
   ],
   "source": [
    "\n",
    "# Sample text with hyphenated words across lines\n",
    "text = texts[3]\n",
    "# Use regex to find words that are hyphenated across lines\n",
    "# Match sequences where a hyphen is at the end of a line, followed by a newline, and then continued with a word\n",
    "hyphenated_words = re.findall(r\"(\\w+)-\\n(\\w+)\", text)\n",
    "\n",
    "# Print the hyphenated words\n",
    "for first_part, second_part in hyphenated_words:\n",
    "    print(f\"Found broken word: {first_part}-{second_part}\")\n",
    "print(len(hyphenated_words))\n",
    "print(len(text))\n"
   ]
  }
 ],
 "metadata": {
  "kernelspec": {
   "display_name": "Python 3 (ipykernel)",
   "language": "python",
   "name": "python3"
  },
  "language_info": {
   "codemirror_mode": {
    "name": "ipython",
    "version": 3
   },
   "file_extension": ".py",
   "mimetype": "text/x-python",
   "name": "python",
   "nbconvert_exporter": "python",
   "pygments_lexer": "ipython3",
   "version": "3.9.19"
  }
 },
 "nbformat": 4,
 "nbformat_minor": 5
}
