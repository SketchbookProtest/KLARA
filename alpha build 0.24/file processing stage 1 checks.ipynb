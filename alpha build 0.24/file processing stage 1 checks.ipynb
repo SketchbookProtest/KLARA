{
 "cells": [
  {
   "cell_type": "code",
   "execution_count": 1,
   "id": "1726f6c5-0b63-4184-ab57-21fad4577fae",
   "metadata": {},
   "outputs": [],
   "source": [
    "import stanza, re, benepar, psutil, gc, json, csv, time, string, os\n",
    "\n",
    "import numpy as np\n",
    "import networkx as nx\n",
    "import pandas as pd\n",
    "import seaborn as sns\n",
    "\n",
    "from textstat import textstat\n",
    "from datetime import datetime\n",
    "from collections import Counter\n",
    "\n",
    "import spacy\n",
    "from spacy.tokenizer import Tokenizer\n",
    "from spacy.util import compile_infix_regex\n",
    "\n",
    "\n",
    "import nltk\n",
    "from nltk.tokenize import word_tokenize\n",
    "from nltk.corpus import stopwords\n",
    "from nltk.probability import FreqDist\n",
    "from nltk.tokenize import RegexpTokenizer\n",
    "from nltk import Tree\n",
    "from textblob import Word\n",
    "from spellchecker import SpellChecker\n",
    "\n",
    "import matplotlib.pyplot as plt\n",
    "from matplotlib.ticker import LogLocator, LogFormatter"
   ]
  },
  {
   "cell_type": "code",
   "execution_count": 2,
   "id": "b24cd98d-fecd-47ae-934f-11ab9a1d0ef3",
   "metadata": {},
   "outputs": [],
   "source": [
    "source_texts= list()\n",
    "source_texts.append(\"Kazuo Ishiguro - Never Let Me Go\")\n",
    "source_texts.append(\"Kazuo Ishiguro - The Remains of the Day\")\n",
    "source_texts.append(\"Kazuo Ishiguro - A Pale View of Hills-Knopf Doubleday Publishing Group (1990)\")\n",
    "source_texts.append(\"Kazuo-Ishiguro-When-We-Were-Orphans-Alfred-A.-Knopf_Vintage-_2001_\")\n",
    "source_texts.append(\"The Buried Giant (Kazuo Ishiguro) (Z-Library)-1\")\n",
    "source_texts.append(\"Kazuo Ishiguro - The Unconsoled-Vintage (1996)\")\n",
    "directory_path = \"C:/Users/Roland/Documents/AI/stylometry/\"\n"
   ]
  },
  {
   "cell_type": "markdown",
   "id": "b9159a38-86dd-43d5-afd3-4924b1685f47",
   "metadata": {},
   "source": [
    "print(file_path_edited_2)"
   ]
  },
  {
   "cell_type": "markdown",
   "id": "3510cac9-25d7-4677-90b6-c2ef7b46b730",
   "metadata": {},
   "source": [
    "print(file_path_edited_2)"
   ]
  },
  {
   "cell_type": "markdown",
   "id": "a44cd383-7ed8-4a5e-b3a5-689e23bd83fc",
   "metadata": {},
   "source": [
    "Select choice of text by specifying index (starting with 0):"
   ]
  },
  {
   "cell_type": "code",
   "execution_count": 91,
   "id": "e7de0d6d-2d39-4e52-a3eb-ca53e8f885e4",
   "metadata": {},
   "outputs": [
    {
     "name": "stdout",
     "output_type": "stream",
     "text": [
      "file found at  C:/Users/Roland/Documents/AI/stylometry/Kazuo Ishiguro - The Unconsoled-Vintage (1996) edited_2.txt\n"
     ]
    }
   ],
   "source": [
    "text_choice = 5\n",
    "\n",
    "file_path = directory_path+source_texts[text_choice]+\" edited_2.txt\"\n",
    "if os.path.isfile(file_path):\n",
    "    print (\"file found at \", file_path)\n",
    "    with open(file_path, 'r', encoding='utf-8') as f:\n",
    "        text = f.read()\n",
    "else:\n",
    "    print(\"file not found at \", file_path)\n",
    "    file_path = directory_path+source_texts[text_choice]+\" edited_1.txt\"\n",
    "    if os.path.isfile(file_path):\n",
    "        print (\"file found at \", file_path)\n",
    "        with open(file_path, 'r', encoding='utf-8') as f:\n",
    "            text = f.read()\n",
    "    else:\n",
    "        print(\"file not found at \", file_path)\n",
    "        file_path = directory_path+source_texts[text_choice]+\" edited.txt\"\n",
    "        if os.path.isfile(file_path):\n",
    "            print (\"file found at \", file_path)\n",
    "            with open(file_path, 'r', encoding='utf-8') as f:\n",
    "                text = f.read()\n",
    "        else:\n",
    "            print(\"file not found at \", file_path)\n"
   ]
  },
  {
   "cell_type": "code",
   "execution_count": 92,
   "id": "b466322d-ee71-4921-b465-9ebc89b1655b",
   "metadata": {},
   "outputs": [
    {
     "name": "stdout",
     "output_type": "stream",
     "text": [
      "invalid characters using re: {'é'}\n"
     ]
    }
   ],
   "source": [
    "valid_char_pattern = re.compile(r'[a-zA-Z0-9\\s.:;,?!\\'\"()£\\-—…&]')\n",
    "\n",
    "re_chars = list()\n",
    "invalid_chars = set()\n",
    "for i, char in enumerate(text):\n",
    "    if not valid_char_pattern.match(char):\n",
    "        invalid_chars.add(char)\n",
    "\n",
    "# Output the list of invalid characters and their positions\n",
    "invalid_char_positions = [(char, [i for i, c in enumerate(text) if c == char]) for char in invalid_chars]\n",
    "print(f\"invalid characters using re: {invalid_chars}\")\n",
    "#print(invalid_char_positions)\n",
    "re_chars = invalid_chars"
   ]
  },
  {
   "cell_type": "code",
   "execution_count": 93,
   "id": "0a1314f8-61b6-4bed-b475-d9bebfd37c7f",
   "metadata": {},
   "outputs": [
    {
     "name": "stdout",
     "output_type": "stream",
     "text": [
      "valid characters used by string: abcdefghijklmnopqrstuvwxyzABCDEFGHIJKLMNOPQRSTUVWXYZ0123456789 !\"#$%&'()*+,-./:;<=>?@[\\]^_`{|}~\n",
      "invalid characters found using string: set()\n"
     ]
    }
   ],
   "source": [
    "valid_chars = string.ascii_letters + string.digits + string.punctuation + \"…—àêé \\n\\t\"\n",
    "valid_chars = ''.join([char for char in valid_chars if char not in \"{}~$%\"])\n",
    "print (f\"valid characters used by string: {string.ascii_letters + string.digits + ' ' + string.punctuation}\")\n",
    "\n",
    "string_chars = list()\n",
    "invalid_chars = set()\n",
    "for i, char in enumerate(text):\n",
    "    if char not in valid_chars:\n",
    "        invalid_chars.add(char)\n",
    "    #invalid_chars.difference_update({\"\\n\",\"\\t\"})\n",
    "\n",
    "invalid_char_positions = [(char, [i for i, c in enumerate(test_text) if c == char]) for char in invalid_chars]\n",
    "print(f\"invalid characters found using string: {invalid_chars}\")"
   ]
  },
  {
   "cell_type": "code",
   "execution_count": 81,
   "id": "693242f3-176f-4408-8b82-b64b2c3de9ee",
   "metadata": {},
   "outputs": [],
   "source": [
    "def find_capitalized_words(text):\n",
    "    \"\"\"\n",
    "    Finds all words in the string that are in capitals, excluding words of one character.\n",
    "    \n",
    "    Parameters:\n",
    "    - text: The input string.\n",
    "    \n",
    "    Returns:\n",
    "    - A list of fully capitalized words with more than one character.\n",
    "    \"\"\"\n",
    "    # Use regex to match words with all capital letters and exclude single-character words\n",
    "    capitalized_words = re.findall(r'\\b[A-Z]{2,}\\b', text)\n",
    "    return capitalized_words"
   ]
  },
  {
   "cell_type": "code",
   "execution_count": 94,
   "id": "3679f96e-a99d-4162-b101-a74ea76f2a56",
   "metadata": {},
   "outputs": [
    {
     "name": "stdout",
     "output_type": "stream",
     "text": [
      "uld enjoy pretending the teams were 'real' ones, such as Ajax Amsterdam or AC Milan, and had given the teams his ow\n",
      "he film in which the astronauts first suspect the motives of the computer, HAL, central to every aspect of life abo\n",
      "he film in which the astronauts first suspect the motives of the computer, HAL, central to every aspect of life abo\n",
      "he film in which the astronauts first suspect the motives of the computer, HAL, central to every aspect of life abo\n",
      " street, resolving to call on her in the morning at the first opportunity. II     21     I awoke to find bright sun\n",
      " street, resolving to call on her in the morning at the first opportunity. II     21     I awoke to find bright sun\n",
      " street, resolving to call on her in the morning at the first opportunity. II     21     I awoke to find bright sun\n",
      "e entries grew facetious. Someone was claiming to have lost 'three million US dollars'. Another entry was that of '\n",
      "t see them. They had not been seated in any of the boxes nor in any of the VIP seats at the front. So I ask you aga\n"
     ]
    }
   ],
   "source": [
    "capitalized_words = find_capitalized_words(text)\n",
    "for word in capitalized_words:\n",
    "    if word != \"OK\":\n",
    "        ind = text.find(word)\n",
    "        window = text[ind-75:ind+40]\n",
    "        window = window.replace(\"\\n\", \" \")\n",
    "        window = window.replace(\"\\t\", \" \")\n",
    "        print(window)\n"
   ]
  },
  {
   "cell_type": "code",
   "execution_count": 95,
   "id": "f124a830-3a17-4a32-8bab-2372fe5ce292",
   "metadata": {},
   "outputs": [
    {
     "name": "stdout",
     "output_type": "stream",
     "text": [
      "Found broken word: not-so\n",
      "Found broken word: so-called\n",
      "Found broken word: mock-pompous\n",
      "Found broken word: near-darkness\n",
      "Found broken word: pudgy-faced\n",
      "Found broken word: long-range\n",
      "Found broken word: sun-filled\n",
      "Found broken word: full-chested\n",
      "Found broken word: nervous-looking\n",
      "Found broken word: red-nosed\n",
      "Found broken word: have-no\n",
      "Found broken word: half-way\n",
      "Found broken word: high-pitched\n",
      "Found broken word: mid-sentence\n",
      "Found broken word: self-possessed\n",
      "Found broken word: half-finished\n",
      "Found broken word: early-morning\n",
      "17\n"
     ]
    }
   ],
   "source": [
    "hyphenated_words = re.findall(r\"(\\w+)-\\n(\\w+)\", text)\n",
    "\n",
    "# Print the hyphenated words\n",
    "for first_part, second_part in hyphenated_words:\n",
    "    print(f\"Found broken word: {first_part}-{second_part}\")\n",
    "print(len(hyphenated_words))\n"
   ]
  },
  {
   "cell_type": "code",
   "execution_count": null,
   "id": "cc0612a2-3b5a-47bb-9c40-03ea8f402a9b",
   "metadata": {},
   "outputs": [],
   "source": []
  },
  {
   "cell_type": "code",
   "execution_count": 96,
   "id": "11058467-a900-44e6-9660-cab4f84879b2",
   "metadata": {},
   "outputs": [
    {
     "name": "stdout",
     "output_type": "stream",
     "text": [
      "Invalid character 'é' (233) at position 10485:\n",
      "t, that's true, but we've often talked it over - we meet every Sunday afternoon at the Hungarian Caf[é] in the Old Town, you could come and join us, you'd be a most welcome guest, sir - well, we've ofte\n",
      "\n",
      "Invalid character 'é' (233) at position 10843:\n",
      " ones who came after us, of course, they take it all for granted. But our group at the Hungarian Caf[é], we know we've made a difference, even if it's a small one. You'd be very welcome to join us, sir.\n",
      "\n",
      "Invalid character 'é' (233) at position 11455:\n",
      " it. But to return to what I was saying, we've been discussing this topic a lot at the Hungarian Caf[é]. I mean about these old resolutions we each made all those years ago. You see, none of us thought \n",
      "\n",
      "Invalid character 'é' (233) at position 12413:\n",
      "eriod of ill-health, and I was finding things difficult, and so we discussed it at the Hungarian Caf[é]. Well, in the end, my colleagues all agreed there was no need for me to be so strict on myself. Af\n",
      "\n",
      "Invalid character 'é' (233) at position 13563:\n",
      "ot the only one who's had to make changes. We discuss these things all the time at the Hungarian Caf[é] and the truth is, each one of us has had to make some changes. But I wouldn't have you think we're\n",
      "\n",
      "Invalid character 'é' (233) at position 14112:\n",
      "come to respect our Sunday gatherings. As I say, sir, you'd be most welcome to join us. Both the caf[é] and the square are exceptionally pleasant on these sunny afternoons. And sometimes the café propri\n",
      "\n",
      "Invalid character 'é' (233) at position 14204:\n",
      " the café and the square are exceptionally pleasant on these sunny afternoons. And sometimes the caf[é] proprietor will arrange for gypsy violinists to play in the square. The proprietor himself, sir, h\n",
      "\n",
      "Invalid character 'é' (233) at position 14343:\n",
      "linists to play in the square. The proprietor himself, sir, has the greatest respect for us. The caf[é] isn't large, but he'll always ensure there's plenty of room for us to sit around our table in comf\n",
      "\n",
      "Invalid character 'é' (233) at position 14477:\n",
      "sure there's plenty of room for us to sit around our table in comfort. Even when the rest of the caf[é] is extremely busy, the proprietor will see to it we don't get crowded out or disturbed. Even on th\n",
      "\n",
      "Invalid character 'é' (233) at position 15804:\n",
      "preciative, then how does he account for the great respect they're treated with at the Hungarian Caf[é]? Really, Gustav, it's very unkind of you to misrepresent us all to Mr Ryder.'   This was said in a\n",
      "\n",
      "Invalid character 'é' (233) at position 16903:\n",
      "until Gustav arrives do they relax and start conversing. It's worth going along to the Hungarian Caf[é] just to witness Gustav's arrival. The contrast between before and after is very marked, I have to \n",
      "\n",
      "Invalid character 'é' (233) at position 18910:\n",
      "ctive and I always advise visitors to go there. It has a marvellous atmosphere, full of pavement caf[é]s, craft shops, restaurants. It's only a short walk from here, so you should take the opportunity a\n",
      "\n",
      "Invalid character 'é' (233) at position 25446:\n",
      "old bridge to watch the boats pass underneath. The expedition would then conclude at a favourite caf[é], where they would order cake or ice cream and await Sophie's return.   Initially these little outi\n",
      "\n",
      "Invalid character 'é' (233) at position 26551:\n",
      " not been able to expel from his mind.   He had been walking with Boris past one of the numerous caf[é]s of the Old Town when he had suddenly noticed his daughter sitting inside. The awning had shaded t\n",
      "\n",
      "Invalid character 'é' (233) at position 54264:\n",
      "hink I'll do just that. I'll go off right now.'   'If you find time to sit down at the Hungarian Caf[é] in the Old Square, I feel certain you wouldn't regret it. I would suggest you order a pot of coffe\n",
      "\n",
      "Invalid character 'é' (233) at position 54905:\n",
      "small thing,' he said eventually. 'You see, I know just now my daughter will be at the Hungarian Caf[é]. She'll have little Boris with her. She's a very pleasant young woman, sir, I'm sure you'd feel ve\n",
      "\n",
      "Invalid character 'é' (233) at position 60939:\n",
      "tsider. But I'll see what I can do.'   'I'll be indebted to you, sir. She'll be at the Hungarian Caf[é] at this moment. You should have no difficulty recognising her. She has long dark hair and a number\n",
      "\n",
      "Invalid character 'é' (233) at position 61919:\n",
      "t to enter a quite different atmosphere. Visible on the opposite bank were colourful awnings and caf[é] parasols. I caught the movement of waiters and of children running in circles. A tiny dog was bark\n",
      "\n",
      "Invalid character 'é' (233) at position 62344:\n",
      " minutes, past numerous little souvenir shops, confectioners and bakeries. I also passed several caf[é]s and for a moment I wondered if I would have difficulty locating the particular one referred to by\n",
      "\n",
      "Invalid character 'é' (233) at position 62545:\n",
      "the porter. But then I came out to a large square at the heart of the district and the Hungarian Caf[é] was immediately obvious. The sprawl of tables occupying the entire far corner of the square was, I\n",
      "\n",
      "Invalid character 'é' (233) at position 62971:\n",
      "ly breeze which every now and then caused a flutter to pass through the parasols surrounding the caf[é]. Regardless, the majority of the tables were occupied. Many of the customers seemed to be tourists\n",
      "\n",
      "Invalid character 'é' (233) at position 63724:\n",
      "t. But I could not see any young women with long dark hair and a small boy. I stepped inside the caf[é] and discovered a small, rather gloomy room with just five or six tables. I could see how the overc\n",
      "\n",
      "Invalid character 'é' (233) at position 109643:\n",
      "lighting was much better and I noticed tram lines running alongside us. There was the occasional caf[é] or restaurant closed for the night, but for the most part the area was full of stately apartment b\n",
      "\n",
      "Invalid character 'é' (233) at position 175693:\n",
      "derstanding of yours she was thinking about that time you saw her sitting so despondently in the caf[é]?'   This seemed to stun Gustav and for some time he remained silent. Finally he said: \"That's neve\n",
      "\n",
      "Invalid character 'é' (233) at position 239109:\n",
      "test anticipation building up around what you'll tell us on Thursday night. In the trams, in the caf[é]s, people are talking of virtually nothing else. Of course, I don't know precisely what you've prep\n",
      "\n",
      "Invalid character 'é' (233) at position 340686:\n",
      "ugged. 'They said to come back in another hour. So we were just killing time over there, in that caf[é], the photographer and I. But now that you're passing, I wonder if we shouldn't just do the intervi\n",
      "\n",
      "Invalid character 'é' (233) at position 341654:\n",
      " continue to bother you throughout the day. Our photographer, Pedro, he's over there now in that caf[é]. He can take a few quick pictures while I ask you two or three questions. Then you and this young \n",
      "\n",
      "Invalid character 'é' (233) at position 342132:\n",
      "w many other important demands there must be on your time. As I say, we're just over there. That caf[é] there.'   He was pointing to a spot a little distance away where some tables and chairs were spill\n",
      "\n",
      "Invalid character 'é' (233) at position 342826:\n",
      "k along the pavement, almost colliding with another pedestrian in his eagerness to return to his caf[é]. He was soon a few paces ahead and I took the opportunity to say to Boris: 'Don't worry, this won'\n",
      "\n",
      "Invalid character 'é' (233) at position 350460:\n",
      "o the best you can here, take a few shots of Mr Ryder as we talk at this table. Okay, a pavement caf[é], it's very clichéd, it will hardly show to good effect the unique charisma Mr Ryder carries around\n",
      "\n",
      "Invalid character 'é' (233) at position 350478:\n",
      " here, take a few shots of Mr Ryder as we talk at this table. Okay, a pavement café, it's very clich[é]d, it will hardly show to good effect the unique charisma Mr Ryder carries around him. But it will \n",
      "\n",
      "Invalid character 'é' (233) at position 350987:\n",
      "ance to take the great Mr Ryder, a once-in-a-lifetime chance, and I have to make do with another caf[é] scene. That's the way life deals you a hand.' He shook his head again sadly. Then for a moment the\n",
      "\n",
      "Invalid character 'é' (233) at position 403379:\n",
      "e,' and I opened my eyes again.     14     We had slowed right down and were approaching a small caf[é] - a white bungalow - standing alone on the roadside. It was the sort of place one might imagine lo\n",
      "\n",
      "Invalid character 'é' (233) at position 403817:\n",
      "ve gathered here for years now. Everything's very informal.'   We got out and walked towards the caf[é]. As we approached I could see bright pieces of cardboard hung from the awning, announcing various \n",
      "\n",
      "Invalid character 'é' (233) at position 405607:\n",
      "' Then he muttered something quickly to Christoff, glancing as he did so towards the rear of the caf[é].   Both Christoff and I followed the bearded man's gaze. As though he had been waiting for our att\n",
      "\n",
      "Invalid character 'é' (233) at position 415431:\n",
      " get one thing settled. Once and for all.'   Dr Lubanski's laugh again came from the back of the caf[é]. 'Claude and his pigmented triad! You still haven't resolved that?'   'Claude,' Christoff said, 't\n",
      "\n",
      "Invalid character 'é' (233) at position 417581:\n",
      "y lack of time having caused me suddenly to remember Boris sitting waiting for me in that little caf[é].   A considerable period, I realised, had elapsed since I had left him there. A picture came into \n",
      "\n",
      "Invalid character 'é' (233) at position 428106:\n",
      "f you would show me through to the front.' For indeed, I had at that moment remembered that this caf[é] and the one in which I had left Boris were in fact parts of the same building, this being one of t\n",
      "\n",
      "Invalid character 'é' (233) at position 430486:\n",
      "and down the tablecloth. Apart from a young couple sitting near the windows, the interior of the caf[é] was otherwise empty.   I felt something pushing against my side and realised the bearded man had s\n",
      "\n",
      "Invalid character 'é' (233) at position 430770:\n",
      "The next moment the whole of the partition before me opened and I found myself stepping into the caf[é].   The waitress turned to me and smiled. Then she called across to Boris: 'Look who's here!'   Bor\n",
      "\n",
      "Invalid character 'é' (233) at position 527503:\n",
      "sed a lobby area with a bank of public telephones, and then through a second glass door into the caf[é] area. An aroma of grilled meat greeted us. The room was vast, with long rows of oval tables. On al\n",
      "\n",
      "Invalid character 'é' (233) at position 542839:\n",
      "don't worry.'  I thanked her and came away from the telephone booths. As I stepped back into the caf[é], I paused a moment inside the doorway. The sunset was causing long shadows to fall across the room\n",
      "\n",
      "Invalid character 'é' (233) at position 545197:\n",
      "thering in her expression. Then finally she began to get up. I turned and made my way out of the caf[é] without looking back at them. 18     By the time I brought the car down the steep winding road and\n",
      "\n",
      "Invalid character 'é' (233) at position 621272:\n",
      "nd I still haven't asked you. It's just something that came up a few weeks ago, at the Hungarian Caf[é], at one of our Sunday gatherings. It wasn't long after we heard the news about you coming to our t\n",
      "\n",
      "Invalid character 'é' (233) at position 623639:\n",
      " at a set of lights and it was not until we were on the other side walking past a row of Italian caf[é]s that he said: 'I'm sure you've guessed what I'm going to ask, sir. All we're requesting is a smal\n",
      "\n",
      "Invalid character 'é' (233) at position 626102:\n",
      "t would be easy enough.'   I suddenly saw quite vividly the gathering of sturdy old men around a caf[é] table, the looks on their faces - of disbelief, of unfathomed joy - as Gustav announced the news t\n",
      "\n",
      "Invalid character 'é' (233) at position 666347:\n",
      " such a place for a rendez-vous? Have you altogether taken leave of your senses? A restaurant, a caf[é], perhaps some gardens or a lake. But you propose a cemetery!'   'I'm sorry.' Brodsky seemed genuin\n",
      "\n",
      "Invalid character 'é' (233) at position 677363:\n",
      "lk steadily, now turning the corner where I had earlier parted with Gustav, and past the Italian caf[é]s on the wide boulevard. The pavement was even more crowded than when I had come along it with Gust\n",
      "\n",
      "Invalid character 'é' (233) at position 680475:\n",
      "away and gone on walking. Only when she had gone further along the boulevard, beyond the Italian caf[é]s, had she given in to her curiosity and glanced back. It was then she had realised he had been fol\n",
      "\n",
      "Invalid character 'é' (233) at position 701791:\n",
      " then remembered I could not now afford to be side-tracked at all. I hurried on past the Italian caf[é]s, and did not glance back until I had reached the crossing and was waiting for the lights to chang\n",
      "\n",
      "Invalid character 'é' (233) at position 732879:\n",
      "re us.   'It was music that first brought us together,' he said eventually. 'We would sit in the caf[é]s in Herrengasse and talk about music. Or rather, I talked. I suppose I talked and talked. I rememb\n",
      "\n",
      "Invalid character 'é' (233) at position 737533:\n",
      "e during our courtship, during all our walks along the canal, the times we met for coffee in the caf[é]s on Herrengasse, I never, never, intentionally led her to believe I composed music. That I was per\n",
      "\n",
      "Invalid character 'é' (233) at position 823807:\n",
      "oncert hall before me, closer than ever. The street I now entered was broader, with brightly lit caf[é]s and shops on either side. The domed roof was no more than a block or two away, just beyond where \n",
      "\n",
      "Invalid character 'é' (233) at position 828668:\n",
      " wandering, I suddenly felt unable to go on and halted. Noticing I had stopped beside a pavement caf[é], I collapsed into a chair at the nearest table and immediately felt what remained of my energy dra\n",
      "\n",
      "Invalid character 'é' (233) at position 830744:\n",
      "e little more than shadows. Gustav was indicating to the opposite side where I could see another caf[é], somewhat larger than the one I was now patronising, its open doorway and windows throwing out a w\n",
      "\n",
      "Invalid character 'é' (233) at position 831133:\n",
      "wn on me I was in fact sitting in the Old Town by the main square, looking over to the Hungarian Caf[é]. As I continued to glance about me, I could hear Gustav saying: \"The boys, sir, they've been makin\n",
      "\n",
      "Invalid character 'é' (233) at position 834326:\n",
      "this after my saying to you how welcome you'd be to join us whenever you wished at the Hungarian Caf[é]. Did you think you'd be welcomed with anything less than huge enthusiasm if you'd come over to us?\n",
      "\n",
      "Invalid character 'é' (233) at position 836219:\n",
      " led the way determinedly across the remainder of the square.     27     Only when I entered the caf[é] and felt the warmth of the log fire at the far end of the room did I realise how chilly the evenin\n",
      "\n",
      "Invalid character 'é' (233) at position 836356:\n",
      " at the far end of the room did I realise how chilly the evening had become. The interior of the caf[é] had been re-arranged since the previous time I had stepped inside it. Most of the tables had been \n",
      "\n",
      "Invalid character 'é' (233) at position 836774:\n",
      "an Gustav, though almost all were in late middle-age. A little way away from them, over near the caf[é] counter, two thin men in gypsy dress were playing a brisk waltz on their fiddles. There were other\n",
      "\n",
      "Invalid character 'é' (233) at position 837279:\n",
      "s, boys, it really is him. He's come in person to wish us well.'   A complete hush fell over the caf[é] while everyone - the porters, the waiters, the musicians, the other customers - stared at me. Then\n",
      "\n",
      "Invalid character 'é' (233) at position 839977:\n",
      "ire company of porters joined in, and then the music momentarily stopped as everyone else in the caf[é] joined in for the final, deafening hurrah. Then there was more applause.  'Thank you, thank you,' \n",
      "\n",
      "Invalid character 'é' (233) at position 849621:\n",
      "ment. Then I noticed that Boris - who presumably had all this time been sitting somewhere in the caf[é] - had come right up to the table and was looking up at the two porters with obvious delight. From \n",
      "\n",
      "Invalid character 'é' (233) at position 850149:\n",
      "s cheek.   All the activity seemed to be drawing in more and more people from the square and the caf[é] was becoming very crowded. I noticed too that although there had been only two gypsy musicians whe\n",
      "\n",
      "Invalid character 'é' (233) at position 854908:\n",
      " boards into a more dense formation while the other was gesturing impatiently to the back of the caf[é], pointing angrily at the spaces that remained inside the suitcase. Then I could see more chopping \n",
      "\n",
      "Invalid character 'é' (233) at position 870287:\n",
      "ire room appeared to be revolving around them united in song. Many more people had come into the caf[é] and the room was now virtually solid with bodies. I saw too that the doors were still open to the \n",
      "\n",
      "Invalid character 'é' (233) at position 871686:\n",
      "ould see too the waiters sweeping up and returning tables to their original positions around the caf[é]. There was however a sizeable group of us still circling the room, arms linked together, singing p\n",
      "\n",
      "Invalid character 'é' (233) at position 872080:\n",
      "panions, I felt someone tapping me and looked over my shoulder to find the man I assumed was the caf[é] proprietor smiling at me. He was a lanky man and as I continued to sway along he obligingly kept u\n",
      "\n",
      "Invalid character 'é' (233) at position 873443:\n",
      "him, not only for this kind offer, but also for having provided the facilities of this wonderful caf[é], and for his generosity towards the porters - an obviously under-appreciated group within the comm\n",
      "\n",
      "Invalid character 'é' (233) at position 873734:\n",
      "proprietor had placed a hand on my shoulder and was guiding me towards a door at the back of the caf[é].   He led me through a darkened room - I could make out stacks of merchandise piled up against the\n",
      "\n",
      "Invalid character 'é' (233) at position 875242:\n",
      "he curtain, I began to make my way out of the room, bitterly regretting having ever taken up the caf[é] proprietor's offer of a place to rest.  I stepped into the small connecting room where earlier I h\n",
      "\n",
      "Invalid character 'é' (233) at position 875547:\n",
      "hard objects as I groped about for a doorway. Eventually I came out into the main section of the caf[é] where not so long ago we had all danced and sung with so much good feeling. A little light was com\n",
      "\n",
      "Invalid character 'é' (233) at position 875987:\n",
      "e solitary street lamp at the centre of the empty square accounted for the light coming into the caf[é], but I noticed again how the sky appeared to carry the first hints of morning. As I went on gazing\n",
      "\n",
      "Invalid character 'é' (233) at position 877137:\n",
      " wandered out into the square.   The air felt wonderfully refreshing after the stuffiness of the caf[é], and had I not been so short of time I would have strolled about the square for a few moments to c\n",
      "\n",
      "Invalid character 'é' (233) at position 877403:\n",
      "oncert hall.   For the next several minutes I hurried through the empty streets, past the closed caf[é]s and shops, without once catching sight of the domed roof. The Old Town under the street lamps had\n",
      "\n",
      "Invalid character 'é' (233) at position 891055:\n",
      ". He looked familiar, and then I recognised the bearded porter who had opened the dancing at the caf[é] earlier in the evening.   'Mr Ryder,' he said panting, 'thank God I've found you at last. This is \n",
      "\n",
      "Invalid character 'é' (233) at position 931466:\n",
      "ier because we were following him. Because perhaps he wanted to sit down on a bench or go into a caf[é] somewhere, but couldn't because of us. You remember all this? I told it all to you that day. And I\n",
      "\n",
      "Invalid character 'é' (233) at position 962280:\n",
      "y formed a gangway and one of them - a wiry man with a moustache I recognised from the Hungarian Caf[é] - came towards us. He looked uncertain and initially addressed only me.   'He's holding out well, \n",
      "\n",
      "Invalid character 'é' (233) at position 1006331:\n",
      " bag trying to squeeze past. Close behind him was another porter I recognised from the Hungarian Caf[é]. The two of them went into the room, and the young doctor, hurrying to Gustav, knelt down beside h\n",
      "\n",
      "Invalid character 'é' (233) at position 1025330:\n",
      "om each of my three periods. Many of these poems will be familiar to you from my readings at the Caf[é] Adela, but I trust you will not object to hearing them again in this grand context. And I will tel\n",
      "\n"
     ]
    }
   ],
   "source": [
    "display_invalid_chars(text)"
   ]
  },
  {
   "cell_type": "code",
   "execution_count": 54,
   "id": "df681f3f-d489-4b77-ae93-58f118738e93",
   "metadata": {},
   "outputs": [],
   "source": [
    "# further_corrections = [dict(), dict(), dict(), dict(), dict(), dict()]\n",
    "# Don't run if already contains useful data"
   ]
  },
  {
   "cell_type": "code",
   "execution_count": 70,
   "id": "96d9538c-4e05-4352-8f27-bfb2781a312d",
   "metadata": {},
   "outputs": [],
   "source": [
    "further_corrections[text_choice][\"a busy time/\"] = \"a busy time\"\n",
    "further_corrections[text_choice][\"[said, getting to my feet\"] = \"I said, getting to my feet\"\n",
    "further_corrections[text_choice][\"[go\"] = \"I go\"\n",
    "further_corrections[text_choice][\"[fit's a boy\"] = \"If it's a boy\"\n",
    "further_corrections[text_choice][\"[care even less\"] = \"I care even less\"\n",
    "further_corrections[text_choice][\"[asked\"] = \"I asked\"\n",
    "further_corrections[text_choice][\"[may just catch\"] = \"I may just catch\"\n",
    "further_corrections[text_choice][\"[here for years\"] = \"here for years\"\n",
    "further_corrections[text_choice][\"[opened my door\"] = \"I opened my door\"\n",
    "further_corrections[text_choice][\"[ I would like to have\"] = \" I would like to have\"\n",
    "further_corrections[text_choice]['] said. \"1 ironed'] = 'I said. \"I ironed'\n",
    "further_corrections[text_choice][\"of_ those killed\"] = \"of those killed\"\n",
    "further_corrections[text_choice][\"I dà want you to\"] = \"I'd want you to\"\n",
    "further_corrections[text_choice][\"Ogata-Sàn\"] = \"Ogata-San\"\n",
    "further_corrections[text_choice][\"lifted itàff\"] = \"lifted it off\""
   ]
  },
  {
   "cell_type": "code",
   "execution_count": 71,
   "id": "cd88a8d9-4dc1-477f-85da-ed78e9849862",
   "metadata": {},
   "outputs": [
    {
     "name": "stdout",
     "output_type": "stream",
     "text": [
      "Before: u caught me at such [a busy time/]' my husband said. \"\n",
      "After:  u caught me at such [a busy time]' my husband said. \"\n",
      "\n",
      "Before: should have asked,\" [[said, getting to my feet]. \"You won't always \n",
      "After:  should have asked,\" [I said, getting to my feet]. \"You won't always \n",
      "\n",
      "Before:  really don't mind. [[fit's a boy] we could name him a\n",
      "After:   really don't mind. [If it's a boy] we could name him a\n",
      "\n",
      "Before: e that thought, and [[care even less] now.\" We stopped wa\n",
      "After:  e that thought, and [I care even less] now.\" We stopped wa\n",
      "\n",
      "Before: day today, Mariko?\" [[asked]. \"Did you do any dr\n",
      "After:  day today, Mariko?\" [I asked]. \"Did you do any dr\n",
      "\n",
      "Before: new house, Father?\" [[asked]. . \"My house? Why, \n",
      "After:  new house, Father?\" [I asked]. . \"My house? Why, \n",
      "\n",
      "Before: home, in which case [[may just catch] him. That would be \n",
      "After:  home, in which case [I may just catch] him. That would be \n",
      "\n",
      "Before: ou lived and worked [[here for years], Ogata-San. Don't w\n",
      "After:  ou lived and worked [here for years], Ogata-San. Don't w\n",
      "\n",
      "Before: dressing gown. When [[opened my door], the light outside \n",
      "After:  dressing gown. When [I opened my door], the light outside \n",
      "\n",
      "Before:  Niki, that's all.\" [[ I would like to have] seen her to the rai\n",
      "After:   Niki, that's all.\" [ I would like to have] seen her to the rai\n",
      "\n",
      "Before: re with the others,\"[] said. \"1 ironed] it the day before y\n",
      "After:  re with the others,\"[I said. \"I ironed] it the day before y\n",
      "\n",
      "Before: te statue in memory [of_ those killed] by the atomic bomb—\n",
      "After:  te statue in memory [of those killed] by the atomic bomb—\n",
      "\n",
      "Before: . Ask me about him. [I dà want you to]. Ask me about him, \n",
      "After:  . Ask me about him. [I'd want you to]. Ask me about him, \n",
      "\n",
      "Before:  the following day, [Ogata-Sàn] remained in the apa\n",
      "After:   the following day, [Ogata-San] remained in the apa\n",
      "\n",
      "Before: truggled as Sachiko [lifted itàff] the ground. She dro\n",
      "After:  truggled as Sachiko [lifted it off] the ground. She dro\n",
      "\n",
      "Before: must show me before [[go] back to Fukuoka.\" \"\n",
      "After:  must show me before [I go] back to Fukuoka.\" \"\n",
      "\n",
      "made 16 changes\n"
     ]
    }
   ],
   "source": [
    "text_edited = replace_strings_with_context(text, further_corrections[text_choice], window = 20, silent = False)"
   ]
  },
  {
   "cell_type": "code",
   "execution_count": 72,
   "id": "3220b573-2583-49d5-b64e-49c3a9769d10",
   "metadata": {},
   "outputs": [],
   "source": [
    "display_invalid_chars(text_edited)"
   ]
  },
  {
   "cell_type": "code",
   "execution_count": 97,
   "id": "78a008f3-3735-4287-8188-885739ef320d",
   "metadata": {},
   "outputs": [
    {
     "name": "stdout",
     "output_type": "stream",
     "text": [
      "\n",
      "\n",
      "\n",
      "\n",
      "\n",
      "The taxi driver seemed embarrassed to find there was no one - not even a clerk behind the reception desk\n",
      "- waiting to welcome me. He wandered across the deserted lobby, perhaps hoping to discover a staff\n",
      "member concealed behind one of the plants or armchairs. Eventually he put my suitcases down beside the\n",
      "elevator doors and, mumbling some excuse, took his leave of me.\n",
      "\n",
      " The lobby was reasonably spacious, allowing several coffee tables to be spread around it with no\n",
      "sense of crowding. But the ceiling was low and had a definite sag, creating a slightly claustrophobic\n",
      "mood, and despite the sunshine outside the light was gloomy. Only near the reception desk was there a\n",
      "bright streak of sun on the wall, illuminating an area of dark wood panelling and a rack of magazines in\n",
      "German, French and English. I could see also a small silver bell on the reception desk and was about to go\n",
      "over to shake it when a door opened somewhere behind me and a young man in uniform appeared.\n",
      "\n",
      " 'Good afternoon, sir,' he said tiredly and, going behind the reception desk, began the registration\n",
      "procedures. Although he did mumble an apology for his absence, his manner remained for a time\n",
      "distinctly off-hand. As soon as I mentioned my name, however, he gave a start and straightened himself.\n",
      " 'Mr Ryder, I'm so sorry I didn't recognise you. Mr Hoffman, the manager, he was very much\n",
      "wanting to welcome you personally. But just now, unfortunately, he's had to go to an important meeting.'\n",
      "\n",
      " 'That's perfectly all right. I'll look forward to meeting him later on.'\n",
      "\n",
      " The desk clerk hurried on through the registration forms, all the while muttering about how\n",
      "annoyed the manager would be to have missed my arrival. He twice mentioned how the preparations for\n",
      "'Thursday night' were putting the latter under unusual pressure, keeping him away from the hotel far more\n",
      "than was usual. I simply nodded, unable to summon the energy to enquire into the precise nature of\n",
      "\"Thursday night'.\n",
      "\n",
      " 'Oh, and Mr Brodsky's been doing splendidly today,' the desk clerk said, brightening. 'Really\n",
      "splendidly. This morning he rehearsed that orchestra for four hours non-stop. And listen to him now! Still\n",
      "hard at it, working things out by himself.'\n",
      "\n",
      " He indicated the rear of the lobby. Only then did I become aware that a piano was being played\n",
      "somewhere in the building, just audible above the muffled noise of the traffic outside. I raised my head\n",
      "and listened more closely. Someone was playing a single short phrase - it was from the second movement\n",
      "of Mullery's Verticality - over and over in a slow, preoccupied manner.\n",
      "\n",
      " 'Of course, if the manager were here,' the desk clerk was saying, 'he might well have brought Mr\n",
      "Brodsky out to meet you. But I'm not sure...' He gave a laugh. 'I'm not sure if I should disturb him. You\n",
      "see, if he's deep in concentration...'\n",
      "\n",
      " 'Of course, of course. Another time.'\n",
      "\n",
      " 'If the manager were here...' He trailed off and laughed again. Then leaning forward, he said in a\n",
      "low voice: 'Do you know, sir, some guests have had the nerve to complain? About our closing off the\n",
      "drawing room like this each time Mr Brodsky requires the piano? It's amazing how some people think!\n",
      "Two different guests actually complained to Mr Hoffman yesterday. You can be sure, they were very\n",
      "quickly put in their place.'\n",
      "\n",
      " 'I'm sure they were. Brodsky, you say.' I thought about the name, but it meant nothing to me.\n",
      "Then I caught the desk clerk watching me with a puzzled look and said quickly: 'Yes, yes. I'll look\n",
      "forward to meeting Mr Brodsky in good time.'\n",
      "\n",
      " 'If only the manager were here, sir.'\n",
      "\n",
      " 'Please don't worry. Now if that's all, I'd very much appreciate...'\n",
      "\n",
      " 'Of course, sir. You must be very tired after such a long journey. Here's your key. Gustav over\n",
      "there will show you to your room.'\n",
      "\n",
      " I looked behind me and saw that an elderly porter was waiting across the lobby. He was standing\n",
      "in front of the open elevator, staring into its interior with a preoccupied air. He gave a start as I came\n",
      "walking up to him. He then picked up my suitcases and hurried into the elevator after me.\n",
      " As we began our ascent, the elderly porter continued to hold on to both suitcases and I could see\n",
      "him growing red with the effort. The cases were both very heavy and a serious concern that he might pass\n",
      "out before me led me to say: 'You know, you really ought to put those down.'\n",
      "\n",
      " 'I'm glad you mention it, sir,' he said, and his voice betrayed surprisingly little of the physical\n",
      "effort he was expending. 'When I first started in this profession, very many years ago now, I used to place\n",
      "the bags on the floor. Pick them up only when I absolutely needed to. When in motion, so to speak. In\n",
      "fact, for the first fifteen years of working here, I have to say I used that method. It's one that many of the\n",
      "younger porters in this town still employ. But you won't find me doing anything of that sort now. Besides,\n",
      "sir, we're not going up far.'\n",
      "\n",
      " We continued our ascent in silence. Then I said: 'So you've worked in\n"
     ]
    }
   ],
   "source": [
    "print(text[:5000])"
   ]
  },
  {
   "cell_type": "code",
   "execution_count": 98,
   "id": "7021450f-9fff-481c-b8df-6503c3492105",
   "metadata": {},
   "outputs": [
    {
     "name": "stdout",
     "output_type": "stream",
     "text": [
      "about\n",
      "all your troubles. Or if you prefer, we can just forget about it all and talk about whatever you like,\n",
      "whatever's likely to cheer you up. Football, cinema. Anything you like. But the first thing to do is to get\n",
      "some breakfast. You look like you haven't eaten for some time.'\n",
      "\n",
      " 'You're quite right,' I said. 'Now I think of it, I haven't eaten for a very long time. But please tell\n",
      "me. Where is this tram going? I have to get to my hotel to pack my things. You see, I have a flight this\n",
      "morning to Helsinki. I have to get to my hotel pretty soon.'\n",
      "\n",
      " 'Oh, this tram will get you more or less anywhere you like in the city. This is what we call the\n",
      "morning circuit. Then there's the evening circuit. Twice a day a tram goes right the way round the entire\n",
      "circuit. Oh yes, you can go anywhere on this tram. It's the same again in the evening, but the atmosphere's\n",
      "quite different then. Oh yes, this is a marvellous tram.'\n",
      "\n",
      " 'How splendid. Well then, excuse me. I think I'll take up your suggestion and get some breakfast.\n",
      "In fact, you're quite right. Even the idea of it is making me feel better.'\n",
      "\n",
      " 'That's more the spirit,' the electrician said and raised his croissant in a salute.\n",
      "\n",
      " I got up and went to the back of the carriage. Various aromas came wafting towards me. A\n",
      "number of people were in the act of serving themselves, but peering over their shoulders I saw a large\n",
      "buffet presented in a semi-circular arrangement directly beneath the rear window of the tram. There was\n",
      "on offer virtually everything one could wish for: scrambled eggs, fried eggs, a choice of cold meats and\n",
      "sausages, sauteed potatoes, mushrooms, cooked tomatoes. There was a large platter with rolled herrings\n",
      "and other fish preparations, two huge baskets filled with croissants and different sorts of rolls, a glass\n",
      "bowl of fresh fruit, numerous jugs of coffee and juices. Everyone around the buffet seemed more than\n",
      "eager to get to the food, and yet the atmosphere was extremely cordial, with people passing things to one\n",
      "another and exchanging cheerful remarks.\n",
      "\n",
      " I took a plate, glancing up as I did so through the rear window with its receding view of the city\n",
      "streets, and could feel my spirits rising yet further. Things had not, after all, gone so badly. Whatever\n",
      "disappointments this city had brought, there was no doubting that my presence had been greatly\n",
      "appreciated - just as it had been everywhere else I had ever gone. And now here I was, my visit almost at\n",
      "its close, a thoroughly impressive buffet before me offering virtually everything I had ever wished to eat\n",
      "for breakfast. The croissants looked particularly promising. Indeed, from the manner in which passengers\n",
      "all around the carriage were devouring theirs, it was obvious they were extremely fresh and of the highest\n",
      "possible quality. Then again, nothing my gaze fell upon looked anything less than enticing.\n",
      "\n",
      " I started to serve myself a little of everything. As I did so, I began to picture myself, already back\n",
      "in my seat, exchanging pleasant talk with the electrician, glancing out between mouthfuls at the early-\n",
      "morning streets. The electrician was in many ways the ideal person for me to talk to at this moment. He\n",
      "was clearly kind-hearted, but at the same time careful not to be intrusive. I could see him now, still eating\n",
      "his croissant, obviously in no hurry to get off the tram. In fact, he looked set to go on sitting there for a\n",
      "long time to come. And with the tram running a continuous circuit, if the two of us were enjoying our\n",
      "conversation, he was just the sort to delay getting off until the next time his stop came around. The buffet\n",
      "too was clearly here to stay for some time yet, so that we would be able to break off from our\n",
      "conversation every now and then to replenish our plates. I could even see us repeatedly persuading each\n",
      "other to have more. 'Go on! Just one more sausage! Here, give me your plate, I'll get it for you.' We would\n",
      "go on sitting there together, eating, exchanging views on football and whatever else took our fancy, while\n",
      "outside the sun rose higher and higher in the sky, brightening the streets and our side of the carriage. And\n",
      "only when we were thoroughly done, when we had eaten and talked all we could possibly want, the\n",
      "electrician might glance at his watch, give a sigh and point out that the stop for my hotel was coming\n",
      "round again. I too would sigh, and with some reluctance rise to my feet, brushing the crumbs off my lap.\n",
      "We would shake hands, wish each other a good day - he too would be having to get off before long, he\n",
      "would tell me - and I would go off to join the crowd of cheerful passengers gathering around the exit.\n",
      "Then, as the tram came to a halt, I would perhaps give the electrician one last wave and disembark, secure\n",
      "in the knowledge that I could look forward to Helsinki with pride and confidence.\n",
      "\n",
      " I filled my coffee cup almost to the brim. Then, holding it carefully in one hand, my generously\n",
      "laden plate in the other, I began making my way back to my seat.\n",
      "\n",
      "\n",
      "\n",
      "\n",
      "\n",
      "\n"
     ]
    }
   ],
   "source": [
    "print(text[-5000:])"
   ]
  },
  {
   "cell_type": "code",
   "execution_count": 103,
   "id": "8191b839-ce82-48b9-946c-3cf299848099",
   "metadata": {},
   "outputs": [
    {
     "name": "stdout",
     "output_type": "stream",
     "text": [
      "191156 t least half an hour, and I saw with some relief it\n",
      "was to be the science fiction classic 2001: A Space Odyssey - a favourite of mine which I never tired of\n",
      "seeing.\n",
      "\n",
      " As soon as thos\n",
      "593812 led into a corridor, I\n",
      "stepped quickly through and gestured urgently to Sophie and Boris.\n",
      "20\n",
      "\n",
      "\n",
      "\n",
      "\n",
      "I closed the door behind them and we all three looked about us. With some triumph I s\n"
     ]
    }
   ],
   "source": [
    "display_text_in_context(text, \"20\", window = 90, repeat = True)"
   ]
  },
  {
   "cell_type": "code",
   "execution_count": 76,
   "id": "1bb75a5f-ee58-4cf3-b5a6-294189b51ee1",
   "metadata": {},
   "outputs": [
    {
     "name": "stdout",
     "output_type": "stream",
     "text": [
      "C:/Users/Roland/Documents/AI/stylometry/Kazuo Ishiguro - A Pale View of Hills-Knopf Doubleday Publishing Group (1990) edited_1.txt\n"
     ]
    }
   ],
   "source": [
    "print(file_path) "
   ]
  },
  {
   "cell_type": "code",
   "execution_count": 77,
   "id": "5b1bc9b1-817a-451d-bff3-95ac0d3c19c7",
   "metadata": {},
   "outputs": [],
   "source": [
    "with open(file_path, 'w', encoding='utf-8') as f:\n",
    "    f.write(text_edited)"
   ]
  },
  {
   "cell_type": "code",
   "execution_count": 109,
   "id": "4dcf43f0-3577-4559-b318-d852f3b1fbf9",
   "metadata": {},
   "outputs": [
    {
     "name": "stdout",
     "output_type": "stream",
     "text": [
      "10\n"
     ]
    }
   ],
   "source": [
    "print(ord(text[593814]))"
   ]
  },
  {
   "cell_type": "code",
   "execution_count": 189,
   "id": "0d310f82-e0cd-4c4e-add3-c0b864b3f93b",
   "metadata": {},
   "outputs": [
    {
     "name": "stdout",
     "output_type": "stream",
     "text": [
      "lk slowly away in the direction of the lobby.     I     11     I was woken by the ringing of the telephone o\n",
      "l on her in the morning at the first opportunity. II     21     I awoke to find bright sunlight pouring in th\n",
      "et the proprietor's wife had left out for me.     V     28     I awoke with the panicky sense that I had sle\n",
      "ly away in the direction of the lobby.     I     11     I was woken by the ringing of the telephone on\n",
      "t myself sliding into a deep and exhausted sleep. 2     When I was roused by the bedside telephone, I \n",
      "ow how I get on.'   'Thank you so much, sir.'     3     The route from the hotel to the Old Town - a w\n",
      "f the swing park into a deserted back street.     4 It was clear we had now left behind the Old Town. \n",
      "n began to make our way over to the bus stop.     5     We stood beneath the street lamp for several m\n",
      "man comes back, we'll tell him our new plan.'     6     Just at this point a movement caught my eye an\n",
      "Stephan before leading him towards the hotel.     7 The lights had been dimmed in the lobby and the ho\n",
      " the lobby and went out again into the night.     8     The street was deserted and silent. It took me\n",
      "h an ushering motion said: 'After you, Mr Ryder.' 9     I once more found myself pushing past people, \n",
      "top of it, sinking at once into a deep sleep.     10     I had not been asleep long when the telephone \n",
      "wly away in the direction of the lobby.     I     11     I was woken by the ringing of the telephone on\n",
      "e confection from out of the display cabinet.     12     When I came back out into the courtyard, I cou\n",
      "ueezed out and made my way down the carriage.     13     The tram rattled away leaving the three of us \n",
      "Ah, here we are,' and I opened my eyes again.     14     We had slowed right down and were approaching \n",
      "he way out of the building into the sunshine.     15     We boarded the bus just as the driver was star\n",
      " I straightened myself and smiled pleasantly.     16     The woman who had opened the door was around f\n",
      "ards the staircase in a more composed manner.     17     Going down the successive flights of stairs, I\n",
      "way out of the café without looking back at them. 18     By the time I brought the car down the steep w\n",
      "ax and be yourself. Everything will be fine.'     19     The door was opened by a stout housemaid. As w\n",
      "hrough and gestured urgently to Sophie and Boris. 20     I closed the door behind them and we all three\n",
      "r in the morning at the first opportunity. II     21     I awoke to find bright sunlight pouring in thr\n",
      "saying: 'I suppose I'd better see what he wants.' 22     I could hear Parkhurst opening the door and th\n",
      " pressing matter of my evening's performance.     23     When I came into the hotel I gained the impres\n",
      "s way, Mr Ryder, if you'd care to follow me.'     24     We walked a little way further along the corri\n",
      "he gesture. I thanked him and got out of the car. 25     I pulled open a barred gate and followed a foo\n",
      "sen, I'm grateful to you for your frankness.'     26     The steps descended steeply past tall hedges a\n",
      "erminedly across the remainder of the square.     27     Only when I entered the café and felt the warm\n",
      " proprietor's wife had left out for me.     V     28     I awoke with the panicky sense that I had slep\n",
      " I'm sure. It's been delightful to meet you.'     29 As Mrs Hoffman disappeared into the night, I turne\n",
      ". I won't be needing it again until morning.'     30     I brought Hoffman's large black car out of the\n",
      " set the car moving again through the forest.     31     The road continued through the forest for some\n",
      "lf, hurried off quietly in search of Hoffman.     32     I had gone a little way down the corridor when\n",
      "id quietly. 'She'll see. She'll see at last.'     33     The scene outside Gustav's dressing room had n\n",
      "ried away. 'I'll come back as soon as I can.'     34     I was still making my way rapidly along the co\n",
      " his grip, I hurried out through the curtain.     35     I was surprised to find the auditorium quite t\n",
      "an's hunched-over form, then opened the door.     36     The large modern office I found myself in was \n",
      " the breakfast trolley out into the corridor.     37     A pale morning light was now permeating the gl\n",
      "palling,' I said coldly, before hurrying off.     38     The path cut a completely straight line throug\n",
      "not found\n"
     ]
    }
   ],
   "source": [
    "display_text_in_context(text, \"I\\n\\n\\n\\n\\n11\")\n",
    "display_text_in_context(text, \"II\\n\\n\\n\\n\\n21\")\n",
    "display_text_in_context(text, \"V\\n\\n\\n\\n\\n28\")\n",
    "for i in range(1, 40):\n",
    "    display_text_in_context(text, str(i)+chr(10), repeat = False)\n",
    "\n",
    "\n"
   ]
  },
  {
   "cell_type": "code",
   "execution_count": 201,
   "id": "b3e4eb27-b5ae-46a0-9c2f-cf65058e8240",
   "metadata": {},
   "outputs": [],
   "source": [
    "further_corrections[text_choice] = dict()\n",
    "further_corrections[text_choice][\"I\\n\\n\\n\\n\\n11\"] = \"\"\n",
    "further_corrections[text_choice][\"II\\n\\n\\n\\n\\n21\"] = \"\"\n",
    "further_corrections[text_choice][\"V\\n\\n\\n\\n\\n28\"] = \"\"\n",
    "for i in range(10,39):\n",
    "    if i not in [11, 21, 28]:\n",
    "        further_corrections[text_choice][str(i)+\"\\n\"] = \"\"\n",
    "for i in range(10):\n",
    "    further_corrections[text_choice][str(i)+\"\\n\"] = \"\"\n"
   ]
  },
  {
   "cell_type": "code",
   "execution_count": 176,
   "id": "1a1def7d-739e-4c08-8541-fee4f3130161",
   "metadata": {},
   "outputs": [
    {
     "name": "stdout",
     "output_type": "stream",
     "text": [
      "320678 10 \n",
      "\n",
      "320679 73 I\n",
      "320680 10 \n",
      "\n",
      "320681 10 \n",
      "\n",
      "320682 10 \n",
      "\n",
      "320683 10 \n",
      "\n",
      "320684 10 \n",
      "\n",
      "320685 49 1\n",
      "320686 49 1\n",
      "320687 10 \n",
      "\n",
      "320688 10 \n",
      "\n",
      "320689 10 \n",
      "\n",
      "320690 10 \n",
      "\n",
      "320691 10 \n",
      "\n",
      "320692 73 I\n",
      "320693 32  \n"
     ]
    }
   ],
   "source": [
    "for i in range(16):\n",
    "    print (320678+i, ord(text[320678+i]), text[320678+i])"
   ]
  },
  {
   "cell_type": "code",
   "execution_count": 202,
   "id": "867ec1c1-06f2-4866-867f-c49df8973772",
   "metadata": {},
   "outputs": [
    {
     "name": "stdout",
     "output_type": "stream",
     "text": [
      "Before: n of the lobby.     [I\n",
      "\n",
      "\n",
      "\n",
      "\n",
      "11]     I was woken by \n",
      "After:  n of the lobby.     []     I was woken by \n",
      "\n",
      "Before:  first opportunity. [II\n",
      "\n",
      "\n",
      "\n",
      "\n",
      "21]     I awoke to find\n",
      "After:   first opportunity. []     I awoke to find\n",
      "\n",
      "Before: eft out for me.     [V\n",
      "\n",
      "\n",
      "\n",
      "\n",
      "28]     I awoke with th\n",
      "After:  eft out for me.     []     I awoke with th\n",
      "\n",
      "Before: o a deep sleep.     [10\n",
      "]    I had not been a\n",
      "After:  o a deep sleep.     []    I had not been a\n",
      "\n",
      "Before: isplay cabinet.     [12\n",
      "]    When I came back\n",
      "After:  isplay cabinet.     []    When I came back\n",
      "\n",
      "Before: n the carriage.     [13\n",
      "]    The tram rattled\n",
      "After:  n the carriage.     []    The tram rattled\n",
      "\n",
      "Before:  my eyes again.     [14\n",
      "]    We had slowed ri\n",
      "After:   my eyes again.     []    We had slowed ri\n",
      "\n",
      "Before: o the sunshine.     [15\n",
      "]    We boarded the b\n",
      "After:  o the sunshine.     []    We boarded the b\n",
      "\n",
      "Before: led pleasantly.     [16\n",
      "]    The woman who ha\n",
      "After:  led pleasantly.     []    The woman who ha\n",
      "\n",
      "Before: omposed manner.     [17\n",
      "]    Going down the s\n",
      "After:  omposed manner.     []    Going down the s\n",
      "\n",
      "Before: oking back at them. [18\n",
      "]    By the time I br\n",
      "After:  oking back at them. []    By the time I br\n",
      "\n",
      "Before:  will be fine.'     [19\n",
      "]    The door was ope\n",
      "After:   will be fine.'     []    The door was ope\n",
      "\n",
      "Before: o Sophie and Boris. [20\n",
      "]    I closed the doo\n",
      "After:  o Sophie and Boris. []    I closed the doo\n",
      "\n",
      "Before: see what he wants.' [22\n",
      "]    I could hear Par\n",
      "After:  see what he wants.' []    I could hear Par\n",
      "\n",
      "Before: 's performance.     [23\n",
      "]    When I came into\n",
      "After:  's performance.     []    When I came into\n",
      "\n",
      "Before:  to follow me.'     [24\n",
      "]    We walked a litt\n",
      "After:   to follow me.'     []    We walked a litt\n",
      "\n",
      "Before: got out of the car. [25\n",
      "]    I pulled open a \n",
      "After:  got out of the car. []    I pulled open a \n",
      "\n",
      "Before: our frankness.'     [26\n",
      "]    The steps descen\n",
      "After:  our frankness.'     []    The steps descen\n",
      "\n",
      "Before:  of the square.     [27\n",
      "]    Only when I ente\n",
      "After:   of the square.     []    Only when I ente\n",
      "\n",
      "Before: l to meet you.'     [29\n",
      "]As Mrs Hoffman disap\n",
      "After:  l to meet you.'     []As Mrs Hoffman disap\n",
      "\n",
      "Before: until morning.'     [30\n",
      "]    I brought Hoffma\n",
      "After:  until morning.'     []    I brought Hoffma\n",
      "\n",
      "Before: ugh the forest.     [31\n",
      "]    The road continu\n",
      "After:  ugh the forest.     []    The road continu\n",
      "\n",
      "Before: rch of Hoffman.     [32\n",
      "]    I had gone a lit\n",
      "After:  rch of Hoffman.     []    I had gone a lit\n",
      "\n",
      "Before: l see at last.'     [33\n",
      "]    The scene outsid\n",
      "After:  l see at last.'     []    The scene outsid\n",
      "\n",
      "Before: soon as I can.'     [34\n",
      "]    I was still maki\n",
      "After:  soon as I can.'     []    I was still maki\n",
      "\n",
      "Before: gh the curtain.     [35\n",
      "]    I was surprised \n",
      "After:  gh the curtain.     []    I was surprised \n",
      "\n",
      "Before: pened the door.     [36\n",
      "]    The large modern\n",
      "After:  pened the door.     []    The large modern\n",
      "\n",
      "Before: o the corridor.     [37\n",
      "]    A pale morning l\n",
      "After:  o the corridor.     []    A pale morning l\n",
      "\n",
      "Before: e hurrying off.     [38\n",
      "]    The path cut a c\n",
      "After:  e hurrying off.     []    The path cut a c\n",
      "\n",
      "Before: nd exhausted sleep. [2\n",
      "]    When I was rouse\n",
      "After:  nd exhausted sleep. []    When I was rouse\n",
      "\n",
      "Before:  so much, sir.'     [3\n",
      "]    The route from t\n",
      "After:   so much, sir.'     []    The route from t\n",
      "\n",
      "Before: ed back street.     [4\n",
      "]It was clear we had \n",
      "After:  ed back street.     []It was clear we had \n",
      "\n",
      "Before: o the bus stop.     [5\n",
      "]    We stood beneath\n",
      "After:  o the bus stop.     []    We stood beneath\n",
      "\n",
      "Before:  our new plan.'     [6\n",
      "]    Just at this poi\n",
      "After:   our new plan.'     []    Just at this poi\n",
      "\n",
      "Before: ards the hotel.     [7\n",
      "]The lights had been \n",
      "After:  ards the hotel.     []The lights had been \n",
      "\n",
      "Before: into the night.     [8\n",
      "]    The street was d\n",
      "After:  into the night.     []    The street was d\n",
      "\n",
      "Before: ter you, Mr Ryder.' [9\n",
      "]    I once more foun\n",
      "After:  ter you, Mr Ryder.' []    I once more foun\n",
      "\n",
      "made 37 changes\n"
     ]
    }
   ],
   "source": [
    "text_edited = replace_strings_with_context(text, further_corrections[text_choice], window = 20, silent = False)"
   ]
  },
  {
   "cell_type": "code",
   "execution_count": 203,
   "id": "750e9190-86e4-4c8d-ba3a-96669d8b3fdb",
   "metadata": {},
   "outputs": [
    {
     "name": "stdout",
     "output_type": "stream",
     "text": [
      "1134964\n",
      "1135083\n"
     ]
    }
   ],
   "source": [
    "print(len(text_edited))\n",
    "print(len(text))"
   ]
  },
  {
   "cell_type": "code",
   "execution_count": 204,
   "id": "2ef6a19e-e43b-40d3-935c-225b98a045f9",
   "metadata": {},
   "outputs": [
    {
     "name": "stdout",
     "output_type": "stream",
     "text": [
      "C:/Users/Roland/Documents/AI/stylometry/Kazuo Ishiguro - The Unconsoled-Vintage (1996) edited_2.txt\n"
     ]
    }
   ],
   "source": [
    "print(file_path)"
   ]
  },
  {
   "cell_type": "code",
   "execution_count": 205,
   "id": "db41d679-1adf-450a-9a65-66fdb80b512b",
   "metadata": {},
   "outputs": [],
   "source": [
    "with open(file_path, 'w', encoding='utf-8') as f:\n",
    "    f.write(text_edited)"
   ]
  },
  {
   "cell_type": "code",
   "execution_count": null,
   "id": "cb070aa3-166b-4bc7-a758-05058b02b7ad",
   "metadata": {},
   "outputs": [],
   "source": []
  },
  {
   "cell_type": "code",
   "execution_count": null,
   "id": "f1737421-86d1-4809-9a2e-2bde500aa99d",
   "metadata": {},
   "outputs": [],
   "source": []
  },
  {
   "cell_type": "code",
   "execution_count": 162,
   "id": "996cc53e-dca6-4255-aca9-4cf8d84ef6ed",
   "metadata": {},
   "outputs": [
    {
     "data": {
      "text/plain": [
       "45"
      ]
     },
     "execution_count": 162,
     "metadata": {},
     "output_type": "execute_result"
    }
   ],
   "source": [
    "len(\"110110100100000001010010010101110010101111001\")"
   ]
  },
  {
   "cell_type": "code",
   "execution_count": 4,
   "id": "80bdd75b-df2f-41dd-bbf9-0cbd168b11a0",
   "metadata": {},
   "outputs": [
    {
     "name": "stdout",
     "output_type": "stream",
     "text": [
      "C:/Users/Roland/Documents/AI/stylometry/Kazuo Ishiguro - The Unconsoled-Vintage (1996).txt\n",
      "C:/Users/Roland/Documents/AI/stylometry/Kazuo Ishiguro - The Unconsoled-Vintage (1996) edited.txt\n",
      "C:/Users/Roland/Documents/AI/stylometry/Kazuo Ishiguro - The Unconsoled-Vintage (1996) edited_1.txt\n",
      "C:/Users/Roland/Documents/AI/stylometry/Kazuo Ishiguro - The Unconsoled-Vintage (1996) edited_2.txt\n"
     ]
    }
   ],
   "source": [
    "file_path = directory_path+source_texts[text_choice]+\".txt\"\n",
    "file_path_edited = file_path[:-4]+\" edited.txt\"\n",
    "file_path_edited_1 = file_path[:-4]+\" edited_1.txt\"\n",
    "file_path_edited_2 = file_path[:-4]+\" edited_2.txt\"\n",
    "print (file_path)\n",
    "print(file_path_edited)\n",
    "print(file_path_edited_1)\n",
    "print(file_path_edited_2)"
   ]
  },
  {
   "cell_type": "markdown",
   "id": "eb3a424d-a71e-4aec-9c1a-9270c93a1e6a",
   "metadata": {},
   "source": [
    "Try reading the file with different encodings:"
   ]
  },
  {
   "cell_type": "code",
   "execution_count": 6,
   "id": "7517aed2-9b4b-4ab5-831a-a04363879770",
   "metadata": {},
   "outputs": [
    {
     "name": "stdout",
     "output_type": "stream",
     "text": [
      "Successfully read the file with encoding: utf-8 (encoding index 0).  This gives the beginning as:\n",
      "    PART I      The taxi driver seemed embarrassed to find there was no one - not even a clerk behind the reception desk  - waiting to welcome me. He wandered across the deserted lobby, perhaps hoping to di\n",
      "\n",
      "Failed to read with encoding: ascii\n",
      "Successfully read the file with encoding: latin-1 (encoding index 2).  This gives the beginning as:\n",
      "    PART I      The taxi driver seemed embarrassed to find there was no one - not even a clerk behind the reception desk  - waiting to welcome me. He wandered across the deserted lobby, perhaps hoping to di\n",
      "\n",
      "Successfully read the file with encoding: windows-1252 (encoding index 3).  This gives the beginning as:\n",
      "    PART I      The taxi driver seemed embarrassed to find there was no one - not even a clerk behind the reception desk  - waiting to welcome me. He wandered across the deserted lobby, perhaps hoping to di\n",
      "\n",
      "Successfully read the file with encoding: iso-8859-1 (encoding index 4).  This gives the beginning as:\n",
      "    PART I      The taxi driver seemed embarrassed to find there was no one - not even a clerk behind the reception desk  - waiting to welcome me. He wandered across the deserted lobby, perhaps hoping to di\n",
      "\n",
      "Successfully read the file with encoding: iso-8859-15 (encoding index 5).  This gives the beginning as:\n",
      "    PART I      The taxi driver seemed embarrassed to find there was no one - not even a clerk behind the reception desk  - waiting to welcome me. He wandered across the deserted lobby, perhaps hoping to di\n",
      "\n",
      "valid encodings:  [0, 2, 3, 4, 5]\n"
     ]
    }
   ],
   "source": [
    "encodings = ['utf-8', 'ascii', 'latin-1','windows-1252', 'iso-8859-1', 'iso-8859-15']\n",
    "texts = []\n",
    "valid_encodings = list()\n",
    "for i, encoding in enumerate(encodings):\n",
    "    try:\n",
    "        with open(file_path, 'r', encoding=encoding) as file:\n",
    "            test_text = file.read()\n",
    "        print(\"\"\"Successfully read the file with encoding: {encoding} (encoding index {ind}).  This gives the beginning as:\\n{content}\\n\"\"\".format(encoding=encoding, ind=i, content=test_text[0:200].replace(\"\\n\", \"  \")))\n",
    "        texts.append(test_text)\n",
    "        valid_encodings.append(i)\n",
    "    except UnicodeDecodeError:\n",
    "        print(f\"Failed to read with encoding: {encoding}\")\n",
    "print(\"valid encodings: \",valid_encodings)"
   ]
  },
  {
   "cell_type": "markdown",
   "id": "2821bf5c-eb4a-46cb-abd1-709aef0328e2",
   "metadata": {},
   "source": [
    "Are they the same?"
   ]
  },
  {
   "cell_type": "code",
   "execution_count": 7,
   "id": "8ee204e1-a1a0-45f5-9382-d0878e4852bf",
   "metadata": {},
   "outputs": [
    {
     "name": "stdout",
     "output_type": "stream",
     "text": [
      "text 0 length 1159560:-\n",
      "0 True\n",
      "1 False\n",
      "2 False\n",
      "3 False\n",
      "4 False\n",
      "text 1 length 1159650:-\n",
      "0 False\n",
      "1 True\n",
      "2 False\n",
      "3 True\n",
      "4 False\n",
      "text 2 length 1159650:-\n",
      "0 False\n",
      "1 False\n",
      "2 True\n",
      "3 False\n",
      "4 False\n",
      "text 3 length 1159650:-\n",
      "0 False\n",
      "1 True\n",
      "2 False\n",
      "3 True\n",
      "4 False\n",
      "text 4 length 1159650:-\n",
      "0 False\n",
      "1 False\n",
      "2 False\n",
      "3 False\n",
      "4 True\n"
     ]
    }
   ],
   "source": [
    "for i in range(len(texts)):\n",
    "    print (f\"text {i} length {len(texts[i])}:-\")\n",
    "    for j, t in enumerate(texts):\n",
    "        print (j, t == texts[i])"
   ]
  },
  {
   "cell_type": "markdown",
   "id": "de2a5180-2d17-4288-ae27-43098e4f44d3",
   "metadata": {},
   "source": [
    "Now load text file with selected encoding"
   ]
  },
  {
   "cell_type": "code",
   "execution_count": 9,
   "id": "8836a2e6-ce1c-45fe-8351-fcbdcacafdcc",
   "metadata": {},
   "outputs": [],
   "source": [
    "def check_for_file(file_path):\n",
    "    if os.path.isfile(file_path):\n",
    "        print(\"The file exists.\")\n",
    "    else:\n",
    "        print(\"The file does not exist.\")\n",
    "    \n"
   ]
  },
  {
   "cell_type": "code",
   "execution_count": 10,
   "id": "08dcaae1-ed52-4b44-985e-ebd88433088c",
   "metadata": {},
   "outputs": [
    {
     "name": "stdout",
     "output_type": "stream",
     "text": [
      "The file does not exist.\n"
     ]
    }
   ],
   "source": [
    "check_for_file(file_path_edited)"
   ]
  },
  {
   "cell_type": "code",
   "execution_count": 11,
   "id": "882d4aa6-951a-4b76-891f-280108318805",
   "metadata": {},
   "outputs": [
    {
     "name": "stdout",
     "output_type": "stream",
     "text": [
      "True\n",
      "True\n",
      "True\n",
      "True\n",
      "True\n"
     ]
    }
   ],
   "source": [
    "for t in texts:\n",
    "    with open(file_path_edited, 'w', encoding='utf-8') as file:\n",
    "        file.write(t)\n",
    "    with open(file_path_edited, 'r', encoding='utf-8') as file:\n",
    "        text_read = file.read()\n",
    "    print(text_read == t)"
   ]
  },
  {
   "cell_type": "markdown",
   "id": "71addd6f-5e77-4bfa-8de9-518b2f90df1b",
   "metadata": {},
   "source": [
    "Watch out for this character as it is very awkward;"
   ]
  },
  {
   "cell_type": "code",
   "execution_count": null,
   "id": "eeb4237a-9736-4971-b225-3194ecda16de",
   "metadata": {},
   "outputs": [],
   "source": [
    "print(\"first print\")\n",
    "print(ord(\"\\x8e\"))\n",
    "print(\"second print\")\n",
    "print(chr(142))"
   ]
  },
  {
   "cell_type": "markdown",
   "id": "ec9500b2-bd02-4989-91c2-4aa893f1e842",
   "metadata": {},
   "source": [
    "Identify invalid characters using string:  Don't use this one as the later one is better."
   ]
  },
  {
   "cell_type": "code",
   "execution_count": null,
   "id": "bfecc5b2-de8c-412d-acd2-7de0a4756e1c",
   "metadata": {},
   "outputs": [],
   "source": [
    "\n",
    "# Define a string containing only valid characters (alphanumeric + punctuation)\n",
    "valid_chars = string.ascii_letters + string.digits + string.punctuation + \" \" = \"\\n\"\n",
    "\n",
    "# Example text with some invalid characters\n",
    "#test_text = \"This is an example text with invalid characters like Ò, ë, etc.\"\n",
    "test_text = text\n",
    "# Step 1: Identify invalid characters\n",
    "invalid_chars = set([char for char in test_text if char not in valid_chars])\n",
    "\n",
    "# Display the invalid characters found\n",
    "print(f\"Invalid characters found: {invalid_chars}\")\n",
    "\n",
    "# Step 2: Create a dictionary or list of tuples for replacement\n",
    "# For simplicity, let's replace invalid characters with '?'\n",
    "replacement_dict = {char: '?' for char in invalid_chars}\n",
    "\n",
    "# If you want to create a list of tuples instead:\n",
    "replacement_list = [(char, '?') for char in invalid_chars]\n",
    "\n",
    "# Step 3: Replace invalid characters in the text\n",
    "corrected_text = test_text\n",
    "for char, replacement in replacement_dict.items():\n",
    "    corrected_text = corrected_text.replace(char, replacement)\n",
    "\n",
    "# Display the corrected text\n",
    "#print(f\"Corrected text: {corrected_text}\")\n",
    "\n",
    "# Output\n",
    "print(\"Replacement dictionary:\", replacement_dict)\n",
    "print(\"Replacement list of tuples:\", replacement_list)\n"
   ]
  },
  {
   "cell_type": "markdown",
   "id": "418a6b60-87b3-4e53-9ccc-447208da3b3b",
   "metadata": {},
   "source": [
    "Identify invalid characters using regular expressions (re):\n"
   ]
  },
  {
   "cell_type": "code",
   "execution_count": 12,
   "id": "a3c17693-9ca8-4c51-b277-8690bc9422e8",
   "metadata": {},
   "outputs": [
    {
     "name": "stdout",
     "output_type": "stream",
     "text": [
      "invalid characters using re for utf-8: {'é', 'Ã', '§', '¨', '¼', '¢'}\n",
      "invalid characters using re for latin-1: {'Â', '©', 'Ã', '§', '¨', '\\x83', '¼', '¢'}\n",
      "invalid characters using re for windows-1252: {'Â', '©', 'ƒ', 'Ã', '§', '¨', '¼', '¢'}\n",
      "invalid characters using re for iso-8859-1: {'Â', '©', 'Ã', '§', '¨', '\\x83', '¼', '¢'}\n",
      "invalid characters using re for iso-8859-15: {'Â', '©', 'Ã', '§', 'š', '\\x83', 'Œ', '¢'}\n"
     ]
    }
   ],
   "source": [
    "# Define the pattern for valid characters (alphanumeric, spaces, and basic punctuation)\n",
    "valid_char_pattern = re.compile(r'[a-zA-Z0-9\\s.:;,?!\\'\"()£\\-—…&]')\n",
    "\n",
    "re_chars = len(valid_encodings) * [0]\n",
    "\n",
    "for enc, encoding_index in enumerate(valid_encodings):\n",
    "    test_text = texts[enc]\n",
    "\n",
    "# Find invalid characters\n",
    "    invalid_chars = set()\n",
    "    for i, char in enumerate(test_text):\n",
    "        if not valid_char_pattern.match(char):\n",
    "            invalid_chars.add(char)\n",
    "\n",
    "# Output the list of invalid characters and their positions\n",
    "    invalid_char_positions = [(char, [i for i, c in enumerate(test_text) if c == char]) for char in invalid_chars]\n",
    "    print(f\"invalid characters using re for {encodings[encoding_index]}: {invalid_chars}\")\n",
    "#print(invalid_char_positions)\n",
    "    re_chars[enc] = invalid_chars"
   ]
  },
  {
   "cell_type": "code",
   "execution_count": 13,
   "id": "14d38d60-8c60-40c5-b077-39f79fbd4964",
   "metadata": {},
   "outputs": [
    {
     "name": "stdout",
     "output_type": "stream",
     "text": [
      "valid characters used by string: abcdefghijklmnopqrstuvwxyzABCDEFGHIJKLMNOPQRSTUVWXYZ0123456789 !\"#$%&'()*+,-./:;<=>?@[\\]^_`{|}~\n",
      "invalid characters found using string for utf-8: {'Ã', '§', '¨', '\\x0c', '¼', '¢'}\n",
      "invalid characters found using string for latin-1: {'Â', '©', 'Ã', '§', '¨', '\\x0c', '\\x83', '¼', '¢'}\n",
      "invalid characters found using string for windows-1252: {'Â', '©', 'ƒ', 'Ã', '§', '¨', '\\x0c', '¼', '¢'}\n",
      "invalid characters found using string for iso-8859-1: {'Â', '©', 'Ã', '§', '¨', '\\x0c', '\\x83', '¼', '¢'}\n",
      "invalid characters found using string for iso-8859-15: {'Â', '©', 'Ã', '§', 'š', '\\x0c', '\\x83', 'Œ', '¢'}\n"
     ]
    }
   ],
   "source": [
    "# Define valid characters using the string module\n",
    "valid_chars = string.ascii_letters + string.digits + string.punctuation + \"…—àêé \\n\\t\"\n",
    "valid_chars = ''.join([char for char in valid_chars if char not in \"{}~$%\"])\n",
    "print (f\"valid characters used by string: {string.ascii_letters + string.digits + ' ' + string.punctuation}\")\n",
    "\n",
    "string_chars = len(valid_encodings) * [0]\n",
    "\n",
    "for enc, encoding_index in enumerate(valid_encodings):\n",
    "    test_text = texts[enc]\n",
    "\n",
    "    invalid_chars = set()\n",
    "    for i, char in enumerate(test_text):\n",
    "        if char not in valid_chars:\n",
    "            invalid_chars.add(char)\n",
    "    #invalid_chars.difference_update({\"\\n\",\"\\t\"})\n",
    "\n",
    "    invalid_char_positions = [(char, [i for i, c in enumerate(test_text) if c == char]) for char in invalid_chars]\n",
    "    print(f\"invalid characters found using string for {encodings[encoding_index]}: {invalid_chars}\")\n",
    "#print(invalid_char_positions)\n",
    "    string_chars[enc] = invalid_chars\n",
    "\n"
   ]
  },
  {
   "cell_type": "code",
   "execution_count": 28,
   "id": "1f696189-228c-4c5e-b5c1-0cad2546b4fa",
   "metadata": {},
   "outputs": [],
   "source": [
    "for char in invalid_chars:\n",
    "    print(ord(char),\" \", char)\n"
   ]
  },
  {
   "cell_type": "code",
   "execution_count": 29,
   "id": "bc1cace0-4b47-43a2-a29a-2932f0d1362e",
   "metadata": {},
   "outputs": [
    {
     "name": "stdout",
     "output_type": "stream",
     "text": [
      "224   à\n",
      "234   ê\n",
      "233   é\n"
     ]
    }
   ],
   "source": [
    "for char in re_chars:\n",
    "    print(ord(char),\" \", char)"
   ]
  },
  {
   "cell_type": "code",
   "execution_count": null,
   "id": "1c9aac02-26b0-4ef7-9ea5-7f8a40cd716f",
   "metadata": {},
   "outputs": [],
   "source": [
    "#just a little test:\n",
    "''.join([char for char in \"abcdefgh\" if char not in \"cd\"])"
   ]
  },
  {
   "cell_type": "code",
   "execution_count": null,
   "id": "7ce3f444-d4ac-494d-af07-ed92a5f37028",
   "metadata": {},
   "outputs": [],
   "source": [
    "print(valid_chars)\n",
    "print(ord(valid_chars[68]))  #this is the ' after the & in the list\n",
    "print(ord(valid_chars[-13])) #this is the ` before the { in the list\n",
    "print(ord(\"'\"))\n",
    "print(ord('\"'))\n",
    "print(ord(\"`\"))"
   ]
  },
  {
   "cell_type": "code",
   "execution_count": 15,
   "id": "0a5c39a5-996b-46dd-9240-c473c522bf85",
   "metadata": {},
   "outputs": [],
   "source": [
    "def display_chars(chars, method, unprintable = 142):\n",
    "    number = len(chars)\n",
    "    invalid_chars = '  '.join(char for char in chars)\n",
    "    unprintable_message = \" + unprintable character\" if chr(unprintable) in invalid_chars else \"\"\n",
    "    print(f\"{number} invalid chars found using {method}:  {invalid_chars}{unprintable_message}\")"
   ]
  },
  {
   "cell_type": "code",
   "execution_count": 16,
   "id": "7dd75512-5dd2-4840-8b6b-99f633a983d9",
   "metadata": {},
   "outputs": [
    {
     "name": "stdout",
     "output_type": "stream",
     "text": [
      "with encoding utf-8\n",
      "6 invalid chars found using re   :  é  Ã  §  ¨  ¼  ¢\n",
      "6 invalid chars found using string:  Ã  §  ¨  \f",
      "  ¼  ¢\n",
      "\n",
      "1 chars in re but not in string:    é\n",
      "1 chars in string but not in re:    \f",
      "\n",
      "\n",
      "with encoding latin-1\n",
      "8 invalid chars found using re   :  Â  ©  Ã  §  ¨    ¼  ¢\n",
      "9 invalid chars found using string:  Â  ©  Ã  §  ¨  \f",
      "    ¼  ¢\n",
      "\n",
      "0 chars in re but not in string:    \n",
      "1 chars in string but not in re:    \f",
      "\n",
      "\n",
      "with encoding windows-1252\n",
      "8 invalid chars found using re   :  Â  ©  ƒ  Ã  §  ¨  ¼  ¢\n",
      "9 invalid chars found using string:  Â  ©  ƒ  Ã  §  ¨  \f",
      "  ¼  ¢\n",
      "\n",
      "0 chars in re but not in string:    \n",
      "1 chars in string but not in re:    \f",
      "\n",
      "\n",
      "with encoding iso-8859-1\n",
      "8 invalid chars found using re   :  Â  ©  Ã  §  ¨    ¼  ¢\n",
      "9 invalid chars found using string:  Â  ©  Ã  §  ¨  \f",
      "    ¼  ¢\n",
      "\n",
      "0 chars in re but not in string:    \n",
      "1 chars in string but not in re:    \f",
      "\n",
      "\n",
      "with encoding iso-8859-15\n",
      "8 invalid chars found using re   :  Â  ©  Ã  §  š    Œ  ¢\n",
      "9 invalid chars found using string:  Â  ©  Ã  §  š  \f",
      "    Œ  ¢\n",
      "\n",
      "0 chars in re but not in string:    \n",
      "1 chars in string but not in re:    \f",
      "\n",
      "\n"
     ]
    }
   ],
   "source": [
    "for enc, encoding_index in enumerate(valid_encodings):\n",
    "    print(f\"with encoding {encodings[encoding_index]}\")\n",
    "    \n",
    "    display_chars(re_chars[enc], \"re   \")\n",
    "    display_chars(string_chars[enc], \"string\")\n",
    "        \n",
    "    re_only = re_chars[enc] - string_chars[enc]\n",
    "    string_only = string_chars[enc] - re_chars[enc]\n",
    "    \n",
    "    print(f\"\\n{len(re_only)} chars in re but not in string:    {'  '.join(char for char in re_only)}\")\n",
    "    print(f\"{len(string_only)} chars in string but not in re:    {'  '.join(char for char in string_only)}\\n\")"
   ]
  },
  {
   "cell_type": "code",
   "execution_count": null,
   "id": "a4943f78-e923-466c-bfe4-aced2b8bf091",
   "metadata": {},
   "outputs": [],
   "source": [
    "print(ord(\"é\"))\n",
    "a = \"eé\".encode('utf-8')\n",
    "print(len(a))"
   ]
  },
  {
   "cell_type": "code",
   "execution_count": 23,
   "id": "9f4a4467-62ed-4c1e-99c7-aea755cc5815",
   "metadata": {},
   "outputs": [],
   "source": [
    "def compare_texts(text1, text2):\n",
    "    if len(text1) != len(text2):\n",
    "        #raise ValueError(\"Strings must be of the same length!\")\n",
    "        \n",
    "# Create a list of tuples with differing characters\n",
    "        differences = [(char1, char2) for char1, char2 in zip(text1, text2) if char1 != char2]\n",
    "\n",
    "# Print the list of tuples\n",
    "        print(differences[:100])\n",
    "\n"
   ]
  },
  {
   "cell_type": "code",
   "execution_count": 24,
   "id": "b101aa2e-2dcc-4c47-a0ef-cc19e12be77f",
   "metadata": {},
   "outputs": [],
   "source": [
    "def find_first_difference(text_1, text_2):\n",
    "    i = 0\n",
    "    max_length = min(len(text_1),len(text_2))\n",
    "    while ((text_1[:i] == text_2[:i]) and (i < max_length)):\n",
    "        i = i + 1\n",
    "    if i < max_length:\n",
    "        print (f\"first text, position {i} is {text_1[i]}\")\n",
    "        print(text_1[i:i+20])\n",
    "        print (f\"second text, position {i} is {text_2[i]}\")\n",
    "        print(text_2[i:i+20])\n",
    "    else:\n",
    "        print(\"no differences up to end of the smaller text\")"
   ]
  },
  {
   "cell_type": "code",
   "execution_count": 18,
   "id": "d9f8360c-aa8e-4c31-84ac-bdace25877ff",
   "metadata": {},
   "outputs": [],
   "source": [
    "# compare_texts(texts[0], texts[1])\n",
    "# find_first_difference(texts[0],texts[1])"
   ]
  },
  {
   "cell_type": "markdown",
   "id": "68157072-9acd-40f5-9ced-eadab9abb96a",
   "metadata": {},
   "source": [
    "Now we are going to display all the invalid characters in their context to decide what to do about them. We will just do it for one of the versions as they are all the same."
   ]
  },
  {
   "cell_type": "code",
   "execution_count": 32,
   "id": "8131f8a1-ad41-446a-9f61-c4671c500518",
   "metadata": {},
   "outputs": [],
   "source": [
    "#  This is an updated version that checks against re AND string characters\n",
    "\n",
    "def display_invalid_chars(test_text, window_size = 200, max_to_display = 8):\n",
    "# Find all invalid characters and their positions\n",
    "    #valid_chars = string.ascii_letters + string.digits + string.punctuation + \" —…()£-&\\n\\t\"\n",
    "    #print(valid_chars)\n",
    "    invalid_char_positions = [(i, char) for i, char in enumerate(test_text) if char not in valid_chars or char in re_chars]\n",
    "                          \n",
    "    icp_list_sorted = sorted(invalid_char_positions,key=lambda x: x[1])\n",
    "    \n",
    "    for pos, char in icp_list_sorted:\n",
    "        start = max(pos - window_size // 2, 0)\n",
    "        end = min(pos + window_size // 2, len(test_text))\n",
    "        window = test_text[start:end]\n",
    "    \n",
    "    # Highlight the invalid character in the window\n",
    "        highlighted_window = window[:pos-start] + f\"[{char}]\" + window[pos-start+1:]\n",
    "        highlighted_window = highlighted_window.replace(\"\\n\", \" \")\n",
    "        highlighted_window = highlighted_window.replace(\"\\t\", \" \")\n",
    "        print(f\"Invalid character '{char}' ({ord(char)}) at position {pos}:\\n{highlighted_window}\\n\")\n",
    "\n",
    "\n"
   ]
  },
  {
   "cell_type": "code",
   "execution_count": 123,
   "id": "a3911099-b442-4a9d-8c95-23b6bd665470",
   "metadata": {},
   "outputs": [],
   "source": [
    "def display_text_in_context(source_text,target_text,window = 50, repeat = False):\n",
    "    ind = source_text.find(target_text)\n",
    "    if not repeat:\n",
    "        if ind != -1:\n",
    "            window = source_text[max(0, ind - window): ind + window + len(target_text)]\n",
    "            window = window.replace(\"\\n\", \" \")\n",
    "            window = window.replace(\"\\t\", \" \")\n",
    "            print(window)\n",
    "        else:\n",
    "            print(\"not found\")\n",
    "    else:\n",
    "        if ind == -1:\n",
    "            print(\"not found\")\n",
    "        while True:\n",
    "            ind = source_text.find(target_text, ind)\n",
    "            if ind == -1:\n",
    "                break\n",
    "            start_window = max(0, ind - window)\n",
    "            end_window = min(len(source_text), ind + len(target_text) + window)\n",
    "            window_text = source_text[start_window:end_window]\n",
    "            print(ind, window_text)\n",
    "            ind += 1  # Move to the next position\n",
    "        \n",
    "        \n",
    "        \n",
    "        \n",
    "#        while ind != -1:\n",
    "#            display_window = source_text[max(0, ind - window): ind + window + len(target_text)]\n",
    "#            display_window = display_window.replace(\"\\n\", \" \")\n",
    "#            display_window = display_window.replace(\"\\t\", \" \")\n",
    "#            print(display_window)\n",
    "#            source_text = source_text[ind:]\n"
   ]
  },
  {
   "cell_type": "code",
   "execution_count": 24,
   "id": "46de9dac-7420-405f-bffa-85235686a163",
   "metadata": {},
   "outputs": [],
   "source": [
    "# display_invalid_chars(texts[1][0:5000])"
   ]
  },
  {
   "cell_type": "code",
   "execution_count": 32,
   "id": "d3372624-e4bc-445a-a1e0-9203614d5c96",
   "metadata": {},
   "outputs": [
    {
     "name": "stderr",
     "output_type": "stream",
     "text": [
      "IOPub data rate exceeded.\n",
      "The Jupyter server will temporarily stop sending output\n",
      "to the client in order to avoid crashing it.\n",
      "To change this limit, set the config variable\n",
      "`--ServerApp.iopub_data_rate_limit`.\n",
      "\n",
      "Current values:\n",
      "ServerApp.iopub_data_rate_limit=1000000.0 (bytes/sec)\n",
      "ServerApp.rate_limit_window=3.0 (secs)\n",
      "\n"
     ]
    }
   ],
   "source": [
    "display_invalid_chars(texts[2])"
   ]
  },
  {
   "cell_type": "code",
   "execution_count": 33,
   "id": "06992110-3574-4ff8-ad08-f7e4bfbed4b2",
   "metadata": {},
   "outputs": [
    {
     "name": "stderr",
     "output_type": "stream",
     "text": [
      "IOPub data rate exceeded.\n",
      "The Jupyter server will temporarily stop sending output\n",
      "to the client in order to avoid crashing it.\n",
      "To change this limit, set the config variable\n",
      "`--ServerApp.iopub_data_rate_limit`.\n",
      "\n",
      "Current values:\n",
      "ServerApp.iopub_data_rate_limit=1000000.0 (bytes/sec)\n",
      "ServerApp.rate_limit_window=3.0 (secs)\n",
      "\n"
     ]
    }
   ],
   "source": [
    "display_invalid_chars(texts[3])"
   ]
  },
  {
   "cell_type": "code",
   "execution_count": null,
   "id": "2cc55f3e-890a-4a9b-89df-e9c29b35f5cb",
   "metadata": {},
   "outputs": [],
   "source": [
    "print(\"€\" in texts[3])\n",
    "print(texts[3][246245])"
   ]
  },
  {
   "cell_type": "code",
   "execution_count": 61,
   "id": "e8e97ed5-6248-414c-88cc-c54eb7361765",
   "metadata": {},
   "outputs": [],
   "source": [
    "# Function to find and replace specified strings in a text\n",
    "def replace_strings_with_context(text, replacements, window=10, silent = False):\n",
    "    \"\"\"\n",
    "    Replaces specified strings within a text and prints the context around each replacement.\n",
    "    \n",
    "    Parameters:\n",
    "    - text: The original string where replacements are done.\n",
    "    - replacements: A dictionary where keys are the substrings to find, and values are their replacements.\n",
    "    - window: Number of characters to show before and after the replaced string for context.\n",
    "    \n",
    "    Returns:\n",
    "    - A modified string with the replacements applied.\n",
    "    \"\"\"\n",
    "    counter = 0\n",
    "    for old, new in replacements.items():\n",
    "        index = text.find(old)\n",
    "        while index != -1:\n",
    "            # Extract context around the found string\n",
    "            start = max(index - window, 0)\n",
    "            end = min(index + len(old) + window, len(text))\n",
    "            before = text[start:index]\n",
    "            after = text[index + len(old):end]\n",
    "            before = before.replace(\"\\n\", \" \")\n",
    "            before = before.replace(\"\\t\", \" \")\n",
    "            after = after.replace(\"\\n\", \" \")\n",
    "            after = after.replace(\"\\t\", \" \")\n",
    "\n",
    "            # Print before, replaced, and after strings\n",
    "            if not silent:\n",
    "                print(f\"Before: {before}[{old}]{after}\")\n",
    "                print(f\"After:  {before}[{new}]{after}\\n\")\n",
    "\n",
    "            # Replace the string in the text\n",
    "            text = text[:index] + new + text[index + len(old):]\n",
    "            counter += 1\n",
    "            \n",
    "            # Find the next occurrence of the old string\n",
    "            index = text.find(old, index + len(new))\n",
    "\n",
    "    print(f\"made {counter} changes\")\n",
    "    return text\n",
    "\n",
    "\n"
   ]
  },
  {
   "cell_type": "code",
   "execution_count": null,
   "id": "778524b4-42c4-4d3a-8245-be104a19f3c3",
   "metadata": {},
   "outputs": [],
   "source": [
    "print(ord(\"b\"))\n",
    "print(chr(98))\n",
    "print(ord(\"Ž\"))"
   ]
  },
  {
   "cell_type": "code",
   "execution_count": 24,
   "id": "1cb1632a-6465-4d17-91f1-9211a2a5be4e",
   "metadata": {},
   "outputs": [
    {
     "name": "stdout",
     "output_type": "stream",
     "text": [
      "\f",
      ": \n",
      "’: '\n",
      "‘: \"\n",
      "“: \"\n",
      "”: \"\n",
      "AdelÃ¨: Adela\n",
      "faÃ§ade: facade\n",
      "pÃ¢tisserie: patisserie\n",
      "JÃ¼rgen: Jorgen\n"
     ]
    }
   ],
   "source": [
    "replacements = dict()\n",
    "# replacements[\"t}:le\"] = \"the\"\n",
    "# replacements[\"up o~ the\"] = \"up on the\"\n",
    "# replacements[\"the ~ort\"] = \"the sort\"\n",
    "# replacements[\"than ~ might\"] = \"than might\"\n",
    "# replacements[\"the house~\"] = \"the house.\"\n",
    "# replacements[\"while ~earlier\"] = \"while earlier\"\n",
    "# replacements[\"meetings ~once\"] = \"meetings once\"\n",
    "# replacements[\"Ž\"] = \"é\"\n",
    "# replacements[\"mean- it\"] = \"mean it\"\n",
    "# replacements[\"¤\"] = \"s\"\n",
    "# replacements[\"Ð\"] = \"-\"\n",
    "# replacements[\"É\"] = '-'\n",
    "# replacements[\"Ó\"] = '\"'\n",
    "# replacements[\"Ò\"] = '\"'\n",
    "# replacements[\"Ô\"] = '\"'\n",
    "# replacements[\"Rover.Ó I thanked\"] = \"Rover  I thanked\"\n",
    "# replacements['Rover.\" I thanked'] = \"Rover  I thanked\"\n",
    "# replacements[\"Õ\"] = \"'\"\n",
    "# replacements[chr(136)] = \"à\"\n",
    "# replacements[chr(142)] = \"é\"\n",
    "# replacements[chr(144)] = \"ê\"\n",
    "# replacements[\"Ñ\"] = \"-\"\n",
    "replacements[chr(12)] = \"\"\n",
    "# replacements[\"%egan\"] = \"began\"\n",
    "# replacements[\"t4arijço\"]=\"Sachiko\"\n",
    "replacements[chr(8217)] = \"'\"\n",
    "replacements[chr(8216)] = '\"'\n",
    "replacements[chr(8220)] = '\"'\n",
    "replacements[chr(8221)] = '\"'\n",
    "# replacements[\"*\"] = '\"'\n",
    "# replacements[\"AH the same\"] = \"Ah the same\"\n",
    "# replacements[\"•\"] = \"\"\n",
    "replacements[\"AdelÃ¨\"] = \"Adela\"\n",
    "replacements[\"faÃ§ade\"] = \"facade\"\n",
    "replacements[\"pÃ¢tisserie\"] = \"patisserie\"\n",
    "replacements[\"JÃ¼rgen\"] = \"Jorgen\"\n",
    "\n",
    "\n",
    "for key, value in replacements.items():\n",
    "        print(f\"{key}: {value}\")"
   ]
  },
  {
   "cell_type": "raw",
   "id": "8992d428-1d14-472d-af48-661a6c17594d",
   "metadata": {},
   "source": []
  },
  {
   "cell_type": "code",
   "execution_count": 27,
   "id": "57aa2f39-b0a6-4f1b-8ad3-1810e78d3030",
   "metadata": {},
   "outputs": [
    {
     "name": "stdout",
     "output_type": "stream",
     "text": [
      "made 356 changes\n"
     ]
    }
   ],
   "source": [
    "text_edited = replace_strings_with_context(texts[0],replacements, silent = True)"
   ]
  },
  {
   "cell_type": "markdown",
   "id": "284826d4-de8e-4470-a65d-3d9348a8eada",
   "metadata": {},
   "source": [
    "Now see if there are any problems left:"
   ]
  },
  {
   "cell_type": "code",
   "execution_count": 28,
   "id": "7a148183-87ff-42f7-8eea-a55040664d8e",
   "metadata": {},
   "outputs": [],
   "source": [
    "display_invalid_chars(text_edited)\n"
   ]
  },
  {
   "cell_type": "code",
   "execution_count": 31,
   "id": "74281254-ae26-4d51-9476-5c185442e42d",
   "metadata": {},
   "outputs": [
    {
     "name": "stdout",
     "output_type": "stream",
     "text": [
      "1159196 egan making my way back to my seat.\n",
      "\n",
      "\n",
      "\n",
      "\n",
      "The End\n",
      "\n",
      "2 \n",
      "\n",
      "PART I\n",
      "\n",
      "\n",
      "The taxi driver seemed embarrassed to find there was no one - not even a clerk behind the reception desk\n",
      "- waiting to welcome me. He wandered across the deserted lobby, perhap\n",
      "327742  was no real need to hear any more - given adequate time, the Kazan was very\n",
      "obviously within his capabilities - and I began to walk slowly away in the direction of the lobby.\n",
      "\n",
      "\n",
      "\n",
      "\n",
      "PART II\n",
      "\n",
      "\n",
      "\n",
      "\n",
      "11\n",
      "\n",
      "\n",
      "\n",
      "\n",
      "I was woken by the ringing of the telephone on the bedside cabinet. My first thought was that I had again\n",
      "been disturbed after only a few minutes, but then I saw fro\n",
      "630031 udden wish that I was there at this very moment. I began to\n",
      "walk again, over the bridge and into the dark street, resolving to call on her in the morning at the first\n",
      "opportunity.\n",
      "PART III\n",
      "\n",
      "\n",
      "\n",
      "\n",
      "21\n",
      "\n",
      "\n",
      "\n",
      "\n",
      "I awoke to find bright sunlight pouring in through the vertical blinds and was seized by the panicky\n",
      "feeling I had let far too much of the morning slip by. But then\n",
      "892758 ne. I\n",
      "climbed onto the couch, which was just long enough for me to lie down on provided I curled my knees,\n",
      "and pulled up the blanket the proprietor's wife had left out for me.\n",
      "\n",
      "\n",
      "\n",
      "\n",
      "PART IV\n",
      "\n",
      "\n",
      "\n",
      "\n",
      "28\n",
      "\n",
      "\n",
      "\n",
      "\n",
      "I awoke with the panicky sense that I had slept far too long. In fact my first thought was that it was now\n",
      "morning and that I had missed the whole of the evening's p\n"
     ]
    }
   ],
   "source": [
    "display_text_in_context(text_edited, \"The End\", window = 40, repeat = True)\n",
    "display_text_in_context(text_edited, \"PART\", window = 180, repeat = True)"
   ]
  },
  {
   "cell_type": "code",
   "execution_count": 104,
   "id": "da73e006-a114-4a91-b0e9-1ae7714dc1e4",
   "metadata": {},
   "outputs": [
    {
     "name": "stdout",
     "output_type": "stream",
     "text": [
      "10\n"
     ]
    }
   ],
   "source": [
    "print(ord(\"\\n\"))"
   ]
  },
  {
   "cell_type": "code",
   "execution_count": 32,
   "id": "147695a7-54b1-46fe-ac3d-87bc8316ccd6",
   "metadata": {},
   "outputs": [],
   "source": [
    "titles = list()\n",
    "# titles.append((\"PART ONE\", \"Chapter One\"))\n",
    "# titles.append((\"PART TWO\", \"Chapter Four\"))\n",
    "# titles.append((\"PART THREE\", \"Chapter Ten\"))\n",
    "# titles.append((\"PART FOUR\", \"Chapter Twelve\"))\n",
    "# titles.append((\"PART FIVE\", \"Chapter Fourteen\"))\n",
    "# titles.append((\"PART SIX\", \"Chapter Sixteen\"))\n",
    "# titles.append((\"PART SEVEN\", \"Chapter Twenty-three\"))\n",
    "# titles.append((\"Part I\", \"Chapter One\"))\n",
    "# titles.append((\"Part II\", \"Chapter Six\"))\n",
    "# titles.append((\"Part III\", \"Gawain's First Reverie\"))                            \n",
    "# titles.append((\"Part IV\", \"Chapter Fifteen\"))\n",
    "\n",
    "\n",
    "\n",
    "for edit_start, edit_end in titles:\n",
    "    print(edit_start, edit_end)\n"
   ]
  },
  {
   "cell_type": "code",
   "execution_count": 45,
   "id": "8dad37fb-5a0f-4aeb-abcf-c7ecddafa19c",
   "metadata": {},
   "outputs": [],
   "source": [
    "def remove_chunks(text, chunks, remove_all = False, buffer = 100):\n",
    "    # removes chunks defines by a list of tuples, start of chunk to end of chunk, removes the second part only if remove_all is set to True\n",
    "    print(\"text length:\", len(text))\n",
    "    for edit_start, edit_end in chunks: \n",
    "        ind1 = text.find(edit_start)\n",
    "        ind2 = text.find(edit_end)\n",
    "        if remove_all:\n",
    "            ind2 += len(edit_end)\n",
    "        if ind2 > ind1 and ind2 < ind1 + 100 and ind1 != -1 and ind2 != -1:\n",
    "            print (f\"removing {edit_start} to {edit_end}\")\n",
    "            text = text[:ind1] + text[ind2:]\n",
    "        else:\n",
    "            print(f\"{edit_start} to {edit_end} not removed\")\n",
    "    print(\"text length reduced to: \", len(text))\n",
    "    return text\n"
   ]
  },
  {
   "cell_type": "code",
   "execution_count": 90,
   "id": "3fd4875a-a99c-4754-a477-cf5259f80d9d",
   "metadata": {},
   "outputs": [
    {
     "name": "stdout",
     "output_type": "stream",
     "text": [
      "removing quick to the \n",
      "The quick brown fox jumps over the lazy dog\n",
      "The lazy dog\n"
     ]
    }
   ],
   "source": [
    "#TEST\n",
    "tt = \"The quick brown fox jumps over the lazy dog\"\n",
    "tt1 = [(\"quick\", \"the \")]\n",
    "tt2 = remove_chunks(tt, tt1, remove_all = True)\n",
    "print(tt)\n",
    "print(tt2)"
   ]
  },
  {
   "cell_type": "code",
   "execution_count": 38,
   "id": "2a4b9a54-d32a-40e9-8365-bbec9e5de322",
   "metadata": {},
   "outputs": [],
   "source": [
    "#text_edited_1 = remove_chunks(text_edited, titles, remove_all = True)"
   ]
  },
  {
   "cell_type": "code",
   "execution_count": 65,
   "id": "382c3cb8-a13d-4bef-8990-ddf7a830ce51",
   "metadata": {},
   "outputs": [],
   "source": [
    "tidy_up = dict()\n",
    "tidy_up[\"  \"] = \" \" \n",
    "tidy_up[\"Chapter Sixteen\"] = \"\"\n",
    "tidy_up[\"Chapter Seventeen\"] = \"\"\n",
    "tidy_up[\"Chapter Eighteen\"] = \"\"\n",
    "tidy_up[\"Chapter Nineteen\"] = \"\"\n",
    "tidy_up[\"Chapter Two\"] = \"\"\n",
    "tidy_up[\"Chapter Three\"] = \"\"\n",
    "tidy_up[\"Chapter Four\"] = \"\"\n",
    "tidy_up[\"Chapter Five\"] = \"\"\n",
    "tidy_up[\"Chapter Six\"] = \"\"\n",
    "tidy_up[\"Chapter Seven\"] = \"\"\n",
    "tidy_up[\"Chapter Eight\"] = \"\"\n",
    "tidy_up[\"Chapter Nine\"] = \"\"\n",
    "tidy_up[\"Chapter Ten\"] = \"\"\n",
    "tidy_up[\"Chapter Eleven\"] = \"\"\n",
    "tidy_up[\"Chapter Twelve\"] = \"\"\n",
    "tidy_up[\"Chapter Thirteen\"] = \"\"\n",
    "tidy_up[\"Chapter Fourteen\"] = \"\"\n",
    "tidy_up[\"Chapter Fifteen\"] = \"\"\n",
    "tidy_up[\"Chapter Twenty-one\"] = \"\"\n",
    "tidy_up[\"Chapter Twenty-two\"] = \"\"\n",
    "tidy_up[\"Chapter Twenty\"] = \"\"\n",
    "tidy_up[\"PART I\"] = \"\"\n",
    "tidy_up[\"PART II\"] = \"\"\n",
    "tidy_up[\"PART III\"] = \"\"\n",
    "tidy_up[\"PART IV\"] = \"\"\n",
    "tidy_up[\"The End\"] = \"\"\n"
   ]
  },
  {
   "cell_type": "code",
   "execution_count": 66,
   "id": "988c4599-b731-457b-ab06-0276235031d8",
   "metadata": {},
   "outputs": [
    {
     "name": "stdout",
     "output_type": "stream",
     "text": [
      "made 5 changes\n"
     ]
    }
   ],
   "source": [
    "text_edited_2 = replace_strings_with_context(text_edited_2,tidy_up, silent = True)"
   ]
  },
  {
   "cell_type": "code",
   "execution_count": 61,
   "id": "c58b319e-dc41-4216-aefd-80b2065aac9c",
   "metadata": {},
   "outputs": [
    {
     "name": "stdout",
     "output_type": "stream",
     "text": [
      "made 0 changes\n"
     ]
    }
   ],
   "source": [
    "text_edited_2 = replace_strings_with_context(text_edited_2,tidy_up, silent = True)"
   ]
  },
  {
   "cell_type": "code",
   "execution_count": 37,
   "id": "bbde150a-55de-4a3e-8a1f-00d36f9ea1d9",
   "metadata": {},
   "outputs": [
    {
     "name": "stdout",
     "output_type": "stream",
     "text": [
      "e able to do the job. It's a delusion that's been particularly nurtured in this town. Call it a local my\n",
      "not found\n"
     ]
    }
   ],
   "source": [
    "display_text_in_context(text_edited_2, \"part\")"
   ]
  },
  {
   "cell_type": "code",
   "execution_count": 62,
   "id": "dc880600-1f93-413f-813e-61ceb513695e",
   "metadata": {},
   "outputs": [
    {
     "name": "stdout",
     "output_type": "stream",
     "text": [
      "936176\n"
     ]
    }
   ],
   "source": [
    "counter = 0\n",
    "for char in text_edited_2:\n",
    "    if char != \" \":\n",
    "        counter +=1\n",
    "print (counter)"
   ]
  },
  {
   "cell_type": "code",
   "execution_count": 63,
   "id": "58d822cf-143a-485e-9edd-af4497c173dd",
   "metadata": {},
   "outputs": [],
   "source": []
  },
  {
   "cell_type": "code",
   "execution_count": 67,
   "id": "c3f0402e-91ad-417d-a7ab-09bcfb7d0726",
   "metadata": {},
   "outputs": [],
   "source": [
    "with open(file_path_edited_2, 'w', encoding='utf-8') as f:\n",
    "    f.write(text_edited_2)"
   ]
  },
  {
   "cell_type": "markdown",
   "id": "3ba0d16b-757d-49b3-9e91-94c069acbf18",
   "metadata": {},
   "source": [
    "Check that saving and loading the corrected file doesn't change it.  There will be a change when it encounters é because it takes 2 bytes.  Up to that point, there should be no differences."
   ]
  },
  {
   "cell_type": "code",
   "execution_count": 68,
   "id": "b9943619-0fae-4421-b35f-3df15444cc94",
   "metadata": {},
   "outputs": [],
   "source": [
    "with open(file_path_edited_2, 'r', encoding='utf-8') as f:\n",
    "    text = f.read()"
   ]
  },
  {
   "cell_type": "code",
   "execution_count": 69,
   "id": "92072c71-ed76-40c4-b520-96a87b25502e",
   "metadata": {},
   "outputs": [
    {
     "data": {
      "text/plain": [
       "True"
      ]
     },
     "execution_count": 69,
     "metadata": {},
     "output_type": "execute_result"
    }
   ],
   "source": [
    "text == text_edited_2"
   ]
  },
  {
   "cell_type": "code",
   "execution_count": 114,
   "id": "48752051-c7e6-4870-b224-270b85ef1cbe",
   "metadata": {},
   "outputs": [
    {
     "data": {
      "text/plain": [
       "-1"
      ]
     },
     "execution_count": 114,
     "metadata": {},
     "output_type": "execute_result"
    }
   ],
   "source": [
    "text_edited.find(\"é\")"
   ]
  },
  {
   "cell_type": "code",
   "execution_count": 113,
   "id": "a192f721-99b8-4dda-9eed-e45c0c4a320a",
   "metadata": {},
   "outputs": [
    {
     "name": "stdout",
     "output_type": "stream",
     "text": [
      "578625 578369\n"
     ]
    }
   ],
   "source": [
    "print(len(text), len(text_edited_2))"
   ]
  },
  {
   "cell_type": "code",
   "execution_count": 115,
   "id": "ed1d3224-0c81-4e36-b5ca-fecd58465dde",
   "metadata": {},
   "outputs": [
    {
     "data": {
      "text/plain": [
       "-1"
      ]
     },
     "execution_count": 115,
     "metadata": {},
     "output_type": "execute_result"
    }
   ],
   "source": [
    "text_edited_2.find(chr(8216))"
   ]
  },
  {
   "cell_type": "code",
   "execution_count": 120,
   "id": "891e6aab-d611-4ae9-8c97-331d8ec0c47e",
   "metadata": {},
   "outputs": [
    {
     "data": {
      "text/plain": [
       "19068"
      ]
     },
     "execution_count": 120,
     "metadata": {},
     "output_type": "execute_result"
    }
   ],
   "source": [
    "text_edited_1.find(chr(8230))"
   ]
  },
  {
   "cell_type": "code",
   "execution_count": 122,
   "id": "cccbcceb-3377-4886-a7ad-25811a324f87",
   "metadata": {},
   "outputs": [
    {
     "name": "stdout",
     "output_type": "stream",
     "text": [
      "nese name, and I— perhaps out \n",
      "f the\n",
      "city.'\n",
      "\"Oh really? I didn't realize that. You lived there with…with friends?\"\n",
      "Sachiko stopped pouring and looked a\n"
     ]
    }
   ],
   "source": [
    "print(text_edited_1[200:230])\n",
    "print(text_edited_1[19000:19120])\n",
    "      "
   ]
  },
  {
   "cell_type": "code",
   "execution_count": 70,
   "id": "29278a47-903b-4cda-9983-e1625d9ce6c9",
   "metadata": {},
   "outputs": [
    {
     "name": "stdout",
     "output_type": "stream",
     "text": [
      "Found broken word: not-so\n",
      "Found broken word: so-called\n",
      "Found broken word: mock-pompous\n",
      "Found broken word: near-darkness\n",
      "Found broken word: pudgy-faced\n",
      "Found broken word: sun-filled\n",
      "Found broken word: full-chested\n",
      "Found broken word: nervous-looking\n",
      "Found broken word: red-nosed\n",
      "Found broken word: have-no\n",
      "Found broken word: half-way\n",
      "Found broken word: high-pitched\n",
      "Found broken word: mid-sentence\n",
      "Found broken word: self-possessed\n",
      "Found broken word: half-finished\n",
      "Found broken word: early-morning\n",
      "16\n",
      "1159560\n"
     ]
    }
   ],
   "source": [
    "\n",
    "# Sample text with hyphenated words across lines\n",
    "t = texts[0]\n",
    "# Use regex to find words that are hyphenated across lines\n",
    "# Match sequences where a hyphen is at the end of a line, followed by a newline, and then continued with a word\n",
    "hyphenated_words = re.findall(r\"(\\w+)-\\n(\\w+)\", t)\n",
    "\n",
    "# Print the hyphenated words\n",
    "for first_part, second_part in hyphenated_words:\n",
    "    print(f\"Found broken word: {first_part}-{second_part}\")\n",
    "print(len(hyphenated_words))\n",
    "print(len(t))\n"
   ]
  },
  {
   "cell_type": "code",
   "execution_count": null,
   "id": "7f4a3a26-30be-4c94-8060-8d422247fbcc",
   "metadata": {},
   "outputs": [],
   "source": []
  }
 ],
 "metadata": {
  "kernelspec": {
   "display_name": "Python 3 (ipykernel)",
   "language": "python",
   "name": "python3"
  },
  "language_info": {
   "codemirror_mode": {
    "name": "ipython",
    "version": 3
   },
   "file_extension": ".py",
   "mimetype": "text/x-python",
   "name": "python",
   "nbconvert_exporter": "python",
   "pygments_lexer": "ipython3",
   "version": "3.9.19"
  }
 },
 "nbformat": 4,
 "nbformat_minor": 5
}
